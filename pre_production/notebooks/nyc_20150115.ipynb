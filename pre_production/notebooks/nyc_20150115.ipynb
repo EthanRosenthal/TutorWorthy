{
 "metadata": {
  "name": "",
  "signature": "sha256:7f179d374e89d1c65f13b68e734a0aad6c577a65c54b1e47c6301d75c38d58dc"
 },
 "nbformat": 3,
 "nbformat_minor": 0,
 "worksheets": [
  {
   "cells": [
    {
     "cell_type": "code",
     "collapsed": false,
     "input": [
      "%matplotlib inline\n",
      "import matplotlib\n",
      "import matplotlib.pyplot as plt\n",
      "import numpy as np\n",
      "import pandas as pd\n",
      "from pandas import DataFrame, Series\n",
      "import seaborn as sns\n",
      "import itertools\n",
      "import json\n",
      "import re\n",
      "import sklearn\n",
      "\n",
      "from sklearn import cross_validation\n",
      "from sklearn import tree\n",
      "from sklearn import svm\n",
      "from sklearn import ensemble\n",
      "from sklearn import neighbors\n",
      "from sklearn import linear_model\n",
      "from sklearn import metrics\n",
      "from sklearn import preprocessing\n",
      "\n",
      "sns.set()\n",
      "matplotlib.rcParams['savefig.dpi'] = 1.5 * matplotlib.rcParams['savefig.dpi']"
     ],
     "language": "python",
     "metadata": {},
     "outputs": [],
     "prompt_number": 1
    },
    {
     "cell_type": "code",
     "collapsed": false,
     "input": [
      "path = '../data/nyc_20150116.txt'\n",
      "df = DataFrame([json.loads(line) for line in open(path)])"
     ],
     "language": "python",
     "metadata": {},
     "outputs": [],
     "prompt_number": 2
    },
    {
     "cell_type": "code",
     "collapsed": false,
     "input": [
      "## Just get the subjects (ignore topics)\n",
      "just_subjects = df['raw_subjects']\n",
      "just_subjects = just_subjects.apply(lambda x: x.values()) # Get rid of topics\n",
      "just_subjects = just_subjects.apply(lambda x: list(set(y.strip(' ') for z in x for y in z))) # Flatten lists (see below for better?)\n",
      "just_subjects.name = 'just_subjects'\n",
      "df = pd.concat([df, just_subjects], axis=1)\n",
      "df.head()"
     ],
     "language": "python",
     "metadata": {},
     "outputs": [
      {
       "html": [
        "<div style=\"max-height:1000px;max-width:1500px;overflow:auto;\">\n",
        "<table border=\"1\" class=\"dataframe\">\n",
        "  <thead>\n",
        "    <tr style=\"text-align: right;\">\n",
        "      <th></th>\n",
        "      <th>badge</th>\n",
        "      <th>education</th>\n",
        "      <th>hourly_rate</th>\n",
        "      <th>linked_subjects</th>\n",
        "      <th>name</th>\n",
        "      <th>number_of_ratings</th>\n",
        "      <th>profile_picture</th>\n",
        "      <th>qual_subjects</th>\n",
        "      <th>rating</th>\n",
        "      <th>raw_subjects</th>\n",
        "      <th>zip_code</th>\n",
        "      <th>zip_radius</th>\n",
        "      <th>just_subjects</th>\n",
        "    </tr>\n",
        "  </thead>\n",
        "  <tbody>\n",
        "    <tr>\n",
        "      <th>0</th>\n",
        "      <td> Over 100 tutoring hours</td>\n",
        "      <td> {u'Massachusets Institute of Technology': [u'E...</td>\n",
        "      <td> 120</td>\n",
        "      <td> {u'Sports/Recreation': [], u'Business': [], u'...</td>\n",
        "      <td>  Malik K.</td>\n",
        "      <td>   7</td>\n",
        "      <td> True</td>\n",
        "      <td> {u'Sports/Recreation': [], u'Business': [u'Mic...</td>\n",
        "      <td> 5</td>\n",
        "      <td> {u'Sports/Recreation': [u'Martial Arts'], u'Bu...</td>\n",
        "      <td> 10030</td>\n",
        "      <td> 10</td>\n",
        "      <td> [SAT Math, ACT English, Calculus, ACT Science,...</td>\n",
        "    </tr>\n",
        "    <tr>\n",
        "      <th>1</th>\n",
        "      <td>  Over 50 tutoring hours</td>\n",
        "      <td> {u'Universidad de Barcelona': [u'MEd'], u'Inst...</td>\n",
        "      <td> 120</td>\n",
        "      <td> {u'Homeschool': [], u'Language': [], u'Corpora...</td>\n",
        "      <td>  Pablo E.</td>\n",
        "      <td>  30</td>\n",
        "      <td> True</td>\n",
        "      <td> {u'Homeschool': [], u'Language': [], u'Corpora...</td>\n",
        "      <td> 5</td>\n",
        "      <td> {u'Homeschool': [u'Spanish'], u'Language': [u'...</td>\n",
        "      <td> 10028</td>\n",
        "      <td>  3</td>\n",
        "      <td>                                         [Spanish]</td>\n",
        "    </tr>\n",
        "    <tr>\n",
        "      <th>2</th>\n",
        "      <td> Over 100 tutoring hours</td>\n",
        "      <td> {u'Yale College': [u'History'], u'Columbia Uni...</td>\n",
        "      <td> 140</td>\n",
        "      <td> {u'Test Preparation': [], u'Business': [], u'C...</td>\n",
        "      <td> Horace G.</td>\n",
        "      <td>  66</td>\n",
        "      <td> True</td>\n",
        "      <td> {u'Test Preparation': [u'ACT English, ', u'ACT...</td>\n",
        "      <td> 5</td>\n",
        "      <td> {u'Test Preparation': [u'ACT English', u'ACT M...</td>\n",
        "      <td> 10019</td>\n",
        "      <td> 40</td>\n",
        "      <td> [ACT Science, SAT Writing, SAT Reading, Busine...</td>\n",
        "    </tr>\n",
        "    <tr>\n",
        "      <th>3</th>\n",
        "      <td> Over 400 tutoring hours</td>\n",
        "      <td>                           {u'no_university': u''}</td>\n",
        "      <td> 150</td>\n",
        "      <td>                         {u'Test Preparation': []}</td>\n",
        "      <td>     JD M.</td>\n",
        "      <td> 106</td>\n",
        "      <td> True</td>\n",
        "      <td>                         {u'Test Preparation': []}</td>\n",
        "      <td> 5</td>\n",
        "      <td>                  {u'Test Preparation': [u'LSAT']}</td>\n",
        "      <td> 10036</td>\n",
        "      <td> 40</td>\n",
        "      <td>                                            [LSAT]</td>\n",
        "    </tr>\n",
        "    <tr>\n",
        "      <th>4</th>\n",
        "      <td> Over 200 tutoring hours</td>\n",
        "      <td> {u'University of California at Santa Barbara':...</td>\n",
        "      <td>  60</td>\n",
        "      <td> {u'English': [], u'Homeschool': [], u'Elementa...</td>\n",
        "      <td> Cheryl F.</td>\n",
        "      <td>  20</td>\n",
        "      <td> True</td>\n",
        "      <td> {u'English': [u'English, ', u'Literature, ', u...</td>\n",
        "      <td> 5</td>\n",
        "      <td> {u'English': [u'English', u'ESL/ESOL', u'Gramm...</td>\n",
        "      <td> 10012</td>\n",
        "      <td> 40</td>\n",
        "      <td> [Literature, Grammar, Vocabulary, Elementary (...</td>\n",
        "    </tr>\n",
        "  </tbody>\n",
        "</table>\n",
        "</div>"
       ],
       "metadata": {},
       "output_type": "pyout",
       "prompt_number": 3,
       "text": [
        "                     badge                                          education  \\\n",
        "0  Over 100 tutoring hours  {u'Massachusets Institute of Technology': [u'E...   \n",
        "1   Over 50 tutoring hours  {u'Universidad de Barcelona': [u'MEd'], u'Inst...   \n",
        "2  Over 100 tutoring hours  {u'Yale College': [u'History'], u'Columbia Uni...   \n",
        "3  Over 400 tutoring hours                            {u'no_university': u''}   \n",
        "4  Over 200 tutoring hours  {u'University of California at Santa Barbara':...   \n",
        "\n",
        "   hourly_rate                                    linked_subjects       name  \\\n",
        "0          120  {u'Sports/Recreation': [], u'Business': [], u'...   Malik K.   \n",
        "1          120  {u'Homeschool': [], u'Language': [], u'Corpora...   Pablo E.   \n",
        "2          140  {u'Test Preparation': [], u'Business': [], u'C...  Horace G.   \n",
        "3          150                          {u'Test Preparation': []}      JD M.   \n",
        "4           60  {u'English': [], u'Homeschool': [], u'Elementa...  Cheryl F.   \n",
        "\n",
        "   number_of_ratings profile_picture  \\\n",
        "0                  7            True   \n",
        "1                 30            True   \n",
        "2                 66            True   \n",
        "3                106            True   \n",
        "4                 20            True   \n",
        "\n",
        "                                       qual_subjects  rating  \\\n",
        "0  {u'Sports/Recreation': [], u'Business': [u'Mic...       5   \n",
        "1  {u'Homeschool': [], u'Language': [], u'Corpora...       5   \n",
        "2  {u'Test Preparation': [u'ACT English, ', u'ACT...       5   \n",
        "3                          {u'Test Preparation': []}       5   \n",
        "4  {u'English': [u'English, ', u'Literature, ', u...       5   \n",
        "\n",
        "                                        raw_subjects zip_code zip_radius  \\\n",
        "0  {u'Sports/Recreation': [u'Martial Arts'], u'Bu...    10030         10   \n",
        "1  {u'Homeschool': [u'Spanish'], u'Language': [u'...    10028          3   \n",
        "2  {u'Test Preparation': [u'ACT English', u'ACT M...    10019         40   \n",
        "3                   {u'Test Preparation': [u'LSAT']}    10036         40   \n",
        "4  {u'English': [u'English', u'ESL/ESOL', u'Gramm...    10012         40   \n",
        "\n",
        "                                       just_subjects  \n",
        "0  [SAT Math, ACT English, Calculus, ACT Science,...  \n",
        "1                                          [Spanish]  \n",
        "2  [ACT Science, SAT Writing, SAT Reading, Busine...  \n",
        "3                                             [LSAT]  \n",
        "4  [Literature, Grammar, Vocabulary, Elementary (...  "
       ]
      }
     ],
     "prompt_number": 3
    },
    {
     "cell_type": "heading",
     "level": 2,
     "metadata": {},
     "source": [
      "Convert subject mentions to boolean features"
     ]
    },
    {
     "cell_type": "code",
     "collapsed": false,
     "input": [
      "possible_subjects = list(set(itertools.chain.from_iterable(df['just_subjects'].values)))"
     ],
     "language": "python",
     "metadata": {},
     "outputs": [],
     "prompt_number": 4
    },
    {
     "cell_type": "code",
     "collapsed": false,
     "input": [
      "dummies_df = DataFrame(columns=possible_subjects, dtype='Bool')\n",
      "\n",
      "def subj_to_bool(row, categories):\n",
      "    \"\"\" Convert subjects to boolean values\"\"\"\n",
      "    out_row = []\n",
      "    for subj in categories:\n",
      "        if subj in row:\n",
      "            out_row.append(True)\n",
      "        else:\n",
      "            out_row.append(False)\n",
      "    return np.array(out_row)"
     ],
     "language": "python",
     "metadata": {},
     "outputs": [],
     "prompt_number": 5
    },
    {
     "cell_type": "code",
     "collapsed": false,
     "input": [
      "# Make new boolean column for each subject. Place in dummies_df DataFrame\n",
      "for i in xrange(0, df.shape[0]):\n",
      "    dummies_df.loc[i] = subj_to_bool(df['just_subjects'].loc[i], possible_subjects)\n",
      "dummies_df.head()"
     ],
     "language": "python",
     "metadata": {},
     "outputs": [
      {
       "ename": "KeyboardInterrupt",
       "evalue": "",
       "output_type": "pyerr",
       "traceback": [
        "\u001b[1;31m---------------------------------------------------------------------------\u001b[0m\n\u001b[1;31mKeyboardInterrupt\u001b[0m                         Traceback (most recent call last)",
        "\u001b[1;32m<ipython-input-6-a305a13657d5>\u001b[0m in \u001b[0;36m<module>\u001b[1;34m()\u001b[0m\n\u001b[0;32m      1\u001b[0m \u001b[1;31m# Make new boolean column for each subject. Place in dummies_df DataFrame\u001b[0m\u001b[1;33m\u001b[0m\u001b[1;33m\u001b[0m\u001b[0m\n\u001b[0;32m      2\u001b[0m \u001b[1;32mfor\u001b[0m \u001b[0mi\u001b[0m \u001b[1;32min\u001b[0m \u001b[0mxrange\u001b[0m\u001b[1;33m(\u001b[0m\u001b[1;36m0\u001b[0m\u001b[1;33m,\u001b[0m \u001b[0mdf\u001b[0m\u001b[1;33m.\u001b[0m\u001b[0mshape\u001b[0m\u001b[1;33m[\u001b[0m\u001b[1;36m0\u001b[0m\u001b[1;33m]\u001b[0m\u001b[1;33m)\u001b[0m\u001b[1;33m:\u001b[0m\u001b[1;33m\u001b[0m\u001b[0m\n\u001b[1;32m----> 3\u001b[1;33m     \u001b[0mdummies_df\u001b[0m\u001b[1;33m.\u001b[0m\u001b[0mloc\u001b[0m\u001b[1;33m[\u001b[0m\u001b[0mi\u001b[0m\u001b[1;33m]\u001b[0m \u001b[1;33m=\u001b[0m \u001b[0msubj_to_bool\u001b[0m\u001b[1;33m(\u001b[0m\u001b[0mdf\u001b[0m\u001b[1;33m[\u001b[0m\u001b[1;34m'just_subjects'\u001b[0m\u001b[1;33m]\u001b[0m\u001b[1;33m.\u001b[0m\u001b[0mloc\u001b[0m\u001b[1;33m[\u001b[0m\u001b[0mi\u001b[0m\u001b[1;33m]\u001b[0m\u001b[1;33m,\u001b[0m \u001b[0mpossible_subjects\u001b[0m\u001b[1;33m)\u001b[0m\u001b[1;33m\u001b[0m\u001b[0m\n\u001b[0m\u001b[0;32m      4\u001b[0m \u001b[0mdummies_df\u001b[0m\u001b[1;33m.\u001b[0m\u001b[0mhead\u001b[0m\u001b[1;33m(\u001b[0m\u001b[1;33m)\u001b[0m\u001b[1;33m\u001b[0m\u001b[0m\n",
        "\u001b[1;32m/usr/local/lib/python2.7/dist-packages/pandas/core/indexing.pyc\u001b[0m in \u001b[0;36m__setitem__\u001b[1;34m(self, key, value)\u001b[0m\n\u001b[0;32m    119\u001b[0m                 \u001b[0mindexer\u001b[0m \u001b[1;33m=\u001b[0m \u001b[0mself\u001b[0m\u001b[1;33m.\u001b[0m\u001b[0m_convert_to_indexer\u001b[0m\u001b[1;33m(\u001b[0m\u001b[0mkey\u001b[0m\u001b[1;33m,\u001b[0m \u001b[0mis_setter\u001b[0m\u001b[1;33m=\u001b[0m\u001b[0mTrue\u001b[0m\u001b[1;33m)\u001b[0m\u001b[1;33m\u001b[0m\u001b[0m\n\u001b[0;32m    120\u001b[0m \u001b[1;33m\u001b[0m\u001b[0m\n\u001b[1;32m--> 121\u001b[1;33m         \u001b[0mself\u001b[0m\u001b[1;33m.\u001b[0m\u001b[0m_setitem_with_indexer\u001b[0m\u001b[1;33m(\u001b[0m\u001b[0mindexer\u001b[0m\u001b[1;33m,\u001b[0m \u001b[0mvalue\u001b[0m\u001b[1;33m)\u001b[0m\u001b[1;33m\u001b[0m\u001b[0m\n\u001b[0m\u001b[0;32m    122\u001b[0m \u001b[1;33m\u001b[0m\u001b[0m\n\u001b[0;32m    123\u001b[0m     \u001b[1;32mdef\u001b[0m \u001b[0m_has_valid_type\u001b[0m\u001b[1;33m(\u001b[0m\u001b[0mself\u001b[0m\u001b[1;33m,\u001b[0m \u001b[0mk\u001b[0m\u001b[1;33m,\u001b[0m \u001b[0maxis\u001b[0m\u001b[1;33m)\u001b[0m\u001b[1;33m:\u001b[0m\u001b[1;33m\u001b[0m\u001b[0m\n",
        "\u001b[1;32m/usr/local/lib/python2.7/dist-packages/pandas/core/indexing.pyc\u001b[0m in \u001b[0;36m_setitem_with_indexer\u001b[1;34m(self, indexer, value)\u001b[0m\n\u001b[0;32m    322\u001b[0m                         \u001b[0mvalue\u001b[0m \u001b[1;33m=\u001b[0m \u001b[0mSeries\u001b[0m\u001b[1;33m(\u001b[0m\u001b[0mvalue\u001b[0m\u001b[1;33m,\u001b[0m\u001b[0mindex\u001b[0m\u001b[1;33m=\u001b[0m\u001b[0mself\u001b[0m\u001b[1;33m.\u001b[0m\u001b[0mobj\u001b[0m\u001b[1;33m.\u001b[0m\u001b[0mcolumns\u001b[0m\u001b[1;33m,\u001b[0m\u001b[0mname\u001b[0m\u001b[1;33m=\u001b[0m\u001b[0mindexer\u001b[0m\u001b[1;33m)\u001b[0m\u001b[1;33m\u001b[0m\u001b[0m\n\u001b[0;32m    323\u001b[0m \u001b[1;33m\u001b[0m\u001b[0m\n\u001b[1;32m--> 324\u001b[1;33m                     \u001b[0mself\u001b[0m\u001b[1;33m.\u001b[0m\u001b[0mobj\u001b[0m\u001b[1;33m.\u001b[0m\u001b[0m_data\u001b[0m \u001b[1;33m=\u001b[0m \u001b[0mself\u001b[0m\u001b[1;33m.\u001b[0m\u001b[0mobj\u001b[0m\u001b[1;33m.\u001b[0m\u001b[0mappend\u001b[0m\u001b[1;33m(\u001b[0m\u001b[0mvalue\u001b[0m\u001b[1;33m)\u001b[0m\u001b[1;33m.\u001b[0m\u001b[0m_data\u001b[0m\u001b[1;33m\u001b[0m\u001b[0m\n\u001b[0m\u001b[0;32m    325\u001b[0m                     \u001b[0mself\u001b[0m\u001b[1;33m.\u001b[0m\u001b[0mobj\u001b[0m\u001b[1;33m.\u001b[0m\u001b[0m_maybe_update_cacher\u001b[0m\u001b[1;33m(\u001b[0m\u001b[0mclear\u001b[0m\u001b[1;33m=\u001b[0m\u001b[0mTrue\u001b[0m\u001b[1;33m)\u001b[0m\u001b[1;33m\u001b[0m\u001b[0m\n\u001b[0;32m    326\u001b[0m                     \u001b[1;32mreturn\u001b[0m \u001b[0mself\u001b[0m\u001b[1;33m.\u001b[0m\u001b[0mobj\u001b[0m\u001b[1;33m\u001b[0m\u001b[0m\n",
        "\u001b[1;32m/usr/local/lib/python2.7/dist-packages/pandas/core/frame.pyc\u001b[0m in \u001b[0;36mappend\u001b[1;34m(self, other, ignore_index, verify_integrity)\u001b[0m\n\u001b[0;32m   3780\u001b[0m             \u001b[0mto_concat\u001b[0m \u001b[1;33m=\u001b[0m \u001b[1;33m[\u001b[0m\u001b[0mself\u001b[0m\u001b[1;33m,\u001b[0m \u001b[0mother\u001b[0m\u001b[1;33m]\u001b[0m\u001b[1;33m\u001b[0m\u001b[0m\n\u001b[0;32m   3781\u001b[0m         return concat(to_concat, ignore_index=ignore_index,\n\u001b[1;32m-> 3782\u001b[1;33m                       verify_integrity=verify_integrity)\n\u001b[0m\u001b[0;32m   3783\u001b[0m \u001b[1;33m\u001b[0m\u001b[0m\n\u001b[0;32m   3784\u001b[0m     def join(self, other, on=None, how='left', lsuffix='', rsuffix='',\n",
        "\u001b[1;32m/usr/local/lib/python2.7/dist-packages/pandas/tools/merge.pyc\u001b[0m in \u001b[0;36mconcat\u001b[1;34m(objs, axis, join, join_axes, ignore_index, keys, levels, names, verify_integrity, copy)\u001b[0m\n\u001b[0;32m    721\u001b[0m                        \u001b[0mverify_integrity\u001b[0m\u001b[1;33m=\u001b[0m\u001b[0mverify_integrity\u001b[0m\u001b[1;33m,\u001b[0m\u001b[1;33m\u001b[0m\u001b[0m\n\u001b[0;32m    722\u001b[0m                        copy=copy)\n\u001b[1;32m--> 723\u001b[1;33m     \u001b[1;32mreturn\u001b[0m \u001b[0mop\u001b[0m\u001b[1;33m.\u001b[0m\u001b[0mget_result\u001b[0m\u001b[1;33m(\u001b[0m\u001b[1;33m)\u001b[0m\u001b[1;33m\u001b[0m\u001b[0m\n\u001b[0m\u001b[0;32m    724\u001b[0m \u001b[1;33m\u001b[0m\u001b[0m\n\u001b[0;32m    725\u001b[0m \u001b[1;33m\u001b[0m\u001b[0m\n",
        "\u001b[1;32m/usr/local/lib/python2.7/dist-packages/pandas/tools/merge.pyc\u001b[0m in \u001b[0;36mget_result\u001b[1;34m(self)\u001b[0m\n\u001b[0;32m    884\u001b[0m \u001b[1;33m\u001b[0m\u001b[0m\n\u001b[0;32m    885\u001b[0m             new_data = concatenate_block_managers(\n\u001b[1;32m--> 886\u001b[1;33m                 mgrs_indexers, self.new_axes, concat_axis=self.axis, copy=self.copy)\n\u001b[0m\u001b[0;32m    887\u001b[0m             \u001b[1;32mif\u001b[0m \u001b[1;32mnot\u001b[0m \u001b[0mself\u001b[0m\u001b[1;33m.\u001b[0m\u001b[0mcopy\u001b[0m\u001b[1;33m:\u001b[0m\u001b[1;33m\u001b[0m\u001b[0m\n\u001b[0;32m    888\u001b[0m                 \u001b[0mnew_data\u001b[0m\u001b[1;33m.\u001b[0m\u001b[0m_consolidate_inplace\u001b[0m\u001b[1;33m(\u001b[0m\u001b[1;33m)\u001b[0m\u001b[1;33m\u001b[0m\u001b[0m\n",
        "\u001b[1;32m/usr/local/lib/python2.7/dist-packages/pandas/core/internals.pyc\u001b[0m in \u001b[0;36mconcatenate_block_managers\u001b[1;34m(mgrs_indexers, axes, concat_axis, copy)\u001b[0m\n\u001b[0;32m   3964\u001b[0m               for placement, join_units in concat_plan]\n\u001b[0;32m   3965\u001b[0m \u001b[1;33m\u001b[0m\u001b[0m\n\u001b[1;32m-> 3966\u001b[1;33m     \u001b[1;32mreturn\u001b[0m \u001b[0mBlockManager\u001b[0m\u001b[1;33m(\u001b[0m\u001b[0mblocks\u001b[0m\u001b[1;33m,\u001b[0m \u001b[0maxes\u001b[0m\u001b[1;33m)\u001b[0m\u001b[1;33m\u001b[0m\u001b[0m\n\u001b[0m\u001b[0;32m   3967\u001b[0m \u001b[1;33m\u001b[0m\u001b[0m\n\u001b[0;32m   3968\u001b[0m \u001b[1;33m\u001b[0m\u001b[0m\n",
        "\u001b[1;32m/usr/local/lib/python2.7/dist-packages/pandas/core/internals.pyc\u001b[0m in \u001b[0;36m__init__\u001b[1;34m(self, blocks, axes, do_integrity_check, fastpath)\u001b[0m\n\u001b[0;32m   2139\u001b[0m         \u001b[0mself\u001b[0m\u001b[1;33m.\u001b[0m\u001b[0m_consolidate_check\u001b[0m\u001b[1;33m(\u001b[0m\u001b[1;33m)\u001b[0m\u001b[1;33m\u001b[0m\u001b[0m\n\u001b[0;32m   2140\u001b[0m \u001b[1;33m\u001b[0m\u001b[0m\n\u001b[1;32m-> 2141\u001b[1;33m         \u001b[0mself\u001b[0m\u001b[1;33m.\u001b[0m\u001b[0m_rebuild_blknos_and_blklocs\u001b[0m\u001b[1;33m(\u001b[0m\u001b[1;33m)\u001b[0m\u001b[1;33m\u001b[0m\u001b[0m\n\u001b[0m\u001b[0;32m   2142\u001b[0m \u001b[1;33m\u001b[0m\u001b[0m\n\u001b[0;32m   2143\u001b[0m     \u001b[1;32mdef\u001b[0m \u001b[0mmake_empty\u001b[0m\u001b[1;33m(\u001b[0m\u001b[0mself\u001b[0m\u001b[1;33m,\u001b[0m \u001b[0maxes\u001b[0m\u001b[1;33m=\u001b[0m\u001b[0mNone\u001b[0m\u001b[1;33m)\u001b[0m\u001b[1;33m:\u001b[0m\u001b[1;33m\u001b[0m\u001b[0m\n",
        "\u001b[1;32m/usr/local/lib/python2.7/dist-packages/pandas/core/internals.pyc\u001b[0m in \u001b[0;36m_rebuild_blknos_and_blklocs\u001b[1;34m(self)\u001b[0m\n\u001b[0;32m   2227\u001b[0m             \u001b[0mrl\u001b[0m \u001b[1;33m=\u001b[0m \u001b[0mblk\u001b[0m\u001b[1;33m.\u001b[0m\u001b[0mmgr_locs\u001b[0m\u001b[1;33m\u001b[0m\u001b[0m\n\u001b[0;32m   2228\u001b[0m             \u001b[0mnew_blknos\u001b[0m\u001b[1;33m[\u001b[0m\u001b[0mrl\u001b[0m\u001b[1;33m.\u001b[0m\u001b[0mindexer\u001b[0m\u001b[1;33m]\u001b[0m \u001b[1;33m=\u001b[0m \u001b[0mblkno\u001b[0m\u001b[1;33m\u001b[0m\u001b[0m\n\u001b[1;32m-> 2229\u001b[1;33m             \u001b[0mnew_blklocs\u001b[0m\u001b[1;33m[\u001b[0m\u001b[0mrl\u001b[0m\u001b[1;33m.\u001b[0m\u001b[0mindexer\u001b[0m\u001b[1;33m]\u001b[0m \u001b[1;33m=\u001b[0m \u001b[0mnp\u001b[0m\u001b[1;33m.\u001b[0m\u001b[0marange\u001b[0m\u001b[1;33m(\u001b[0m\u001b[0mlen\u001b[0m\u001b[1;33m(\u001b[0m\u001b[0mrl\u001b[0m\u001b[1;33m)\u001b[0m\u001b[1;33m)\u001b[0m\u001b[1;33m\u001b[0m\u001b[0m\n\u001b[0m\u001b[0;32m   2230\u001b[0m \u001b[1;33m\u001b[0m\u001b[0m\n\u001b[0;32m   2231\u001b[0m         \u001b[1;32mif\u001b[0m \u001b[1;33m(\u001b[0m\u001b[0mnew_blknos\u001b[0m \u001b[1;33m==\u001b[0m \u001b[1;33m-\u001b[0m\u001b[1;36m1\u001b[0m\u001b[1;33m)\u001b[0m\u001b[1;33m.\u001b[0m\u001b[0many\u001b[0m\u001b[1;33m(\u001b[0m\u001b[1;33m)\u001b[0m\u001b[1;33m:\u001b[0m\u001b[1;33m\u001b[0m\u001b[0m\n",
        "\u001b[1;31mKeyboardInterrupt\u001b[0m: "
       ]
      }
     ],
     "prompt_number": 6
    },
    {
     "cell_type": "code",
     "collapsed": false,
     "input": [
      "df_comb = pd.concat([df, dummies_df], axis=1)"
     ],
     "language": "python",
     "metadata": {},
     "outputs": []
    },
    {
     "cell_type": "heading",
     "level": 2,
     "metadata": {},
     "source": [
      "Plot average hourly rate with standard deviation vs. mention of subject"
     ]
    },
    {
     "cell_type": "code",
     "collapsed": false,
     "input": [
      "def hourly_rate_by_subject(df, column):\n",
      "    out = {}\n",
      "    for subject in column:\n",
      "        tmp = df[df[subject]==True]['hourly_rate']\n",
      "        out[subject] = {'mean':tmp.mean(), 'stdev':tmp.std()}\n",
      "    return DataFrame(out).transpose()\n",
      "\n",
      "hourly_subject_rates = hourly_rate_by_subject(df_comb, possible_subjects)\n",
      "hourly_subject_rates.head()"
     ],
     "language": "python",
     "metadata": {},
     "outputs": []
    },
    {
     "cell_type": "code",
     "collapsed": false,
     "input": [
      "hourly_subject_rates = hourly_subject_rates.sort(axis=0, columns='mean')"
     ],
     "language": "python",
     "metadata": {},
     "outputs": []
    },
    {
     "cell_type": "code",
     "collapsed": false,
     "input": [
      "current_palette = sns.color_palette()"
     ],
     "language": "python",
     "metadata": {},
     "outputs": []
    },
    {
     "cell_type": "code",
     "collapsed": false,
     "input": [
      "fig, ax = plt.subplots()\n",
      "\n",
      "plt.errorbar(np.linspace(0,1,len(hourly_subject_rates.index.tolist())), \\\n",
      "             hourly_subject_rates['mean'], yerr=hourly_subject_rates['stdev'], \\\n",
      "             ecolor=current_palette[2], alpha=0.5)\n",
      "plt.xticks(np.linspace(0,1,len(hourly_subject_rates.index.tolist())/20), \\\n",
      "           hourly_subject_rates.index.tolist()[::20], rotation=40, \\\n",
      "           horizontalalignment='right')\n",
      "\n",
      "plt.axis([0, 1, 0, 180])\n",
      "plt.xlabel('Tutoring Subject', fontsize=16)\n",
      "plt.ylabel('Hourly Rate', fontsize=16)"
     ],
     "language": "python",
     "metadata": {},
     "outputs": []
    },
    {
     "cell_type": "heading",
     "level": 2,
     "metadata": {},
     "source": [
      "Convert badge info to hours and boolean"
     ]
    },
    {
     "cell_type": "code",
     "collapsed": false,
     "input": [
      "numbers_regex = re.compile('\\d+')\n",
      "\n",
      "def get_badge_info(row, numbers_regex):\n",
      "    row_regex = re.findall(numbers_regex, row)\n",
      "    if len(row_regex)==1:\n",
      "        return Series({'has_badge':True, 'badge_hours':int(row_regex[0])})\n",
      "    else:\n",
      "        return Series({'has_badge':False, 'badge_hours':0})\n",
      "\n",
      "badge_df = df['badge'].apply(lambda x: get_badge_info(x, numbers_regex))\n",
      "badge_df.head()"
     ],
     "language": "python",
     "metadata": {},
     "outputs": []
    },
    {
     "cell_type": "code",
     "collapsed": false,
     "input": [
      "df_comb = pd.concat([df_comb, badge_df], axis=1)\n",
      "df_comb = df_comb.drop('badge', axis=1)\n",
      "df_comb.head()"
     ],
     "language": "python",
     "metadata": {},
     "outputs": []
    },
    {
     "cell_type": "heading",
     "level": 2,
     "metadata": {},
     "source": [
      "Cleanup ratings and convert to boolean"
     ]
    },
    {
     "cell_type": "code",
     "collapsed": false,
     "input": [
      "has_rating = df_comb['rating'].apply(lambda x: np.isnan(x))\n",
      "has_rating.name = 'has_rating'\n",
      "df_comb = pd.concat([df_comb, has_rating], axis=1)"
     ],
     "language": "python",
     "metadata": {},
     "outputs": []
    },
    {
     "cell_type": "code",
     "collapsed": false,
     "input": [
      "df_comb['rating'].apply(lambda x: np.isnan(x))"
     ],
     "language": "python",
     "metadata": {},
     "outputs": []
    },
    {
     "cell_type": "code",
     "collapsed": false,
     "input": [
      "subject_sort = df_comb[df_comb[possible_subjects]==True][possible_subjects].sum()\n",
      "subject_sort.sort()\n",
      "print subject_sort.describe()"
     ],
     "language": "python",
     "metadata": {},
     "outputs": []
    },
    {
     "cell_type": "code",
     "collapsed": false,
     "input": [
      "subject_sort.plot(fontsize=12)\n",
      "plt.xlabel('Tutoring Subject', fontsize=16)\n",
      "plt.ylabel('Counts', fontsize=16)"
     ],
     "language": "python",
     "metadata": {},
     "outputs": []
    },
    {
     "cell_type": "heading",
     "level": 2,
     "metadata": {},
     "source": [
      "Play with some scikit-learn"
     ]
    },
    {
     "cell_type": "code",
     "collapsed": false,
     "input": [
      "y = df_comb['hourly_rate'].as_matrix().astype(np.float32)"
     ],
     "language": "python",
     "metadata": {},
     "outputs": []
    },
    {
     "cell_type": "code",
     "collapsed": false,
     "input": [
      "df_comb.head()"
     ],
     "language": "python",
     "metadata": {},
     "outputs": []
    },
    {
     "cell_type": "code",
     "collapsed": false,
     "input": [
      "X_features = ['profile_picture', 'has_badge', 'has_rating']\n",
      "X_features.extend(possible_subjects)\n",
      "X = df_comb[X_features].as_matrix().astype(np.float)\n",
      "\n",
      "scaler = preprocessing.StandardScaler()\n",
      "X = scaler.fit_transform(X)"
     ],
     "language": "python",
     "metadata": {},
     "outputs": []
    },
    {
     "cell_type": "code",
     "collapsed": false,
     "input": [
      "def stratified_cv(X, y, clf_class):\n",
      "    skf = cross_validation.StratifiedKFold(y, n_folds=10, shuffle=True)\n",
      "    y_pred = y.copy()\n",
      "    for train_index, test_index in skf:\n",
      "        X_train, X_test = X[train_index], X[test_index]\n",
      "        y_train = y[train_index]\n",
      "        clf_class.fit(X_train, y_train)\n",
      "        y_pred[test_index] = clf_class.predict(X_test)\n",
      "    return y_pred"
     ],
     "language": "python",
     "metadata": {},
     "outputs": []
    },
    {
     "cell_type": "code",
     "collapsed": false,
     "input": [
      "clf_lin = sklearn.linear_model.LinearRegression()\n",
      "stratified_cv(X, y, clf_lin)"
     ],
     "language": "python",
     "metadata": {},
     "outputs": []
    },
    {
     "cell_type": "raw",
     "metadata": {},
     "source": [
      "def remove_sparse_subjects(df, subjects, threshold):\n",
      "    "
     ]
    },
    {
     "cell_type": "code",
     "collapsed": false,
     "input": [
      "def fix_masters(ed_list):\n",
      "    fixed_list = []\n",
      "    for degree in ed_list:\n",
      "        if degree=='Master&#39;s':\n",
      "            fixed_list.append('Masters')\n",
      "        else:\n",
      "            fixed_list.append(degree)\n",
      "    return fixed_list\n",
      "\n",
      "ed = df_comb['education'].apply(lambda x: [v[0] for v in x.itervalues() if len(v)>0])\n",
      "ed = ed.apply(lambda x: fix_masters(x))\n",
      "\n",
      "def get_education(ed_list):\n",
      "    degrees = {'MEd':False, 'MBA':False, 'Masters':False, 'PhD':False, 'J.D.':False, 'MD':False}\n",
      "    check = True\n",
      "    for degree in degrees.keys():\n",
      "        if degree in ed_list:\n",
      "            degrees[degree] = True\n",
      "            check = False\n",
      "    degrees['Bachelors'] = check\n",
      "    return Series(degrees)\n",
      "\n",
      "ed = ed.apply(lambda x: get_education(x))\n",
      "\n",
      "print ed\n",
      "    "
     ],
     "language": "python",
     "metadata": {},
     "outputs": []
    },
    {
     "cell_type": "code",
     "collapsed": false,
     "input": [
      "df_comb = pd.concat([df_comb, ed], axis=1)\n",
      "df_comb.head()"
     ],
     "language": "python",
     "metadata": {},
     "outputs": []
    },
    {
     "cell_type": "code",
     "collapsed": false,
     "input": [
      "df_comb[df_comb['Bachelors']==True]['hourly_rate'].describe()"
     ],
     "language": "python",
     "metadata": {},
     "outputs": []
    },
    {
     "cell_type": "code",
     "collapsed": false,
     "input": [
      "degrees = ['Bachelors', 'J.D.', 'MBA', 'MEd', 'Masters', 'PhD']\n",
      "\n",
      "degree_plot = DataFrame()\n",
      "for degree in degrees:\n",
      "    d = Series(df_comb[df_comb[degree]==True]['hourly_rate'], name=degree)\n",
      "    degree_plot = pd.concat([degree_plot, d], axis=1)\n",
      "\n",
      "degree_plot.boxplot(fontsize=12)\n",
      "plt.ylim(0, 150)\n",
      "plt.xlabel('Degree', fontsize=16)\n",
      "plt.ylabel('Hourly Rate', fontsize=16)"
     ],
     "language": "python",
     "metadata": {},
     "outputs": []
    },
    {
     "cell_type": "code",
     "collapsed": false,
     "input": [
      "plt.boxplot(df_comb[df_comb['PhD']]['hourly_rate'].as_matrix(), whis='range')"
     ],
     "language": "python",
     "metadata": {},
     "outputs": []
    },
    {
     "cell_type": "code",
     "collapsed": false,
     "input": [
      "df_comb['hourly_rate'].min()"
     ],
     "language": "python",
     "metadata": {},
     "outputs": []
    },
    {
     "cell_type": "code",
     "collapsed": false,
     "input": [
      "df_comb[df_comb['has_badge']].describe()"
     ],
     "language": "python",
     "metadata": {},
     "outputs": []
    },
    {
     "cell_type": "code",
     "collapsed": false,
     "input": [
      "df_comb['hourly_rate'].hist(bins=50)"
     ],
     "language": "python",
     "metadata": {},
     "outputs": []
    },
    {
     "cell_type": "code",
     "collapsed": false,
     "input": [],
     "language": "python",
     "metadata": {},
     "outputs": []
    },
    {
     "cell_type": "code",
     "collapsed": false,
     "input": [
      "print df_comb['has_rating'].value_counts()\n",
      "df_comb[['hourly_rate','badge_hours']].plot(kind='scatter', x='badge_hours', y='hourly_rate', alpha=0.2, c='r')"
     ],
     "language": "python",
     "metadata": {},
     "outputs": []
    },
    {
     "cell_type": "code",
     "collapsed": false,
     "input": [
      "test = df_comb[['hourly_rate', 'zip_code']]\n",
      "test['zip_code'] = test['zip_code'].fillna(value=str(0)).apply(lambda x: int(x))\n",
      "\n",
      "test.plot(kind='scatter', x='zip_code', y='hourly_rate', alpha=0.2, c='r')\n",
      "plt.axis([10000, 12000, 0, 400])"
     ],
     "language": "python",
     "metadata": {},
     "outputs": []
    },
    {
     "cell_type": "code",
     "collapsed": false,
     "input": [
      "test[test['zip_code']<8000]"
     ],
     "language": "python",
     "metadata": {},
     "outputs": []
    },
    {
     "cell_type": "code",
     "collapsed": false,
     "input": [],
     "language": "python",
     "metadata": {},
     "outputs": []
    }
   ],
   "metadata": {}
  }
 ]
}