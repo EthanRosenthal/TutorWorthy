{
 "metadata": {
  "name": "",
  "signature": "sha256:846595c928a0a5c215b6d3d37cc5736497a2e2cf4ef8654ef2491983f6b0cf25"
 },
 "nbformat": 3,
 "nbformat_minor": 0,
 "worksheets": [
  {
   "cells": [
    {
     "cell_type": "code",
     "collapsed": false,
     "input": [
      "%matplotlib inline\n",
      "import matplotlib\n",
      "import matplotlib.pyplot as plt\n",
      "import numpy as np\n",
      "import pandas as pd\n",
      "from pandas import DataFrame, Series\n",
      "import seaborn as sns\n",
      "import pickle\n",
      "import itertools\n",
      "import json\n",
      "import re\n",
      "import sklearn\n",
      "\n",
      "from sklearn import cross_validation\n",
      "from sklearn import tree\n",
      "from sklearn import svm\n",
      "from sklearn import ensemble\n",
      "from sklearn import neighbors\n",
      "from sklearn import linear_model\n",
      "from sklearn import metrics\n",
      "from sklearn import preprocessing\n",
      "from sklearn import grid_search\n",
      "from sklearn import learning_curve\n",
      "from sklearn.externals import joblib\n",
      "\n",
      "sns.set()"
     ],
     "language": "python",
     "metadata": {},
     "outputs": [],
     "prompt_number": 1
    },
    {
     "cell_type": "code",
     "collapsed": false,
     "input": [
      "cd ../data/sklearn/"
     ],
     "language": "python",
     "metadata": {},
     "outputs": [
      {
       "output_type": "stream",
       "stream": "stdout",
       "text": [
        "/home/ethan/Documents/insight/data/sklearn\n"
       ]
      }
     ],
     "prompt_number": 2
    },
    {
     "cell_type": "code",
     "collapsed": false,
     "input": [
      "X = pickle.load(open('X.pkl', 'rb'))\n",
      "y = pickle.load(open('y.pkl', 'rb'))\n",
      "scaler_X = pickle.load(open('scaler_X.pkl', 'rb'))\n",
      "scaler_y = pickle.load(open('scaler_y.pkl', 'rb'))"
     ],
     "language": "python",
     "metadata": {},
     "outputs": [],
     "prompt_number": 3
    },
    {
     "cell_type": "code",
     "collapsed": false,
     "input": [
      "# Save for later\n",
      "X_train, X_final_test, y_train, y_final_test = \\\n",
      "    cross_validation.train_test_split(X, \\\n",
      "                                      y, \\\n",
      "                                      test_size=.2, \\\n",
      "                                      random_state=19)\n",
      "# Cross-validation\n",
      "kf = cross_validation.KFold(X_train.shape[0], \\\n",
      "                            n_folds=10, \\\n",
      "                            shuffle=True, \\\n",
      "                            random_state=13)"
     ],
     "language": "python",
     "metadata": {},
     "outputs": [],
     "prompt_number": 4
    },
    {
     "cell_type": "code",
     "collapsed": false,
     "input": [
      "cd .."
     ],
     "language": "python",
     "metadata": {},
     "outputs": [
      {
       "output_type": "stream",
       "stream": "stdout",
       "text": [
        "/home/ethan/Documents/insight/data\n"
       ]
      }
     ],
     "prompt_number": 5
    },
    {
     "cell_type": "code",
     "collapsed": false,
     "input": [
      "possible_subjects = pickle.load(open('possible_subjects.pkl', 'rb'))\n",
      "feature_labels = [ 'EdD', 'Enrolled', \\\n",
      "                            'Graduate_Coursework', 'J.D.', 'MBA', 'MD', \\\n",
      "                            'MEd', 'Masters', 'Other', 'PhD', \\\n",
      "                            'avg_review_length', 'badge_hours', \\\n",
      "                            'days_since_last_review', 'has_badge', \\\n",
      "                            'has_rating', 'lat', 'lon', \\\n",
      "                            'number_of_ratings', 'number_of_reviews', \\\n",
      "                            'profile_picture', 'rating', 'zip_code', \\\n",
      "                            'zip_radius', 'rating_x_number_of_ratings']\n",
      "feature_labels_w_subjects = list(feature_labels) # make copy\n",
      "feature_labels_w_subjects.extend(possible_subjects)"
     ],
     "language": "python",
     "metadata": {},
     "outputs": [],
     "prompt_number": 6
    },
    {
     "cell_type": "code",
     "collapsed": false,
     "input": [
      "# Ridge regression cross validation\n",
      "alphas=[0.0001, 0.001, 0.01, 0.1, 0.3, 1, 3, 10]\n",
      "\n",
      "y_pred = np.zeros([y_train.shape[0], len(alphas)])\n",
      "kk = 0\n",
      "for alpha in alphas:\n",
      "    rr = linear_model.Ridge(alpha=alpha, fit_intercept=False, normalize=False)\n",
      "    for ii, jj in kf:\n",
      "        X_train_kf, X_test_kf = X_train[ii], X_train[jj]\n",
      "        y_train_kf = y_train[ii]\n",
      "        rr.fit(X_train_kf,y_train_kf)\n",
      "        y_pred[jj, kk] = rr.predict(X_test_kf)\n",
      "    kk += 1\n"
     ],
     "language": "python",
     "metadata": {},
     "outputs": [],
     "prompt_number": 7
    },
    {
     "cell_type": "code",
     "collapsed": false,
     "input": [
      "k=0\n",
      "for alpha in alphas:\n",
      "    plt.plot(alpha, metrics.r2_score(y_train, y_pred[:,k]),'o')\n",
      "    k += 1"
     ],
     "language": "python",
     "metadata": {},
     "outputs": [
      {
       "metadata": {},
       "output_type": "display_data",
       "png": "[encoded data removed]",
       "text": [
        "<matplotlib.figure.Figure at 0x7f53e570c510>"
       ]
      }
     ],
     "prompt_number": 8
    },
    {
     "cell_type": "code",
     "collapsed": false,
     "input": [
      "def use_kfold(clf, kf, X_train, y_train):\n",
      "    y_pred = y_train.copy()\n",
      "    for ii, jj in kf:\n",
      "        X_train_kf, X_test_kf = X_train[ii], X_train[jj]\n",
      "        y_train_kf = y_train[ii]\n",
      "        clf.fit(X_train_kf,y_train_kf)\n",
      "        y_pred[jj] = rr.predict(X_test_kf)\n"
     ],
     "language": "python",
     "metadata": {},
     "outputs": [],
     "prompt_number": 9
    },
    {
     "cell_type": "code",
     "collapsed": false,
     "input": [
      "train_sizes, train_scores, test_scores = learning_curve.learning_curve(rr, X_train, y_train, cv=kf)"
     ],
     "language": "python",
     "metadata": {},
     "outputs": [],
     "prompt_number": 10
    },
    {
     "cell_type": "code",
     "collapsed": false,
     "input": [
      "plt.plot(train_sizes, np.mean(train_scores, axis=1), label='training scores')\n",
      "plt.plot(train_sizes, np.mean(test_scores, axis=1), label='cross-val scores')\n",
      "plt.legend()\n",
      "plt.show()\n"
     ],
     "language": "python",
     "metadata": {},
     "outputs": [
      {
       "metadata": {},
       "output_type": "display_data",
       "png": "[encoded data removed]",
       "text": [
        "<matplotlib.figure.Figure at 0x7f53bda4e090>"
       ]
      }
     ],
     "prompt_number": 11
    },
    {
     "cell_type": "heading",
     "level": 1,
     "metadata": {},
     "source": [
      "Lasso"
     ]
    },
    {
     "cell_type": "code",
     "collapsed": false,
     "input": [
      "# Ridge regression cross validation\n",
      "alphas=[0.0001, 0.001, 0.01, 0.1, 0.3, 1, 3, 10]\n",
      "\n",
      "y_pred = np.zeros([y_train.shape[0], len(alphas)])\n",
      "kk = 0\n",
      "for alpha in alphas:\n",
      "    rr = linear_model.Lasso(alpha=alpha, fit_intercept=False, normalize=False, max_iter=10000)\n",
      "    for ii, jj in kf:\n",
      "        X_train_kf, X_test_kf = X_train[ii], X_train[jj]\n",
      "        y_train_kf = y_train[ii]\n",
      "        rr.fit(X_train_kf,y_train_kf)\n",
      "        y_pred[jj, kk] = rr.predict(X_test_kf)\n",
      "    kk += 1"
     ],
     "language": "python",
     "metadata": {},
     "outputs": [
      {
       "output_type": "stream",
       "stream": "stderr",
       "text": [
        "/home/ethan/.local/lib/python2.7/site-packages/sklearn/linear_model/coordinate_descent.py:490: ConvergenceWarning: Objective did not converge. You might want to increase the number of iterations\n",
        "  ConvergenceWarning)\n"
       ]
      }
     ],
     "prompt_number": 12
    },
    {
     "cell_type": "code",
     "collapsed": false,
     "input": [
      "k=0\n",
      "for alpha in alphas:\n",
      "    plt.plot(alpha, metrics.r2_score(y_train, y_pred[:,k]),'o')\n",
      "    k += 1"
     ],
     "language": "python",
     "metadata": {},
     "outputs": [
      {
       "metadata": {},
       "output_type": "display_data",
       "png": "[encoded data removed]",
       "text": [
        "<matplotlib.figure.Figure at 0x7f53edbc3c50>"
       ]
      }
     ],
     "prompt_number": 13
    },
    {
     "cell_type": "code",
     "collapsed": false,
     "input": [],
     "language": "python",
     "metadata": {},
     "outputs": [],
     "prompt_number": 13
    }
   ],
   "metadata": {}
  }
 ]
}