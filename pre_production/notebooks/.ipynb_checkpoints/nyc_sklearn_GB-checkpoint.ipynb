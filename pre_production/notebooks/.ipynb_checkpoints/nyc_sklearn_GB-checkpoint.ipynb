{
 "metadata": {
  "name": "",
  "signature": "sha256:502c08f2b0a3c566bf46a970f11480e3cdeb33a9022e200a339f85261f1f88ba"
 },
 "nbformat": 3,
 "nbformat_minor": 0,
 "worksheets": [
  {
   "cells": [
    {
     "cell_type": "code",
     "collapsed": false,
     "input": [
      "%matplotlib inline\n",
      "import matplotlib\n",
      "import matplotlib.pyplot as plt\n",
      "import numpy as np\n",
      "import pandas as pd\n",
      "from pandas import DataFrame, Series\n",
      "import seaborn as sns\n",
      "import pickle\n",
      "import itertools\n",
      "import json\n",
      "import re\n",
      "import sklearn\n",
      "\n",
      "from sklearn import cross_validation\n",
      "from sklearn import tree\n",
      "from sklearn import svm\n",
      "from sklearn import ensemble\n",
      "from sklearn import neighbors\n",
      "from sklearn import linear_model\n",
      "from sklearn import metrics\n",
      "from sklearn import preprocessing\n",
      "from sklearn import grid_search\n",
      "from sklearn import learning_curve\n",
      "\n",
      "sns.set()"
     ],
     "language": "python",
     "metadata": {},
     "outputs": [],
     "prompt_number": 15
    },
    {
     "cell_type": "code",
     "collapsed": false,
     "input": [
      "cd ../data/sklearn/"
     ],
     "language": "python",
     "metadata": {},
     "outputs": [
      {
       "output_type": "stream",
       "stream": "stdout",
       "text": [
        "[Errno 2] No such file or directory: '../data/sklearn/'\n",
        "/home/ethan/Documents/insight/data/sklearn\n"
       ]
      }
     ],
     "prompt_number": 6
    },
    {
     "cell_type": "code",
     "collapsed": false,
     "input": [
      "X = pickle.load(open('X.pkl', 'rb'))\n",
      "y = pickle.load(open('y.pkl', 'rb'))\n",
      "scaler_X = pickle.load(open('scaler_X.pkl', 'rb'))\n",
      "scaler_y = pickle.load(open('scaler_y.pkl', 'rb'))"
     ],
     "language": "python",
     "metadata": {},
     "outputs": [],
     "prompt_number": 7
    },
    {
     "cell_type": "code",
     "collapsed": false,
     "input": [
      "# Save for later\n",
      "X_train, X_final_test, y_train, y_final_test = \\\n",
      "    cross_validation.train_test_split(X, \\\n",
      "                                      y, \\\n",
      "                                      test_size=.2, \\\n",
      "                                      random_state=19)\n",
      "# Cross-validation\n",
      "kf = cross_validation.KFold(X_train.shape[0], \\\n",
      "                            n_folds=10, \\\n",
      "                            shuffle=True, \\\n",
      "                            random_state=13)"
     ],
     "language": "python",
     "metadata": {},
     "outputs": [],
     "prompt_number": 8
    },
    {
     "cell_type": "code",
     "collapsed": false,
     "input": [
      "gb = ensemble.GradientBoostingRegressor(max_features='sqrt')\n",
      "\n",
      "# Originally did for n_estimators = [10, 20, 50, 100, 200, 500, 1000]\n",
      "# and got best n_estimators = 1000, max_features='sqrt'\n",
      "parameters = {'learning_rate':[0.001, .005, 0.01, .05, 0.1, .3, .5], \\\n",
      "              'n_estimators':[100, 500, 1000, 2000, 5000]}\n",
      "\n",
      "clf = grid_search.GridSearchCV(gb, parameters, cv=kf, verbose=10)\n",
      "clf.fit(X_train, y_train)"
     ],
     "language": "python",
     "metadata": {},
     "outputs": [
      {
       "output_type": "stream",
       "stream": "stdout",
       "text": [
        "Fitting 10 folds for each of 35 candidates, totalling 350 fits\n",
        "[CV] n_estimators=100, learning_rate=0.001 ...........................\n",
        "[CV] .. n_estimators=100, learning_rate=0.001, score=0.005478 -   0.3s"
       ]
      },
      {
       "output_type": "stream",
       "stream": "stdout",
       "text": [
        "\n",
        "[CV] n_estimators=100, learning_rate=0.001 ...........................\n",
        "[CV] .. n_estimators=100, learning_rate=0.001, score=0.004702 -   0.3s"
       ]
      },
      {
       "output_type": "stream",
       "stream": "stderr",
       "text": [
        "[Parallel(n_jobs=1)]: Done   1 jobs       | elapsed:    0.3s\n",
        "[Parallel(n_jobs=1)]: Done   2 jobs       | elapsed:    0.6s\n"
       ]
      },
      {
       "output_type": "stream",
       "stream": "stdout",
       "text": [
        "\n",
        "[CV] n_estimators=100, learning_rate=0.001 ...........................\n",
        "[CV] .. n_estimators=100, learning_rate=0.001, score=0.008279 -   0.3s"
       ]
      },
      {
       "output_type": "stream",
       "stream": "stdout",
       "text": [
        "\n",
        "[CV] n_estimators=100, learning_rate=0.001 ...........................\n",
        "[CV] . n_estimators=100, learning_rate=0.001, score=-0.003180 -   0.3s"
       ]
      },
      {
       "output_type": "stream",
       "stream": "stdout",
       "text": [
        "\n",
        "[CV] n_estimators=100, learning_rate=0.001 ...........................\n",
        "[CV] .. n_estimators=100, learning_rate=0.001, score=0.005042 -   0.3s"
       ]
      },
      {
       "output_type": "stream",
       "stream": "stdout",
       "text": [
        "\n",
        "[CV] n_estimators=100, learning_rate=0.001 ...........................\n",
        "[CV] .. n_estimators=100, learning_rate=0.001, score=0.007501 -   0.3s"
       ]
      },
      {
       "output_type": "stream",
       "stream": "stdout",
       "text": [
        "\n",
        "[CV] n_estimators=100, learning_rate=0.001 ...........................\n",
        "[CV] .. n_estimators=100, learning_rate=0.001, score=0.009485 -   0.3s"
       ]
      },
      {
       "output_type": "stream",
       "stream": "stdout",
       "text": [
        "\n",
        "[CV] n_estimators=100, learning_rate=0.001 ...........................\n",
        "[CV] .. n_estimators=100, learning_rate=0.001, score=0.004743 -   0.3s"
       ]
      },
      {
       "output_type": "stream",
       "stream": "stderr",
       "text": [
        "[Parallel(n_jobs=1)]: Done   5 jobs       | elapsed:    1.5s\n",
        "[Parallel(n_jobs=1)]: Done   8 jobs       | elapsed:    2.3s\n"
       ]
      },
      {
       "output_type": "stream",
       "stream": "stdout",
       "text": [
        "\n",
        "[CV] n_estimators=100, learning_rate=0.001 ...........................\n",
        "[CV] .. n_estimators=100, learning_rate=0.001, score=0.003214 -   0.3s"
       ]
      },
      {
       "output_type": "stream",
       "stream": "stdout",
       "text": [
        "\n",
        "[CV] n_estimators=100, learning_rate=0.001 ...........................\n",
        "[CV] .. n_estimators=100, learning_rate=0.001, score=0.009243 -   0.3s"
       ]
      },
      {
       "output_type": "stream",
       "stream": "stdout",
       "text": [
        "\n",
        "[CV] n_estimators=500, learning_rate=0.001 ...........................\n",
        "[CV] .. n_estimators=500, learning_rate=0.001, score=0.021999 -   1.4s"
       ]
      },
      {
       "output_type": "stream",
       "stream": "stdout",
       "text": [
        "\n",
        "[CV] n_estimators=500, learning_rate=0.001 ...........................\n",
        "[CV] .. n_estimators=500, learning_rate=0.001, score=0.025783 -   1.3s"
       ]
      },
      {
       "output_type": "stream",
       "stream": "stdout",
       "text": [
        "\n",
        "[CV] n_estimators=500, learning_rate=0.001 ...........................\n",
        "[CV] .. n_estimators=500, learning_rate=0.001, score=0.033595 -   1.3s"
       ]
      },
      {
       "output_type": "stream",
       "stream": "stdout",
       "text": [
        "\n",
        "[CV] n_estimators=500, learning_rate=0.001 ...........................\n",
        "[CV] .. n_estimators=500, learning_rate=0.001, score=0.024131 -   1.4s"
       ]
      },
      {
       "output_type": "stream",
       "stream": "stdout",
       "text": [
        "\n",
        "[CV] n_estimators=500, learning_rate=0.001 ...........................\n",
        "[CV] .. n_estimators=500, learning_rate=0.001, score=0.026251 -   1.3s"
       ]
      },
      {
       "output_type": "stream",
       "stream": "stdout",
       "text": [
        "\n",
        "[CV] n_estimators=500, learning_rate=0.001 ...........................\n",
        "[CV] .. n_estimators=500, learning_rate=0.001, score=0.038097 -   1.3s"
       ]
      },
      {
       "output_type": "stream",
       "stream": "stdout",
       "text": [
        "\n",
        "[CV] n_estimators=500, learning_rate=0.001 ...........................\n",
        "[CV] .. n_estimators=500, learning_rate=0.001, score=0.038741 -   1.4s"
       ]
      },
      {
       "output_type": "stream",
       "stream": "stdout",
       "text": [
        "\n",
        "[CV] n_estimators=500, learning_rate=0.001 ...........................\n",
        "[CV] .. n_estimators=500, learning_rate=0.001, score=0.033004 -   1.4s"
       ]
      },
      {
       "output_type": "stream",
       "stream": "stderr",
       "text": [
        "[Parallel(n_jobs=1)]: Done  13 jobs       | elapsed:    6.9s\n",
        "[Parallel(n_jobs=1)]: Done  18 jobs       | elapsed:   13.6s\n"
       ]
      },
      {
       "output_type": "stream",
       "stream": "stdout",
       "text": [
        "\n",
        "[CV] n_estimators=500, learning_rate=0.001 ...........................\n",
        "[CV] .. n_estimators=500, learning_rate=0.001, score=0.029799 -   1.4s"
       ]
      },
      {
       "output_type": "stream",
       "stream": "stdout",
       "text": [
        "\n",
        "[CV] n_estimators=500, learning_rate=0.001 ...........................\n",
        "[CV] .. n_estimators=500, learning_rate=0.001, score=0.042051 -   1.4s"
       ]
      },
      {
       "output_type": "stream",
       "stream": "stdout",
       "text": [
        "\n",
        "[CV] n_estimators=1000, learning_rate=0.001 ..........................\n",
        "[CV] . n_estimators=1000, learning_rate=0.001, score=0.038042 -   2.6s"
       ]
      },
      {
       "output_type": "stream",
       "stream": "stdout",
       "text": [
        "\n",
        "[CV] n_estimators=1000, learning_rate=0.001 ..........................\n",
        "[CV] . n_estimators=1000, learning_rate=0.001, score=0.045156 -   2.7s"
       ]
      },
      {
       "output_type": "stream",
       "stream": "stdout",
       "text": [
        "\n",
        "[CV] n_estimators=1000, learning_rate=0.001 ..........................\n",
        "[CV] . n_estimators=1000, learning_rate=0.001, score=0.061792 -   2.6s"
       ]
      },
      {
       "output_type": "stream",
       "stream": "stdout",
       "text": [
        "\n",
        "[CV] n_estimators=1000, learning_rate=0.001 ..........................\n",
        "[CV] . n_estimators=1000, learning_rate=0.001, score=0.047627 -   2.6s"
       ]
      },
      {
       "output_type": "stream",
       "stream": "stdout",
       "text": [
        "\n",
        "[CV] n_estimators=1000, learning_rate=0.001 ..........................\n",
        "[CV] . n_estimators=1000, learning_rate=0.001, score=0.043828 -   2.6s"
       ]
      },
      {
       "output_type": "stream",
       "stream": "stdout",
       "text": [
        "\n",
        "[CV] n_estimators=1000, learning_rate=0.001 ..........................\n",
        "[CV] . n_estimators=1000, learning_rate=0.001, score=0.067195 -   2.6s"
       ]
      },
      {
       "output_type": "stream",
       "stream": "stdout",
       "text": [
        "\n",
        "[CV] n_estimators=1000, learning_rate=0.001 ..........................\n",
        "[CV] . n_estimators=1000, learning_rate=0.001, score=0.065343 -   2.7s"
       ]
      },
      {
       "output_type": "stream",
       "stream": "stdout",
       "text": [
        "\n",
        "[CV] n_estimators=1000, learning_rate=0.001 ..........................\n",
        "[CV] . n_estimators=1000, learning_rate=0.001, score=0.057014 -   2.6s"
       ]
      },
      {
       "output_type": "stream",
       "stream": "stdout",
       "text": [
        "\n",
        "[CV] n_estimators=1000, learning_rate=0.001 ..........................\n",
        "[CV] . n_estimators=1000, learning_rate=0.001, score=0.051527 -   2.6s"
       ]
      },
      {
       "output_type": "stream",
       "stream": "stdout",
       "text": [
        "\n",
        "[CV] n_estimators=1000, learning_rate=0.001 ..........................\n",
        "[CV] . n_estimators=1000, learning_rate=0.001, score=0.073354 -   2.6s"
       ]
      },
      {
       "output_type": "stream",
       "stream": "stdout",
       "text": [
        "\n",
        "[CV] n_estimators=2000, learning_rate=0.001 ..........................\n",
        "[CV] . n_estimators=2000, learning_rate=0.001, score=0.054007 -   5.3s"
       ]
      },
      {
       "output_type": "stream",
       "stream": "stdout",
       "text": [
        "\n",
        "[CV] n_estimators=2000, learning_rate=0.001 ..........................\n",
        "[CV] . n_estimators=2000, learning_rate=0.001, score=0.072841 -   5.2s"
       ]
      },
      {
       "output_type": "stream",
       "stream": "stderr",
       "text": [
        "[Parallel(n_jobs=1)]: Done  25 jobs       | elapsed:   29.5s\n",
        "[Parallel(n_jobs=1)]: Done  32 jobs       | elapsed:   53.3s\n"
       ]
      },
      {
       "output_type": "stream",
       "stream": "stdout",
       "text": [
        "\n",
        "[CV] n_estimators=2000, learning_rate=0.001 ..........................\n",
        "[CV] . n_estimators=2000, learning_rate=0.001, score=0.103796 -   5.5s"
       ]
      },
      {
       "output_type": "stream",
       "stream": "stdout",
       "text": [
        "\n",
        "[CV] n_estimators=2000, learning_rate=0.001 ..........................\n",
        "[CV] . n_estimators=2000, learning_rate=0.001, score=0.083901 -   5.4s"
       ]
      },
      {
       "output_type": "stream",
       "stream": "stdout",
       "text": [
        "\n",
        "[CV] n_estimators=2000, learning_rate=0.001 ..........................\n",
        "[CV] . n_estimators=2000, learning_rate=0.001, score=0.071367 -   5.3s"
       ]
      },
      {
       "output_type": "stream",
       "stream": "stdout",
       "text": [
        "\n",
        "[CV] n_estimators=2000, learning_rate=0.001 ..........................\n",
        "[CV] . n_estimators=2000, learning_rate=0.001, score=0.106693 -   5.2s"
       ]
      },
      {
       "output_type": "stream",
       "stream": "stdout",
       "text": [
        "\n",
        "[CV] n_estimators=2000, learning_rate=0.001 ..........................\n",
        "[CV] . n_estimators=2000, learning_rate=0.001, score=0.093722 -   5.3s"
       ]
      },
      {
       "output_type": "stream",
       "stream": "stdout",
       "text": [
        "\n",
        "[CV] n_estimators=2000, learning_rate=0.001 ..........................\n",
        "[CV] . n_estimators=2000, learning_rate=0.001, score=0.087696 -   5.2s"
       ]
      },
      {
       "output_type": "stream",
       "stream": "stdout",
       "text": [
        "\n",
        "[CV] n_estimators=2000, learning_rate=0.001 ..........................\n",
        "[CV] . n_estimators=2000, learning_rate=0.001, score=0.081087 -   5.2s"
       ]
      },
      {
       "output_type": "stream",
       "stream": "stdout",
       "text": [
        "\n",
        "[CV] n_estimators=2000, learning_rate=0.001 ..........................\n",
        "[CV] . n_estimators=2000, learning_rate=0.001, score=0.115018 -   5.4s"
       ]
      },
      {
       "output_type": "stream",
       "stream": "stdout",
       "text": [
        "\n",
        "[CV] n_estimators=5000, learning_rate=0.001 ..........................\n",
        "[CV] . n_estimators=5000, learning_rate=0.001, score=0.077768 -  13.0s"
       ]
      },
      {
       "output_type": "stream",
       "stream": "stdout",
       "text": [
        "\n",
        "[CV] n_estimators=5000, learning_rate=0.001 ..........................\n",
        "[CV] . n_estimators=5000, learning_rate=0.001, score=0.111755 -  13.0s"
       ]
      },
      {
       "output_type": "stream",
       "stream": "stdout",
       "text": [
        "\n",
        "[CV] n_estimators=5000, learning_rate=0.001 ..........................\n",
        "[CV] . n_estimators=5000, learning_rate=0.001, score=0.168691 -  13.1s"
       ]
      },
      {
       "output_type": "stream",
       "stream": "stdout",
       "text": [
        "\n",
        "[CV] n_estimators=5000, learning_rate=0.001 ..........................\n",
        "[CV] . n_estimators=5000, learning_rate=0.001, score=0.137013 -  13.0s"
       ]
      },
      {
       "output_type": "stream",
       "stream": "stdout",
       "text": [
        "\n",
        "[CV] n_estimators=5000, learning_rate=0.001 ..........................\n",
        "[CV] . n_estimators=5000, learning_rate=0.001, score=0.110617 -  12.9s"
       ]
      },
      {
       "output_type": "stream",
       "stream": "stdout",
       "text": [
        "\n",
        "[CV] n_estimators=5000, learning_rate=0.001 ..........................\n",
        "[CV] . n_estimators=5000, learning_rate=0.001, score=0.162054 -  12.9s"
       ]
      },
      {
       "output_type": "stream",
       "stream": "stdout",
       "text": [
        "\n",
        "[CV] n_estimators=5000, learning_rate=0.001 ..........................\n",
        "[CV] . n_estimators=5000, learning_rate=0.001, score=0.123336 -  13.0s"
       ]
      },
      {
       "output_type": "stream",
       "stream": "stdout",
       "text": [
        "\n",
        "[CV] n_estimators=5000, learning_rate=0.001 ..........................\n",
        "[CV] . n_estimators=5000, learning_rate=0.001, score=0.138129 -  12.9s"
       ]
      },
      {
       "output_type": "stream",
       "stream": "stdout",
       "text": [
        "\n",
        "[CV] n_estimators=5000, learning_rate=0.001 ..........................\n",
        "[CV] . n_estimators=5000, learning_rate=0.001, score=0.111013 -  13.0s"
       ]
      },
      {
       "output_type": "stream",
       "stream": "stdout",
       "text": [
        "\n",
        "[CV] n_estimators=5000, learning_rate=0.001 ..........................\n",
        "[CV] . n_estimators=5000, learning_rate=0.001, score=0.171705 -  13.0s"
       ]
      },
      {
       "output_type": "stream",
       "stream": "stderr",
       "text": [
        "[Parallel(n_jobs=1)]: Done  41 jobs       | elapsed:  1.8min\n",
        "[Parallel(n_jobs=1)]: Done  50 jobs       | elapsed:  3.8min\n"
       ]
      },
      {
       "output_type": "stream",
       "stream": "stdout",
       "text": [
        "\n",
        "[CV] n_estimators=100, learning_rate=0.005 ...........................\n",
        "[CV] .. n_estimators=100, learning_rate=0.005, score=0.021785 -   0.3s"
       ]
      },
      {
       "output_type": "stream",
       "stream": "stdout",
       "text": [
        "\n",
        "[CV] n_estimators=100, learning_rate=0.005 ...........................\n",
        "[CV] .. n_estimators=100, learning_rate=0.005, score=0.025562 -   0.3s"
       ]
      },
      {
       "output_type": "stream",
       "stream": "stdout",
       "text": [
        "\n",
        "[CV] n_estimators=100, learning_rate=0.005 ...........................\n",
        "[CV] .. n_estimators=100, learning_rate=0.005, score=0.035103 -   0.3s"
       ]
      },
      {
       "output_type": "stream",
       "stream": "stdout",
       "text": [
        "\n",
        "[CV] n_estimators=100, learning_rate=0.005 ...........................\n",
        "[CV] .. n_estimators=100, learning_rate=0.005, score=0.024630 -   0.3s"
       ]
      },
      {
       "output_type": "stream",
       "stream": "stdout",
       "text": [
        "\n",
        "[CV] n_estimators=100, learning_rate=0.005 ...........................\n",
        "[CV] .. n_estimators=100, learning_rate=0.005, score=0.025692 -   0.3s"
       ]
      },
      {
       "output_type": "stream",
       "stream": "stdout",
       "text": [
        "\n",
        "[CV] n_estimators=100, learning_rate=0.005 ...........................\n",
        "[CV] .. n_estimators=100, learning_rate=0.005, score=0.039560 -   0.3s"
       ]
      },
      {
       "output_type": "stream",
       "stream": "stdout",
       "text": [
        "\n",
        "[CV] n_estimators=100, learning_rate=0.005 ...........................\n",
        "[CV] .. n_estimators=100, learning_rate=0.005, score=0.038733 -   0.3s"
       ]
      },
      {
       "output_type": "stream",
       "stream": "stdout",
       "text": [
        "\n",
        "[CV] n_estimators=100, learning_rate=0.005 ...........................\n",
        "[CV] .. n_estimators=100, learning_rate=0.005, score=0.028627 -   0.3s"
       ]
      },
      {
       "output_type": "stream",
       "stream": "stdout",
       "text": [
        "\n",
        "[CV] n_estimators=100, learning_rate=0.005 ...........................\n",
        "[CV] .. n_estimators=100, learning_rate=0.005, score=0.026367 -   0.3s"
       ]
      },
      {
       "output_type": "stream",
       "stream": "stdout",
       "text": [
        "\n",
        "[CV] n_estimators=100, learning_rate=0.005 ...........................\n",
        "[CV] .. n_estimators=100, learning_rate=0.005, score=0.042327 -   0.3s"
       ]
      },
      {
       "output_type": "stream",
       "stream": "stdout",
       "text": [
        "\n",
        "[CV] n_estimators=500, learning_rate=0.005 ...........................\n",
        "[CV] .. n_estimators=500, learning_rate=0.005, score=0.058538 -   1.3s"
       ]
      },
      {
       "output_type": "stream",
       "stream": "stdout",
       "text": [
        "\n",
        "[CV] n_estimators=500, learning_rate=0.005 ...........................\n",
        "[CV] .. n_estimators=500, learning_rate=0.005, score=0.079977 -   1.3s"
       ]
      },
      {
       "output_type": "stream",
       "stream": "stdout",
       "text": [
        "\n",
        "[CV] n_estimators=500, learning_rate=0.005 ...........................\n",
        "[CV] .. n_estimators=500, learning_rate=0.005, score=0.117208 -   1.3s"
       ]
      },
      {
       "output_type": "stream",
       "stream": "stdout",
       "text": [
        "\n",
        "[CV] n_estimators=500, learning_rate=0.005 ...........................\n",
        "[CV] .. n_estimators=500, learning_rate=0.005, score=0.095720 -   1.3s"
       ]
      },
      {
       "output_type": "stream",
       "stream": "stdout",
       "text": [
        "\n",
        "[CV] n_estimators=500, learning_rate=0.005 ...........................\n",
        "[CV] .. n_estimators=500, learning_rate=0.005, score=0.083388 -   1.4s"
       ]
      },
      {
       "output_type": "stream",
       "stream": "stdout",
       "text": [
        "\n",
        "[CV] n_estimators=500, learning_rate=0.005 ...........................\n",
        "[CV] .. n_estimators=500, learning_rate=0.005, score=0.119869 -   1.4s"
       ]
      },
      {
       "output_type": "stream",
       "stream": "stdout",
       "text": [
        "\n",
        "[CV] n_estimators=500, learning_rate=0.005 ...........................\n",
        "[CV] .. n_estimators=500, learning_rate=0.005, score=0.099334 -   1.4s"
       ]
      },
      {
       "output_type": "stream",
       "stream": "stdout",
       "text": [
        "\n",
        "[CV] n_estimators=500, learning_rate=0.005 ...........................\n",
        "[CV] .. n_estimators=500, learning_rate=0.005, score=0.098340 -   1.4s"
       ]
      },
      {
       "output_type": "stream",
       "stream": "stdout",
       "text": [
        "\n",
        "[CV] n_estimators=500, learning_rate=0.005 ...........................\n",
        "[CV] .. n_estimators=500, learning_rate=0.005, score=0.089134 -   1.5s"
       ]
      },
      {
       "output_type": "stream",
       "stream": "stdout",
       "text": [
        "\n",
        "[CV] n_estimators=500, learning_rate=0.005 ...........................\n",
        "[CV] .. n_estimators=500, learning_rate=0.005, score=0.128658 -   1.5s"
       ]
      },
      {
       "output_type": "stream",
       "stream": "stdout",
       "text": [
        "\n",
        "[CV] n_estimators=1000, learning_rate=0.005 ..........................\n",
        "[CV] . n_estimators=1000, learning_rate=0.005, score=0.078271 -   2.7s"
       ]
      },
      {
       "output_type": "stream",
       "stream": "stdout",
       "text": [
        "\n",
        "[CV] n_estimators=1000, learning_rate=0.005 ..........................\n",
        "[CV] . n_estimators=1000, learning_rate=0.005, score=0.112784 -   2.6s"
       ]
      },
      {
       "output_type": "stream",
       "stream": "stderr",
       "text": [
        "[Parallel(n_jobs=1)]: Done  61 jobs       | elapsed:  3.8min\n",
        "[Parallel(n_jobs=1)]: Done  72 jobs       | elapsed:  4.1min\n"
       ]
      },
      {
       "output_type": "stream",
       "stream": "stdout",
       "text": [
        "\n",
        "[CV] n_estimators=1000, learning_rate=0.005 ..........................\n",
        "[CV] . n_estimators=1000, learning_rate=0.005, score=0.165255 -   2.7s"
       ]
      },
      {
       "output_type": "stream",
       "stream": "stdout",
       "text": [
        "\n",
        "[CV] n_estimators=1000, learning_rate=0.005 ..........................\n",
        "[CV] . n_estimators=1000, learning_rate=0.005, score=0.137689 -   2.6s"
       ]
      },
      {
       "output_type": "stream",
       "stream": "stdout",
       "text": [
        "\n",
        "[CV] n_estimators=1000, learning_rate=0.005 ..........................\n",
        "[CV] . n_estimators=1000, learning_rate=0.005, score=0.109274 -   2.6s"
       ]
      },
      {
       "output_type": "stream",
       "stream": "stdout",
       "text": [
        "\n",
        "[CV] n_estimators=1000, learning_rate=0.005 ..........................\n",
        "[CV] . n_estimators=1000, learning_rate=0.005, score=0.160897 -   2.6s"
       ]
      },
      {
       "output_type": "stream",
       "stream": "stdout",
       "text": [
        "\n",
        "[CV] n_estimators=1000, learning_rate=0.005 ..........................\n",
        "[CV] . n_estimators=1000, learning_rate=0.005, score=0.119742 -   2.6s"
       ]
      },
      {
       "output_type": "stream",
       "stream": "stdout",
       "text": [
        "\n",
        "[CV] n_estimators=1000, learning_rate=0.005 ..........................\n",
        "[CV] . n_estimators=1000, learning_rate=0.005, score=0.135984 -   2.6s"
       ]
      },
      {
       "output_type": "stream",
       "stream": "stdout",
       "text": [
        "\n",
        "[CV] n_estimators=1000, learning_rate=0.005 ..........................\n",
        "[CV] . n_estimators=1000, learning_rate=0.005, score=0.111380 -   2.6s"
       ]
      },
      {
       "output_type": "stream",
       "stream": "stdout",
       "text": [
        "\n",
        "[CV] n_estimators=1000, learning_rate=0.005 ..........................\n",
        "[CV] . n_estimators=1000, learning_rate=0.005, score=0.171632 -   2.6s"
       ]
      },
      {
       "output_type": "stream",
       "stream": "stdout",
       "text": [
        "\n",
        "[CV] n_estimators=2000, learning_rate=0.005 ..........................\n",
        "[CV] . n_estimators=2000, learning_rate=0.005, score=0.088290 -   5.2s"
       ]
      },
      {
       "output_type": "stream",
       "stream": "stdout",
       "text": [
        "\n",
        "[CV] n_estimators=2000, learning_rate=0.005 ..........................\n",
        "[CV] . n_estimators=2000, learning_rate=0.005, score=0.129231 -   4.9s"
       ]
      },
      {
       "output_type": "stream",
       "stream": "stdout",
       "text": [
        "\n",
        "[CV] n_estimators=2000, learning_rate=0.005 ..........................\n",
        "[CV] . n_estimators=2000, learning_rate=0.005, score=0.200154 -   5.0s"
       ]
      },
      {
       "output_type": "stream",
       "stream": "stdout",
       "text": [
        "\n",
        "[CV] n_estimators=2000, learning_rate=0.005 ..........................\n",
        "[CV] . n_estimators=2000, learning_rate=0.005, score=0.171023 -   4.9s"
       ]
      },
      {
       "output_type": "stream",
       "stream": "stdout",
       "text": [
        "\n",
        "[CV] n_estimators=2000, learning_rate=0.005 ..........................\n",
        "[CV] . n_estimators=2000, learning_rate=0.005, score=0.130288 -   4.9s"
       ]
      },
      {
       "output_type": "stream",
       "stream": "stdout",
       "text": [
        "\n",
        "[CV] n_estimators=2000, learning_rate=0.005 ..........................\n",
        "[CV] . n_estimators=2000, learning_rate=0.005, score=0.187821 -   5.1s"
       ]
      },
      {
       "output_type": "stream",
       "stream": "stdout",
       "text": [
        "\n",
        "[CV] n_estimators=2000, learning_rate=0.005 ..........................\n",
        "[CV] . n_estimators=2000, learning_rate=0.005, score=0.132109 -   4.9s"
       ]
      },
      {
       "output_type": "stream",
       "stream": "stdout",
       "text": [
        "\n",
        "[CV] n_estimators=2000, learning_rate=0.005 ..........................\n",
        "[CV] . n_estimators=2000, learning_rate=0.005, score=0.155539 -   4.9s"
       ]
      },
      {
       "output_type": "stream",
       "stream": "stdout",
       "text": [
        "\n",
        "[CV] n_estimators=2000, learning_rate=0.005 ..........................\n",
        "[CV] . n_estimators=2000, learning_rate=0.005, score=0.113247 -   4.9s"
       ]
      },
      {
       "output_type": "stream",
       "stream": "stdout",
       "text": [
        "\n",
        "[CV] n_estimators=2000, learning_rate=0.005 ..........................\n",
        "[CV] . n_estimators=2000, learning_rate=0.005, score=0.196221 -   4.9s"
       ]
      },
      {
       "output_type": "stream",
       "stream": "stdout",
       "text": [
        "\n",
        "[CV] n_estimators=5000, learning_rate=0.005 ..........................\n",
        "[CV] . n_estimators=5000, learning_rate=0.005, score=0.086574 -  12.0s"
       ]
      },
      {
       "output_type": "stream",
       "stream": "stdout",
       "text": [
        "\n",
        "[CV] n_estimators=5000, learning_rate=0.005 ..........................\n",
        "[CV] . n_estimators=5000, learning_rate=0.005, score=0.134168 -  11.9s"
       ]
      },
      {
       "output_type": "stream",
       "stream": "stdout",
       "text": [
        "\n",
        "[CV] n_estimators=5000, learning_rate=0.005 ..........................\n",
        "[CV] . n_estimators=5000, learning_rate=0.005, score=0.230528 -  12.2s"
       ]
      },
      {
       "output_type": "stream",
       "stream": "stdout",
       "text": [
        "\n",
        "[CV] n_estimators=5000, learning_rate=0.005 ..........................\n",
        "[CV] . n_estimators=5000, learning_rate=0.005, score=0.197708 -  12.0s"
       ]
      },
      {
       "output_type": "stream",
       "stream": "stdout",
       "text": [
        "\n",
        "[CV] n_estimators=5000, learning_rate=0.005 ..........................\n",
        "[CV] . n_estimators=5000, learning_rate=0.005, score=0.140159 -  12.0s"
       ]
      },
      {
       "output_type": "stream",
       "stream": "stdout",
       "text": [
        "\n",
        "[CV] n_estimators=5000, learning_rate=0.005 ..........................\n",
        "[CV] . n_estimators=5000, learning_rate=0.005, score=0.187332 -  12.1s"
       ]
      },
      {
       "output_type": "stream",
       "stream": "stdout",
       "text": [
        "\n",
        "[CV] n_estimators=5000, learning_rate=0.005 ..........................\n",
        "[CV] . n_estimators=5000, learning_rate=0.005, score=0.135246 -  11.9s"
       ]
      },
      {
       "output_type": "stream",
       "stream": "stdout",
       "text": [
        "\n",
        "[CV] n_estimators=5000, learning_rate=0.005 ..........................\n",
        "[CV] . n_estimators=5000, learning_rate=0.005, score=0.154972 -  12.0s"
       ]
      },
      {
       "output_type": "stream",
       "stream": "stderr",
       "text": [
        "[Parallel(n_jobs=1)]: Done  85 jobs       | elapsed:  4.9min\n",
        "[Parallel(n_jobs=1)]: Done  98 jobs       | elapsed:  6.9min\n"
       ]
      },
      {
       "output_type": "stream",
       "stream": "stdout",
       "text": [
        "\n",
        "[CV] n_estimators=5000, learning_rate=0.005 ..........................\n",
        "[CV] . n_estimators=5000, learning_rate=0.005, score=0.090283 -  12.0s"
       ]
      },
      {
       "output_type": "stream",
       "stream": "stdout",
       "text": [
        "\n",
        "[CV] n_estimators=5000, learning_rate=0.005 ..........................\n",
        "[CV] . n_estimators=5000, learning_rate=0.005, score=0.209189 -  12.0s"
       ]
      },
      {
       "output_type": "stream",
       "stream": "stdout",
       "text": [
        "\n",
        "[CV] n_estimators=100, learning_rate=0.01 ............................\n",
        "[CV] ... n_estimators=100, learning_rate=0.01, score=0.041496 -   0.3s"
       ]
      },
      {
       "output_type": "stream",
       "stream": "stdout",
       "text": [
        "\n",
        "[CV] n_estimators=100, learning_rate=0.01 ............................\n",
        "[CV] ... n_estimators=100, learning_rate=0.01, score=0.042456 -   0.3s"
       ]
      },
      {
       "output_type": "stream",
       "stream": "stdout",
       "text": [
        "\n",
        "[CV] n_estimators=100, learning_rate=0.01 ............................\n",
        "[CV] ... n_estimators=100, learning_rate=0.01, score=0.060047 -   0.3s"
       ]
      },
      {
       "output_type": "stream",
       "stream": "stdout",
       "text": [
        "\n",
        "[CV] n_estimators=100, learning_rate=0.01 ............................\n",
        "[CV] ... n_estimators=100, learning_rate=0.01, score=0.046056 -   0.3s"
       ]
      },
      {
       "output_type": "stream",
       "stream": "stdout",
       "text": [
        "\n",
        "[CV] n_estimators=100, learning_rate=0.01 ............................\n",
        "[CV] ... n_estimators=100, learning_rate=0.01, score=0.045805 -   0.3s"
       ]
      },
      {
       "output_type": "stream",
       "stream": "stdout",
       "text": [
        "\n",
        "[CV] n_estimators=100, learning_rate=0.01 ............................\n",
        "[CV] ... n_estimators=100, learning_rate=0.01, score=0.068221 -   0.3s"
       ]
      },
      {
       "output_type": "stream",
       "stream": "stdout",
       "text": [
        "\n",
        "[CV] n_estimators=100, learning_rate=0.01 ............................\n",
        "[CV] ... n_estimators=100, learning_rate=0.01, score=0.066013 -   0.3s"
       ]
      },
      {
       "output_type": "stream",
       "stream": "stdout",
       "text": [
        "\n",
        "[CV] n_estimators=100, learning_rate=0.01 ............................\n",
        "[CV] ... n_estimators=100, learning_rate=0.01, score=0.059840 -   0.3s"
       ]
      },
      {
       "output_type": "stream",
       "stream": "stdout",
       "text": [
        "\n",
        "[CV] n_estimators=100, learning_rate=0.01 ............................\n",
        "[CV] ... n_estimators=100, learning_rate=0.01, score=0.052419 -   0.3s"
       ]
      },
      {
       "output_type": "stream",
       "stream": "stdout",
       "text": [
        "\n",
        "[CV] n_estimators=100, learning_rate=0.01 ............................\n",
        "[CV] ... n_estimators=100, learning_rate=0.01, score=0.073235 -   0.3s"
       ]
      },
      {
       "output_type": "stream",
       "stream": "stdout",
       "text": [
        "\n",
        "[CV] n_estimators=500, learning_rate=0.01 ............................\n",
        "[CV] ... n_estimators=500, learning_rate=0.01, score=0.079367 -   1.3s"
       ]
      },
      {
       "output_type": "stream",
       "stream": "stdout",
       "text": [
        "\n",
        "[CV] n_estimators=500, learning_rate=0.01 ............................\n",
        "[CV] ... n_estimators=500, learning_rate=0.01, score=0.109208 -   1.3s"
       ]
      },
      {
       "output_type": "stream",
       "stream": "stdout",
       "text": [
        "\n",
        "[CV] n_estimators=500, learning_rate=0.01 ............................\n",
        "[CV] ... n_estimators=500, learning_rate=0.01, score=0.156601 -   1.3s"
       ]
      },
      {
       "output_type": "stream",
       "stream": "stdout",
       "text": [
        "\n",
        "[CV] n_estimators=500, learning_rate=0.01 ............................\n",
        "[CV] ... n_estimators=500, learning_rate=0.01, score=0.137276 -   1.3s"
       ]
      },
      {
       "output_type": "stream",
       "stream": "stdout",
       "text": [
        "\n",
        "[CV] n_estimators=500, learning_rate=0.01 ............................\n",
        "[CV] ... n_estimators=500, learning_rate=0.01, score=0.109501 -   1.3s"
       ]
      },
      {
       "output_type": "stream",
       "stream": "stdout",
       "text": [
        "\n",
        "[CV] n_estimators=500, learning_rate=0.01 ............................\n",
        "[CV] ... n_estimators=500, learning_rate=0.01, score=0.162293 -   1.3s"
       ]
      },
      {
       "output_type": "stream",
       "stream": "stdout",
       "text": [
        "\n",
        "[CV] n_estimators=500, learning_rate=0.01 ............................\n",
        "[CV] ... n_estimators=500, learning_rate=0.01, score=0.125630 -   1.3s"
       ]
      },
      {
       "output_type": "stream",
       "stream": "stdout",
       "text": [
        "\n",
        "[CV] n_estimators=500, learning_rate=0.01 ............................\n",
        "[CV] ... n_estimators=500, learning_rate=0.01, score=0.136874 -   1.3s"
       ]
      },
      {
       "output_type": "stream",
       "stream": "stdout",
       "text": [
        "\n",
        "[CV] n_estimators=500, learning_rate=0.01 ............................\n",
        "[CV] ... n_estimators=500, learning_rate=0.01, score=0.108140 -   1.3s"
       ]
      },
      {
       "output_type": "stream",
       "stream": "stdout",
       "text": [
        "\n",
        "[CV] n_estimators=500, learning_rate=0.01 ............................\n",
        "[CV] ... n_estimators=500, learning_rate=0.01, score=0.168814 -   1.3s"
       ]
      },
      {
       "output_type": "stream",
       "stream": "stdout",
       "text": [
        "\n",
        "[CV] n_estimators=1000, learning_rate=0.01 ...........................\n",
        "[CV] .. n_estimators=1000, learning_rate=0.01, score=0.089373 -   2.5s"
       ]
      },
      {
       "output_type": "stream",
       "stream": "stdout",
       "text": [
        "\n",
        "[CV] n_estimators=1000, learning_rate=0.01 ...........................\n",
        "[CV] .. n_estimators=1000, learning_rate=0.01, score=0.131875 -   2.5s"
       ]
      },
      {
       "output_type": "stream",
       "stream": "stdout",
       "text": [
        "\n",
        "[CV] n_estimators=1000, learning_rate=0.01 ...........................\n",
        "[CV] .. n_estimators=1000, learning_rate=0.01, score=0.212721 -   2.6s"
       ]
      },
      {
       "output_type": "stream",
       "stream": "stdout",
       "text": [
        "\n",
        "[CV] n_estimators=1000, learning_rate=0.01 ...........................\n",
        "[CV] .. n_estimators=1000, learning_rate=0.01, score=0.172657 -   2.9s"
       ]
      },
      {
       "output_type": "stream",
       "stream": "stdout",
       "text": [
        "\n",
        "[CV] n_estimators=1000, learning_rate=0.01 ...........................\n",
        "[CV] .. n_estimators=1000, learning_rate=0.01, score=0.131797 -   2.8s"
       ]
      },
      {
       "output_type": "stream",
       "stream": "stdout",
       "text": [
        "\n",
        "[CV] n_estimators=1000, learning_rate=0.01 ...........................\n",
        "[CV] .. n_estimators=1000, learning_rate=0.01, score=0.186867 -   2.6s"
       ]
      },
      {
       "output_type": "stream",
       "stream": "stdout",
       "text": [
        "\n",
        "[CV] n_estimators=1000, learning_rate=0.01 ...........................\n",
        "[CV] .. n_estimators=1000, learning_rate=0.01, score=0.124371 -   2.6s"
       ]
      },
      {
       "output_type": "stream",
       "stream": "stdout",
       "text": [
        "\n",
        "[CV] n_estimators=1000, learning_rate=0.01 ...........................\n",
        "[CV] .. n_estimators=1000, learning_rate=0.01, score=0.157418 -   2.6s"
       ]
      },
      {
       "output_type": "stream",
       "stream": "stderr",
       "text": [
        "[Parallel(n_jobs=1)]: Done 113 jobs       | elapsed:  7.4min\n",
        "[Parallel(n_jobs=1)]: Done 128 jobs       | elapsed:  7.9min\n"
       ]
      },
      {
       "output_type": "stream",
       "stream": "stdout",
       "text": [
        "\n",
        "[CV] n_estimators=1000, learning_rate=0.01 ...........................\n",
        "[CV] .. n_estimators=1000, learning_rate=0.01, score=0.108302 -   2.6s"
       ]
      },
      {
       "output_type": "stream",
       "stream": "stdout",
       "text": [
        "\n",
        "[CV] n_estimators=1000, learning_rate=0.01 ...........................\n",
        "[CV] .. n_estimators=1000, learning_rate=0.01, score=0.192356 -   2.6s"
       ]
      },
      {
       "output_type": "stream",
       "stream": "stdout",
       "text": [
        "\n",
        "[CV] n_estimators=2000, learning_rate=0.01 ...........................\n",
        "[CV] .. n_estimators=2000, learning_rate=0.01, score=0.086594 -   5.1s"
       ]
      },
      {
       "output_type": "stream",
       "stream": "stdout",
       "text": [
        "\n",
        "[CV] n_estimators=2000, learning_rate=0.01 ...........................\n",
        "[CV] .. n_estimators=2000, learning_rate=0.01, score=0.139464 -   5.0s"
       ]
      },
      {
       "output_type": "stream",
       "stream": "stdout",
       "text": [
        "\n",
        "[CV] n_estimators=2000, learning_rate=0.01 ...........................\n",
        "[CV] .. n_estimators=2000, learning_rate=0.01, score=0.229194 -   5.1s"
       ]
      },
      {
       "output_type": "stream",
       "stream": "stdout",
       "text": [
        "\n",
        "[CV] n_estimators=2000, learning_rate=0.01 ...........................\n",
        "[CV] .. n_estimators=2000, learning_rate=0.01, score=0.192972 -   5.1s"
       ]
      },
      {
       "output_type": "stream",
       "stream": "stdout",
       "text": [
        "\n",
        "[CV] n_estimators=2000, learning_rate=0.01 ...........................\n",
        "[CV] .. n_estimators=2000, learning_rate=0.01, score=0.135817 -   5.2s"
       ]
      },
      {
       "output_type": "stream",
       "stream": "stdout",
       "text": [
        "\n",
        "[CV] n_estimators=2000, learning_rate=0.01 ...........................\n",
        "[CV] .. n_estimators=2000, learning_rate=0.01, score=0.193485 -   5.2s"
       ]
      },
      {
       "output_type": "stream",
       "stream": "stdout",
       "text": [
        "\n",
        "[CV] n_estimators=2000, learning_rate=0.01 ...........................\n",
        "[CV] .. n_estimators=2000, learning_rate=0.01, score=0.136422 -   5.4s"
       ]
      },
      {
       "output_type": "stream",
       "stream": "stdout",
       "text": [
        "\n",
        "[CV] n_estimators=2000, learning_rate=0.01 ...........................\n",
        "[CV] .. n_estimators=2000, learning_rate=0.01, score=0.161998 -   5.1s"
       ]
      },
      {
       "output_type": "stream",
       "stream": "stdout",
       "text": [
        "\n",
        "[CV] n_estimators=2000, learning_rate=0.01 ...........................\n",
        "[CV] .. n_estimators=2000, learning_rate=0.01, score=0.103489 -   5.1s"
       ]
      },
      {
       "output_type": "stream",
       "stream": "stdout",
       "text": [
        "\n",
        "[CV] n_estimators=2000, learning_rate=0.01 ...........................\n",
        "[CV] .. n_estimators=2000, learning_rate=0.01, score=0.201635 -   5.1s"
       ]
      },
      {
       "output_type": "stream",
       "stream": "stdout",
       "text": [
        "\n",
        "[CV] n_estimators=5000, learning_rate=0.01 ...........................\n",
        "[CV] .. n_estimators=5000, learning_rate=0.01, score=0.073941 -  12.7s"
       ]
      },
      {
       "output_type": "stream",
       "stream": "stdout",
       "text": [
        "\n",
        "[CV] n_estimators=5000, learning_rate=0.01 ...........................\n",
        "[CV] .. n_estimators=5000, learning_rate=0.01, score=0.124992 -  12.7s"
       ]
      },
      {
       "output_type": "stream",
       "stream": "stdout",
       "text": [
        "\n",
        "[CV] n_estimators=5000, learning_rate=0.01 ...........................\n",
        "[CV] .. n_estimators=5000, learning_rate=0.01, score=0.224867 -  12.4s"
       ]
      },
      {
       "output_type": "stream",
       "stream": "stdout",
       "text": [
        "\n",
        "[CV] n_estimators=5000, learning_rate=0.01 ...........................\n",
        "[CV] .. n_estimators=5000, learning_rate=0.01, score=0.203732 -  12.5s"
       ]
      },
      {
       "output_type": "stream",
       "stream": "stdout",
       "text": [
        "\n",
        "[CV] n_estimators=5000, learning_rate=0.01 ...........................\n",
        "[CV] .. n_estimators=5000, learning_rate=0.01, score=0.141851 -  12.6s"
       ]
      },
      {
       "output_type": "stream",
       "stream": "stdout",
       "text": [
        "\n",
        "[CV] n_estimators=5000, learning_rate=0.01 ...........................\n",
        "[CV] .. n_estimators=5000, learning_rate=0.01, score=0.161420 -  12.5s"
       ]
      },
      {
       "output_type": "stream",
       "stream": "stdout",
       "text": [
        "\n",
        "[CV] n_estimators=5000, learning_rate=0.01 ...........................\n",
        "[CV] .. n_estimators=5000, learning_rate=0.01, score=0.132129 -  12.5s"
       ]
      },
      {
       "output_type": "stream",
       "stream": "stdout",
       "text": [
        "\n",
        "[CV] n_estimators=5000, learning_rate=0.01 ...........................\n",
        "[CV] .. n_estimators=5000, learning_rate=0.01, score=0.151018 -  12.6s"
       ]
      },
      {
       "output_type": "stream",
       "stream": "stdout",
       "text": [
        "\n",
        "[CV] n_estimators=5000, learning_rate=0.01 ...........................\n",
        "[CV] .. n_estimators=5000, learning_rate=0.01, score=0.083501 -  12.6s"
       ]
      },
      {
       "output_type": "stream",
       "stream": "stdout",
       "text": [
        "\n",
        "[CV] n_estimators=5000, learning_rate=0.01 ...........................\n",
        "[CV] .. n_estimators=5000, learning_rate=0.01, score=0.225415 -  12.4s"
       ]
      },
      {
       "output_type": "stream",
       "stream": "stdout",
       "text": [
        "\n",
        "[CV] n_estimators=100, learning_rate=0.05 ............................\n",
        "[CV] ... n_estimators=100, learning_rate=0.05, score=0.082624 -   0.3s"
       ]
      },
      {
       "output_type": "stream",
       "stream": "stdout",
       "text": [
        "\n",
        "[CV] n_estimators=100, learning_rate=0.05 ............................\n",
        "[CV] ... n_estimators=100, learning_rate=0.05, score=0.113247 -   0.3s"
       ]
      },
      {
       "output_type": "stream",
       "stream": "stdout",
       "text": [
        "\n",
        "[CV] n_estimators=100, learning_rate=0.05 ............................\n",
        "[CV] ... n_estimators=100, learning_rate=0.05, score=0.183606 -   0.3s"
       ]
      },
      {
       "output_type": "stream",
       "stream": "stdout",
       "text": [
        "\n",
        "[CV] n_estimators=100, learning_rate=0.05 ............................\n",
        "[CV] ... n_estimators=100, learning_rate=0.05, score=0.140689 -   0.3s"
       ]
      },
      {
       "output_type": "stream",
       "stream": "stdout",
       "text": [
        "\n",
        "[CV] n_estimators=100, learning_rate=0.05 ............................\n",
        "[CV] ... n_estimators=100, learning_rate=0.05, score=0.111826 -   0.3s"
       ]
      },
      {
       "output_type": "stream",
       "stream": "stdout",
       "text": [
        "\n",
        "[CV] n_estimators=100, learning_rate=0.05 ............................\n",
        "[CV] ... n_estimators=100, learning_rate=0.05, score=0.163512 -   0.3s"
       ]
      },
      {
       "output_type": "stream",
       "stream": "stdout",
       "text": [
        "\n",
        "[CV] n_estimators=100, learning_rate=0.05 ............................\n",
        "[CV] ... n_estimators=100, learning_rate=0.05, score=0.129789 -   0.3s"
       ]
      },
      {
       "output_type": "stream",
       "stream": "stdout",
       "text": [
        "\n",
        "[CV] n_estimators=100, learning_rate=0.05 ............................\n",
        "[CV] ... n_estimators=100, learning_rate=0.05, score=0.159415 -   0.3s"
       ]
      },
      {
       "output_type": "stream",
       "stream": "stdout",
       "text": [
        "\n",
        "[CV] n_estimators=100, learning_rate=0.05 ............................\n",
        "[CV] ... n_estimators=100, learning_rate=0.05, score=0.108209 -   0.3s"
       ]
      },
      {
       "output_type": "stream",
       "stream": "stdout",
       "text": [
        "\n",
        "[CV] n_estimators=100, learning_rate=0.05 ............................\n",
        "[CV] ... n_estimators=100, learning_rate=0.05, score=0.163941 -   0.3s"
       ]
      },
      {
       "output_type": "stream",
       "stream": "stdout",
       "text": [
        "\n",
        "[CV] n_estimators=500, learning_rate=0.05 ............................\n",
        "[CV] ... n_estimators=500, learning_rate=0.05, score=0.068468 -   1.3s"
       ]
      },
      {
       "output_type": "stream",
       "stream": "stdout",
       "text": [
        "\n",
        "[CV] n_estimators=500, learning_rate=0.05 ............................\n",
        "[CV] ... n_estimators=500, learning_rate=0.05, score=0.131392 -   1.3s"
       ]
      },
      {
       "output_type": "stream",
       "stream": "stderr",
       "text": [
        "[Parallel(n_jobs=1)]: Done 145 jobs       | elapsed:  9.9min\n",
        "[Parallel(n_jobs=1)]: Done 162 jobs       | elapsed: 11.0min\n"
       ]
      },
      {
       "output_type": "stream",
       "stream": "stdout",
       "text": [
        "\n",
        "[CV] n_estimators=500, learning_rate=0.05 ............................\n",
        "[CV] ... n_estimators=500, learning_rate=0.05, score=0.215636 -   1.3s"
       ]
      },
      {
       "output_type": "stream",
       "stream": "stdout",
       "text": [
        "\n",
        "[CV] n_estimators=500, learning_rate=0.05 ............................\n",
        "[CV] ... n_estimators=500, learning_rate=0.05, score=0.196101 -   1.3s"
       ]
      },
      {
       "output_type": "stream",
       "stream": "stdout",
       "text": [
        "\n",
        "[CV] n_estimators=500, learning_rate=0.05 ............................\n",
        "[CV] ... n_estimators=500, learning_rate=0.05, score=0.139669 -   1.3s"
       ]
      },
      {
       "output_type": "stream",
       "stream": "stdout",
       "text": [
        "\n",
        "[CV] n_estimators=500, learning_rate=0.05 ............................\n",
        "[CV] ... n_estimators=500, learning_rate=0.05, score=0.177420 -   1.3s"
       ]
      },
      {
       "output_type": "stream",
       "stream": "stdout",
       "text": [
        "\n",
        "[CV] n_estimators=500, learning_rate=0.05 ............................\n",
        "[CV] ... n_estimators=500, learning_rate=0.05, score=0.142602 -   1.3s"
       ]
      },
      {
       "output_type": "stream",
       "stream": "stdout",
       "text": [
        "\n",
        "[CV] n_estimators=500, learning_rate=0.05 ............................\n",
        "[CV] ... n_estimators=500, learning_rate=0.05, score=0.141139 -   1.3s"
       ]
      },
      {
       "output_type": "stream",
       "stream": "stdout",
       "text": [
        "\n",
        "[CV] n_estimators=500, learning_rate=0.05 ............................\n",
        "[CV] ... n_estimators=500, learning_rate=0.05, score=0.082887 -   1.3s"
       ]
      },
      {
       "output_type": "stream",
       "stream": "stdout",
       "text": [
        "\n",
        "[CV] n_estimators=500, learning_rate=0.05 ............................\n",
        "[CV] ... n_estimators=500, learning_rate=0.05, score=0.219709 -   1.3s"
       ]
      },
      {
       "output_type": "stream",
       "stream": "stdout",
       "text": [
        "\n",
        "[CV] n_estimators=1000, learning_rate=0.05 ...........................\n",
        "[CV] .. n_estimators=1000, learning_rate=0.05, score=0.069838 -   2.6s"
       ]
      },
      {
       "output_type": "stream",
       "stream": "stdout",
       "text": [
        "\n",
        "[CV] n_estimators=1000, learning_rate=0.05 ...........................\n",
        "[CV] .. n_estimators=1000, learning_rate=0.05, score=0.121902 -   2.5s"
       ]
      },
      {
       "output_type": "stream",
       "stream": "stdout",
       "text": [
        "\n",
        "[CV] n_estimators=1000, learning_rate=0.05 ...........................\n",
        "[CV] .. n_estimators=1000, learning_rate=0.05, score=0.218177 -   2.6s"
       ]
      },
      {
       "output_type": "stream",
       "stream": "stdout",
       "text": [
        "\n",
        "[CV] n_estimators=1000, learning_rate=0.05 ...........................\n",
        "[CV] .. n_estimators=1000, learning_rate=0.05, score=0.195050 -   2.5s"
       ]
      },
      {
       "output_type": "stream",
       "stream": "stdout",
       "text": [
        "\n",
        "[CV] n_estimators=1000, learning_rate=0.05 ...........................\n",
        "[CV] .. n_estimators=1000, learning_rate=0.05, score=0.141830 -   2.5s"
       ]
      },
      {
       "output_type": "stream",
       "stream": "stdout",
       "text": [
        "\n",
        "[CV] n_estimators=1000, learning_rate=0.05 ...........................\n",
        "[CV] .. n_estimators=1000, learning_rate=0.05, score=0.130406 -   2.5s"
       ]
      },
      {
       "output_type": "stream",
       "stream": "stdout",
       "text": [
        "\n",
        "[CV] n_estimators=1000, learning_rate=0.05 ...........................\n",
        "[CV] .. n_estimators=1000, learning_rate=0.05, score=0.125312 -   2.5s"
       ]
      },
      {
       "output_type": "stream",
       "stream": "stdout",
       "text": [
        "\n",
        "[CV] n_estimators=1000, learning_rate=0.05 ...........................\n",
        "[CV] .. n_estimators=1000, learning_rate=0.05, score=0.125349 -   2.5s"
       ]
      },
      {
       "output_type": "stream",
       "stream": "stdout",
       "text": [
        "\n",
        "[CV] n_estimators=1000, learning_rate=0.05 ...........................\n",
        "[CV] .. n_estimators=1000, learning_rate=0.05, score=0.069460 -   2.5s"
       ]
      },
      {
       "output_type": "stream",
       "stream": "stdout",
       "text": [
        "\n",
        "[CV] n_estimators=1000, learning_rate=0.05 ...........................\n",
        "[CV] .. n_estimators=1000, learning_rate=0.05, score=0.217667 -   2.5s"
       ]
      },
      {
       "output_type": "stream",
       "stream": "stdout",
       "text": [
        "\n",
        "[CV] n_estimators=2000, learning_rate=0.05 ...........................\n",
        "[CV] .. n_estimators=2000, learning_rate=0.05, score=0.047844 -   5.0s"
       ]
      },
      {
       "output_type": "stream",
       "stream": "stdout",
       "text": [
        "\n",
        "[CV] n_estimators=2000, learning_rate=0.05 ...........................\n",
        "[CV] .. n_estimators=2000, learning_rate=0.05, score=0.113969 -   5.0s"
       ]
      },
      {
       "output_type": "stream",
       "stream": "stdout",
       "text": [
        "\n",
        "[CV] n_estimators=2000, learning_rate=0.05 ...........................\n",
        "[CV] .. n_estimators=2000, learning_rate=0.05, score=0.194820 -   5.0s"
       ]
      },
      {
       "output_type": "stream",
       "stream": "stdout",
       "text": [
        "\n",
        "[CV] n_estimators=2000, learning_rate=0.05 ...........................\n",
        "[CV] .. n_estimators=2000, learning_rate=0.05, score=0.202423 -   5.0s"
       ]
      },
      {
       "output_type": "stream",
       "stream": "stdout",
       "text": [
        "\n",
        "[CV] n_estimators=2000, learning_rate=0.05 ...........................\n",
        "[CV] .. n_estimators=2000, learning_rate=0.05, score=0.090769 -   5.1s"
       ]
      },
      {
       "output_type": "stream",
       "stream": "stdout",
       "text": [
        "\n",
        "[CV] n_estimators=2000, learning_rate=0.05 ...........................\n",
        "[CV] .. n_estimators=2000, learning_rate=0.05, score=0.086589 -   5.1s"
       ]
      },
      {
       "output_type": "stream",
       "stream": "stdout",
       "text": [
        "\n",
        "[CV] n_estimators=2000, learning_rate=0.05 ...........................\n",
        "[CV] .. n_estimators=2000, learning_rate=0.05, score=0.090341 -   5.0s"
       ]
      },
      {
       "output_type": "stream",
       "stream": "stdout",
       "text": [
        "\n",
        "[CV] n_estimators=2000, learning_rate=0.05 ...........................\n",
        "[CV] .. n_estimators=2000, learning_rate=0.05, score=0.123982 -   5.0s"
       ]
      },
      {
       "output_type": "stream",
       "stream": "stdout",
       "text": [
        "\n",
        "[CV] n_estimators=2000, learning_rate=0.05 ...........................\n",
        "[CV] .. n_estimators=2000, learning_rate=0.05, score=0.064570 -   5.0s"
       ]
      },
      {
       "output_type": "stream",
       "stream": "stdout",
       "text": [
        "\n",
        "[CV] n_estimators=2000, learning_rate=0.05 ...........................\n",
        "[CV] .. n_estimators=2000, learning_rate=0.05, score=0.222308 -   5.0s"
       ]
      },
      {
       "output_type": "stream",
       "stream": "stdout",
       "text": [
        "\n",
        "[CV] n_estimators=5000, learning_rate=0.05 ...........................\n",
        "[CV] . n_estimators=5000, learning_rate=0.05, score=-0.022529 -  12.9s"
       ]
      },
      {
       "output_type": "stream",
       "stream": "stdout",
       "text": [
        "\n",
        "[CV] n_estimators=5000, learning_rate=0.05 ...........................\n",
        "[CV] .. n_estimators=5000, learning_rate=0.05, score=0.080991 -  12.8s"
       ]
      },
      {
       "output_type": "stream",
       "stream": "stdout",
       "text": [
        "\n",
        "[CV] n_estimators=5000, learning_rate=0.05 ...........................\n",
        "[CV] .. n_estimators=5000, learning_rate=0.05, score=0.156672 -  12.7s"
       ]
      },
      {
       "output_type": "stream",
       "stream": "stdout",
       "text": [
        "\n",
        "[CV] n_estimators=5000, learning_rate=0.05 ...........................\n",
        "[CV] .. n_estimators=5000, learning_rate=0.05, score=0.172011 -  12.6s"
       ]
      },
      {
       "output_type": "stream",
       "stream": "stdout",
       "text": [
        "\n",
        "[CV] n_estimators=5000, learning_rate=0.05 ...........................\n",
        "[CV] .. n_estimators=5000, learning_rate=0.05, score=0.071737 -  12.7s"
       ]
      },
      {
       "output_type": "stream",
       "stream": "stdout",
       "text": [
        "\n",
        "[CV] n_estimators=5000, learning_rate=0.05 ...........................\n",
        "[CV] .. n_estimators=5000, learning_rate=0.05, score=0.061085 -  12.6s"
       ]
      },
      {
       "output_type": "stream",
       "stream": "stdout",
       "text": [
        "\n",
        "[CV] n_estimators=5000, learning_rate=0.05 ...........................\n",
        "[CV] .. n_estimators=5000, learning_rate=0.05, score=0.019074 -  12.6s"
       ]
      },
      {
       "output_type": "stream",
       "stream": "stdout",
       "text": [
        "\n",
        "[CV] n_estimators=5000, learning_rate=0.05 ...........................\n",
        "[CV] .. n_estimators=5000, learning_rate=0.05, score=0.041092 -  12.6s"
       ]
      },
      {
       "output_type": "stream",
       "stream": "stdout",
       "text": [
        "\n",
        "[CV] n_estimators=5000, learning_rate=0.05 ...........................\n",
        "[CV] .. n_estimators=5000, learning_rate=0.05, score=0.061627 -  12.6s"
       ]
      },
      {
       "output_type": "stream",
       "stream": "stdout",
       "text": [
        "\n",
        "[CV] n_estimators=5000, learning_rate=0.05 ...........................\n",
        "[CV] .. n_estimators=5000, learning_rate=0.05, score=0.217918 -  12.5s"
       ]
      },
      {
       "output_type": "stream",
       "stream": "stderr",
       "text": [
        "[Parallel(n_jobs=1)]: Done 181 jobs       | elapsed: 11.7min\n",
        "[Parallel(n_jobs=1)]: Done 200 jobs       | elapsed: 14.6min\n"
       ]
      },
      {
       "output_type": "stream",
       "stream": "stdout",
       "text": [
        "\n",
        "[CV] n_estimators=100, learning_rate=0.1 .............................\n",
        "[CV] .... n_estimators=100, learning_rate=0.1, score=0.074240 -   0.3s"
       ]
      },
      {
       "output_type": "stream",
       "stream": "stdout",
       "text": [
        "\n",
        "[CV] n_estimators=100, learning_rate=0.1 .............................\n",
        "[CV] .... n_estimators=100, learning_rate=0.1, score=0.138603 -   0.3s"
       ]
      },
      {
       "output_type": "stream",
       "stream": "stdout",
       "text": [
        "\n",
        "[CV] n_estimators=100, learning_rate=0.1 .............................\n",
        "[CV] .... n_estimators=100, learning_rate=0.1, score=0.184398 -   0.3s"
       ]
      },
      {
       "output_type": "stream",
       "stream": "stdout",
       "text": [
        "\n",
        "[CV] n_estimators=100, learning_rate=0.1 .............................\n",
        "[CV] .... n_estimators=100, learning_rate=0.1, score=0.177917 -   0.3s"
       ]
      },
      {
       "output_type": "stream",
       "stream": "stdout",
       "text": [
        "\n",
        "[CV] n_estimators=100, learning_rate=0.1 .............................\n",
        "[CV] .... n_estimators=100, learning_rate=0.1, score=0.123800 -   0.3s"
       ]
      },
      {
       "output_type": "stream",
       "stream": "stdout",
       "text": [
        "\n",
        "[CV] n_estimators=100, learning_rate=0.1 .............................\n",
        "[CV] .... n_estimators=100, learning_rate=0.1, score=0.167835 -   0.3s"
       ]
      },
      {
       "output_type": "stream",
       "stream": "stdout",
       "text": [
        "\n",
        "[CV] n_estimators=100, learning_rate=0.1 .............................\n",
        "[CV] .... n_estimators=100, learning_rate=0.1, score=0.112969 -   0.3s"
       ]
      },
      {
       "output_type": "stream",
       "stream": "stdout",
       "text": [
        "\n",
        "[CV] n_estimators=100, learning_rate=0.1 .............................\n",
        "[CV] .... n_estimators=100, learning_rate=0.1, score=0.162875 -   0.3s"
       ]
      },
      {
       "output_type": "stream",
       "stream": "stdout",
       "text": [
        "\n",
        "[CV] n_estimators=100, learning_rate=0.1 .............................\n",
        "[CV] .... n_estimators=100, learning_rate=0.1, score=0.104102 -   0.3s"
       ]
      },
      {
       "output_type": "stream",
       "stream": "stdout",
       "text": [
        "\n",
        "[CV] n_estimators=100, learning_rate=0.1 .............................\n",
        "[CV] .... n_estimators=100, learning_rate=0.1, score=0.195321 -   0.3s"
       ]
      },
      {
       "output_type": "stream",
       "stream": "stdout",
       "text": [
        "\n",
        "[CV] n_estimators=500, learning_rate=0.1 .............................\n",
        "[CV] .... n_estimators=500, learning_rate=0.1, score=0.053945 -   1.3s"
       ]
      },
      {
       "output_type": "stream",
       "stream": "stdout",
       "text": [
        "\n",
        "[CV] n_estimators=500, learning_rate=0.1 .............................\n",
        "[CV] .... n_estimators=500, learning_rate=0.1, score=0.114549 -   1.3s"
       ]
      },
      {
       "output_type": "stream",
       "stream": "stdout",
       "text": [
        "\n",
        "[CV] n_estimators=500, learning_rate=0.1 .............................\n",
        "[CV] .... n_estimators=500, learning_rate=0.1, score=0.215310 -   1.3s"
       ]
      },
      {
       "output_type": "stream",
       "stream": "stdout",
       "text": [
        "\n",
        "[CV] n_estimators=500, learning_rate=0.1 .............................\n",
        "[CV] .... n_estimators=500, learning_rate=0.1, score=0.192457 -   1.3s"
       ]
      },
      {
       "output_type": "stream",
       "stream": "stdout",
       "text": [
        "\n",
        "[CV] n_estimators=500, learning_rate=0.1 .............................\n",
        "[CV] .... n_estimators=500, learning_rate=0.1, score=0.149829 -   1.3s"
       ]
      },
      {
       "output_type": "stream",
       "stream": "stdout",
       "text": [
        "\n",
        "[CV] n_estimators=500, learning_rate=0.1 .............................\n",
        "[CV] .... n_estimators=500, learning_rate=0.1, score=0.124797 -   1.3s"
       ]
      },
      {
       "output_type": "stream",
       "stream": "stdout",
       "text": [
        "\n",
        "[CV] n_estimators=500, learning_rate=0.1 .............................\n",
        "[CV] .... n_estimators=500, learning_rate=0.1, score=0.084664 -   1.3s"
       ]
      },
      {
       "output_type": "stream",
       "stream": "stdout",
       "text": [
        "\n",
        "[CV] n_estimators=500, learning_rate=0.1 .............................\n",
        "[CV] .... n_estimators=500, learning_rate=0.1, score=0.165686 -   1.3s"
       ]
      },
      {
       "output_type": "stream",
       "stream": "stdout",
       "text": [
        "\n",
        "[CV] n_estimators=500, learning_rate=0.1 .............................\n",
        "[CV] .... n_estimators=500, learning_rate=0.1, score=0.072061 -   1.3s"
       ]
      },
      {
       "output_type": "stream",
       "stream": "stdout",
       "text": [
        "\n",
        "[CV] n_estimators=500, learning_rate=0.1 .............................\n",
        "[CV] .... n_estimators=500, learning_rate=0.1, score=0.201259 -   1.3s"
       ]
      },
      {
       "output_type": "stream",
       "stream": "stdout",
       "text": [
        "\n",
        "[CV] n_estimators=1000, learning_rate=0.1 ............................\n",
        "[CV] ... n_estimators=1000, learning_rate=0.1, score=0.028202 -   2.5s"
       ]
      },
      {
       "output_type": "stream",
       "stream": "stdout",
       "text": [
        "\n",
        "[CV] n_estimators=1000, learning_rate=0.1 ............................\n",
        "[CV] ... n_estimators=1000, learning_rate=0.1, score=0.099093 -   2.5s"
       ]
      },
      {
       "output_type": "stream",
       "stream": "stdout",
       "text": [
        "\n",
        "[CV] n_estimators=1000, learning_rate=0.1 ............................\n",
        "[CV] ... n_estimators=1000, learning_rate=0.1, score=0.163732 -   2.6s"
       ]
      },
      {
       "output_type": "stream",
       "stream": "stdout",
       "text": [
        "\n",
        "[CV] n_estimators=1000, learning_rate=0.1 ............................\n",
        "[CV] ... n_estimators=1000, learning_rate=0.1, score=0.197971 -   2.6s"
       ]
      },
      {
       "output_type": "stream",
       "stream": "stdout",
       "text": [
        "\n",
        "[CV] n_estimators=1000, learning_rate=0.1 ............................\n",
        "[CV] ... n_estimators=1000, learning_rate=0.1, score=0.112020 -   2.6s"
       ]
      },
      {
       "output_type": "stream",
       "stream": "stdout",
       "text": [
        "\n",
        "[CV] n_estimators=1000, learning_rate=0.1 ............................\n",
        "[CV] ... n_estimators=1000, learning_rate=0.1, score=0.117695 -   2.6s"
       ]
      },
      {
       "output_type": "stream",
       "stream": "stdout",
       "text": [
        "\n",
        "[CV] n_estimators=1000, learning_rate=0.1 ............................\n",
        "[CV] ... n_estimators=1000, learning_rate=0.1, score=0.115321 -   2.6s"
       ]
      },
      {
       "output_type": "stream",
       "stream": "stdout",
       "text": [
        "\n",
        "[CV] n_estimators=1000, learning_rate=0.1 ............................\n",
        "[CV] ... n_estimators=1000, learning_rate=0.1, score=0.113506 -   2.5s"
       ]
      },
      {
       "output_type": "stream",
       "stream": "stdout",
       "text": [
        "\n",
        "[CV] n_estimators=1000, learning_rate=0.1 ............................\n",
        "[CV] ... n_estimators=1000, learning_rate=0.1, score=0.037986 -   2.5s"
       ]
      },
      {
       "output_type": "stream",
       "stream": "stdout",
       "text": [
        "\n",
        "[CV] n_estimators=1000, learning_rate=0.1 ............................\n",
        "[CV] ... n_estimators=1000, learning_rate=0.1, score=0.180090 -   2.5s"
       ]
      },
      {
       "output_type": "stream",
       "stream": "stdout",
       "text": [
        "\n",
        "[CV] n_estimators=2000, learning_rate=0.1 ............................\n",
        "[CV] .. n_estimators=2000, learning_rate=0.1, score=-0.028641 -   5.0s"
       ]
      },
      {
       "output_type": "stream",
       "stream": "stdout",
       "text": [
        "\n",
        "[CV] n_estimators=2000, learning_rate=0.1 ............................\n",
        "[CV] ... n_estimators=2000, learning_rate=0.1, score=0.010560 -   5.1s"
       ]
      },
      {
       "output_type": "stream",
       "stream": "stdout",
       "text": [
        "\n",
        "[CV] n_estimators=2000, learning_rate=0.1 ............................\n",
        "[CV] ... n_estimators=2000, learning_rate=0.1, score=0.148536 -   5.1s"
       ]
      },
      {
       "output_type": "stream",
       "stream": "stdout",
       "text": [
        "\n",
        "[CV] n_estimators=2000, learning_rate=0.1 ............................\n",
        "[CV] ... n_estimators=2000, learning_rate=0.1, score=0.202960 -   5.0s"
       ]
      },
      {
       "output_type": "stream",
       "stream": "stdout",
       "text": [
        "\n",
        "[CV] n_estimators=2000, learning_rate=0.1 ............................\n",
        "[CV] ... n_estimators=2000, learning_rate=0.1, score=0.114855 -   5.1s"
       ]
      },
      {
       "output_type": "stream",
       "stream": "stdout",
       "text": [
        "\n",
        "[CV] n_estimators=2000, learning_rate=0.1 ............................\n",
        "[CV] ... n_estimators=2000, learning_rate=0.1, score=0.026136 -   5.0s"
       ]
      },
      {
       "output_type": "stream",
       "stream": "stdout",
       "text": [
        "\n",
        "[CV] n_estimators=2000, learning_rate=0.1 ............................\n",
        "[CV] ... n_estimators=2000, learning_rate=0.1, score=0.063665 -   5.1s"
       ]
      },
      {
       "output_type": "stream",
       "stream": "stdout",
       "text": [
        "\n",
        "[CV] n_estimators=2000, learning_rate=0.1 ............................\n",
        "[CV] ... n_estimators=2000, learning_rate=0.1, score=0.057767 -   5.1s"
       ]
      },
      {
       "output_type": "stream",
       "stream": "stdout",
       "text": [
        "\n",
        "[CV] n_estimators=2000, learning_rate=0.1 ............................\n",
        "[CV] ... n_estimators=2000, learning_rate=0.1, score=0.050749 -   5.1s"
       ]
      },
      {
       "output_type": "stream",
       "stream": "stdout",
       "text": [
        "\n",
        "[CV] n_estimators=2000, learning_rate=0.1 ............................\n",
        "[CV] ... n_estimators=2000, learning_rate=0.1, score=0.195769 -   5.1s"
       ]
      },
      {
       "output_type": "stream",
       "stream": "stdout",
       "text": [
        "\n",
        "[CV] n_estimators=5000, learning_rate=0.1 ............................\n",
        "[CV] .. n_estimators=5000, learning_rate=0.1, score=-0.063796 -  12.6s"
       ]
      },
      {
       "output_type": "stream",
       "stream": "stdout",
       "text": [
        "\n",
        "[CV] n_estimators=5000, learning_rate=0.1 ............................\n",
        "[CV] .. n_estimators=5000, learning_rate=0.1, score=-0.072011 -  12.6s"
       ]
      },
      {
       "output_type": "stream",
       "stream": "stderr",
       "text": [
        "[Parallel(n_jobs=1)]: Done 221 jobs       | elapsed: 14.9min\n",
        "[Parallel(n_jobs=1)]: Done 242 jobs       | elapsed: 16.5min\n"
       ]
      },
      {
       "output_type": "stream",
       "stream": "stdout",
       "text": [
        "\n",
        "[CV] n_estimators=5000, learning_rate=0.1 ............................\n",
        "[CV] ... n_estimators=5000, learning_rate=0.1, score=0.154025 -  12.9s"
       ]
      },
      {
       "output_type": "stream",
       "stream": "stdout",
       "text": [
        "\n",
        "[CV] n_estimators=5000, learning_rate=0.1 ............................\n",
        "[CV] ... n_estimators=5000, learning_rate=0.1, score=0.135580 -  12.6s"
       ]
      },
      {
       "output_type": "stream",
       "stream": "stdout",
       "text": [
        "\n",
        "[CV] n_estimators=5000, learning_rate=0.1 ............................\n",
        "[CV] ... n_estimators=5000, learning_rate=0.1, score=0.061367 -  12.6s"
       ]
      },
      {
       "output_type": "stream",
       "stream": "stdout",
       "text": [
        "\n",
        "[CV] n_estimators=5000, learning_rate=0.1 ............................\n",
        "[CV] .. n_estimators=5000, learning_rate=0.1, score=-0.069786 -  12.7s"
       ]
      },
      {
       "output_type": "stream",
       "stream": "stdout",
       "text": [
        "\n",
        "[CV] n_estimators=5000, learning_rate=0.1 ............................\n",
        "[CV] .. n_estimators=5000, learning_rate=0.1, score=-0.015350 -  12.5s"
       ]
      },
      {
       "output_type": "stream",
       "stream": "stdout",
       "text": [
        "\n",
        "[CV] n_estimators=5000, learning_rate=0.1 ............................\n",
        "[CV] .. n_estimators=5000, learning_rate=0.1, score=-0.011278 -  12.6s"
       ]
      },
      {
       "output_type": "stream",
       "stream": "stdout",
       "text": [
        "\n",
        "[CV] n_estimators=5000, learning_rate=0.1 ............................\n",
        "[CV] ... n_estimators=5000, learning_rate=0.1, score=0.009783 -  12.7s"
       ]
      },
      {
       "output_type": "stream",
       "stream": "stdout",
       "text": [
        "\n",
        "[CV] n_estimators=5000, learning_rate=0.1 ............................\n",
        "[CV] ... n_estimators=5000, learning_rate=0.1, score=0.163998 -  13.3s"
       ]
      },
      {
       "output_type": "stream",
       "stream": "stdout",
       "text": [
        "\n",
        "[CV] n_estimators=100, learning_rate=0.3 .............................\n",
        "[CV] .... n_estimators=100, learning_rate=0.3, score=0.053250 -   0.3s"
       ]
      },
      {
       "output_type": "stream",
       "stream": "stdout",
       "text": [
        "\n",
        "[CV] n_estimators=100, learning_rate=0.3 .............................\n",
        "[CV] .... n_estimators=100, learning_rate=0.3, score=0.022735 -   0.3s"
       ]
      },
      {
       "output_type": "stream",
       "stream": "stdout",
       "text": [
        "\n",
        "[CV] n_estimators=100, learning_rate=0.3 .............................\n",
        "[CV] .... n_estimators=100, learning_rate=0.3, score=0.171482 -   0.3s"
       ]
      },
      {
       "output_type": "stream",
       "stream": "stdout",
       "text": [
        "\n",
        "[CV] n_estimators=100, learning_rate=0.3 .............................\n",
        "[CV] .... n_estimators=100, learning_rate=0.3, score=0.175375 -   0.3s"
       ]
      },
      {
       "output_type": "stream",
       "stream": "stdout",
       "text": [
        "\n",
        "[CV] n_estimators=100, learning_rate=0.3 .............................\n",
        "[CV] .... n_estimators=100, learning_rate=0.3, score=0.097909 -   0.3s"
       ]
      },
      {
       "output_type": "stream",
       "stream": "stdout",
       "text": [
        "\n",
        "[CV] n_estimators=100, learning_rate=0.3 .............................\n",
        "[CV] .... n_estimators=100, learning_rate=0.3, score=0.129466 -   0.3s"
       ]
      },
      {
       "output_type": "stream",
       "stream": "stdout",
       "text": [
        "\n",
        "[CV] n_estimators=100, learning_rate=0.3 .............................\n",
        "[CV] .... n_estimators=100, learning_rate=0.3, score=0.132228 -   0.3s"
       ]
      },
      {
       "output_type": "stream",
       "stream": "stdout",
       "text": [
        "\n",
        "[CV] n_estimators=100, learning_rate=0.3 .............................\n",
        "[CV] .... n_estimators=100, learning_rate=0.3, score=0.076100 -   0.3s"
       ]
      },
      {
       "output_type": "stream",
       "stream": "stdout",
       "text": [
        "\n",
        "[CV] n_estimators=100, learning_rate=0.3 .............................\n",
        "[CV] .... n_estimators=100, learning_rate=0.3, score=0.067194 -   0.3s"
       ]
      },
      {
       "output_type": "stream",
       "stream": "stdout",
       "text": [
        "\n",
        "[CV] n_estimators=100, learning_rate=0.3 .............................\n",
        "[CV] .... n_estimators=100, learning_rate=0.3, score=0.163128 -   0.3s"
       ]
      },
      {
       "output_type": "stream",
       "stream": "stdout",
       "text": [
        "\n",
        "[CV] n_estimators=500, learning_rate=0.3 .............................\n",
        "[CV] ... n_estimators=500, learning_rate=0.3, score=-0.090071 -   1.4s"
       ]
      },
      {
       "output_type": "stream",
       "stream": "stdout",
       "text": [
        "\n",
        "[CV] n_estimators=500, learning_rate=0.3 .............................\n",
        "[CV] .... n_estimators=500, learning_rate=0.3, score=0.016789 -   1.3s"
       ]
      },
      {
       "output_type": "stream",
       "stream": "stdout",
       "text": [
        "\n",
        "[CV] n_estimators=500, learning_rate=0.3 .............................\n",
        "[CV] .... n_estimators=500, learning_rate=0.3, score=0.169051 -   1.3s"
       ]
      },
      {
       "output_type": "stream",
       "stream": "stdout",
       "text": [
        "\n",
        "[CV] n_estimators=500, learning_rate=0.3 .............................\n",
        "[CV] .... n_estimators=500, learning_rate=0.3, score=0.119739 -   1.3s"
       ]
      },
      {
       "output_type": "stream",
       "stream": "stdout",
       "text": [
        "\n",
        "[CV] n_estimators=500, learning_rate=0.3 .............................\n",
        "[CV] .... n_estimators=500, learning_rate=0.3, score=0.089862 -   1.3s"
       ]
      },
      {
       "output_type": "stream",
       "stream": "stdout",
       "text": [
        "\n",
        "[CV] n_estimators=500, learning_rate=0.3 .............................\n",
        "[CV] .... n_estimators=500, learning_rate=0.3, score=0.032431 -   1.3s"
       ]
      },
      {
       "output_type": "stream",
       "stream": "stdout",
       "text": [
        "\n",
        "[CV] n_estimators=500, learning_rate=0.3 .............................\n",
        "[CV] ... n_estimators=500, learning_rate=0.3, score=-0.053214 -   1.3s"
       ]
      },
      {
       "output_type": "stream",
       "stream": "stdout",
       "text": [
        "\n",
        "[CV] n_estimators=500, learning_rate=0.3 .............................\n",
        "[CV] ... n_estimators=500, learning_rate=0.3, score=-0.026778 -   1.3s"
       ]
      },
      {
       "output_type": "stream",
       "stream": "stdout",
       "text": [
        "\n",
        "[CV] n_estimators=500, learning_rate=0.3 .............................\n",
        "[CV] .... n_estimators=500, learning_rate=0.3, score=0.040001 -   1.3s"
       ]
      },
      {
       "output_type": "stream",
       "stream": "stdout",
       "text": [
        "\n",
        "[CV] n_estimators=500, learning_rate=0.3 .............................\n",
        "[CV] .... n_estimators=500, learning_rate=0.3, score=0.153916 -   1.3s"
       ]
      },
      {
       "output_type": "stream",
       "stream": "stdout",
       "text": [
        "\n",
        "[CV] n_estimators=1000, learning_rate=0.3 ............................\n",
        "[CV] .. n_estimators=1000, learning_rate=0.3, score=-0.093604 -   2.5s"
       ]
      },
      {
       "output_type": "stream",
       "stream": "stdout",
       "text": [
        "\n",
        "[CV] n_estimators=1000, learning_rate=0.3 ............................\n",
        "[CV] .. n_estimators=1000, learning_rate=0.3, score=-0.086847 -   2.5s"
       ]
      },
      {
       "output_type": "stream",
       "stream": "stdout",
       "text": [
        "\n",
        "[CV] n_estimators=1000, learning_rate=0.3 ............................\n",
        "[CV] ... n_estimators=1000, learning_rate=0.3, score=0.060556 -   2.6s"
       ]
      },
      {
       "output_type": "stream",
       "stream": "stdout",
       "text": [
        "\n",
        "[CV] n_estimators=1000, learning_rate=0.3 ............................\n",
        "[CV] ... n_estimators=1000, learning_rate=0.3, score=0.136199 -   2.5s"
       ]
      },
      {
       "output_type": "stream",
       "stream": "stdout",
       "text": [
        "\n",
        "[CV] n_estimators=1000, learning_rate=0.3 ............................\n",
        "[CV] ... n_estimators=1000, learning_rate=0.3, score=0.081946 -   2.5s"
       ]
      },
      {
       "output_type": "stream",
       "stream": "stdout",
       "text": [
        "\n",
        "[CV] n_estimators=1000, learning_rate=0.3 ............................\n",
        "[CV] .. n_estimators=1000, learning_rate=0.3, score=-0.102391 -   2.6s"
       ]
      },
      {
       "output_type": "stream",
       "stream": "stdout",
       "text": [
        "\n",
        "[CV] n_estimators=1000, learning_rate=0.3 ............................\n",
        "[CV] .. n_estimators=1000, learning_rate=0.3, score=-0.089351 -   2.5s"
       ]
      },
      {
       "output_type": "stream",
       "stream": "stdout",
       "text": [
        "\n",
        "[CV] n_estimators=1000, learning_rate=0.3 ............................\n",
        "[CV] ... n_estimators=1000, learning_rate=0.3, score=0.003964 -   2.5s"
       ]
      },
      {
       "output_type": "stream",
       "stream": "stdout",
       "text": [
        "\n",
        "[CV] n_estimators=1000, learning_rate=0.3 ............................\n",
        "[CV] ... n_estimators=1000, learning_rate=0.3, score=0.010200 -   2.5s"
       ]
      },
      {
       "output_type": "stream",
       "stream": "stdout",
       "text": [
        "\n",
        "[CV] n_estimators=1000, learning_rate=0.3 ............................\n",
        "[CV] ... n_estimators=1000, learning_rate=0.3, score=0.140352 -   2.5s"
       ]
      },
      {
       "output_type": "stream",
       "stream": "stdout",
       "text": [
        "\n",
        "[CV] n_estimators=2000, learning_rate=0.3 ............................\n",
        "[CV] .. n_estimators=2000, learning_rate=0.3, score=-0.085555 -   5.1s"
       ]
      },
      {
       "output_type": "stream",
       "stream": "stdout",
       "text": [
        "\n",
        "[CV] n_estimators=2000, learning_rate=0.3 ............................\n",
        "[CV] ... n_estimators=2000, learning_rate=0.3, score=0.012804 -   5.1s"
       ]
      },
      {
       "output_type": "stream",
       "stream": "stdout",
       "text": [
        "\n",
        "[CV] n_estimators=2000, learning_rate=0.3 ............................\n",
        "[CV] ... n_estimators=2000, learning_rate=0.3, score=0.111799 -   5.1s"
       ]
      },
      {
       "output_type": "stream",
       "stream": "stdout",
       "text": [
        "\n",
        "[CV] n_estimators=2000, learning_rate=0.3 ............................\n",
        "[CV] ... n_estimators=2000, learning_rate=0.3, score=0.094439 -   5.1s"
       ]
      },
      {
       "output_type": "stream",
       "stream": "stdout",
       "text": [
        "\n",
        "[CV] n_estimators=2000, learning_rate=0.3 ............................\n",
        "[CV] ... n_estimators=2000, learning_rate=0.3, score=0.073294 -   5.1s"
       ]
      },
      {
       "output_type": "stream",
       "stream": "stdout",
       "text": [
        "\n",
        "[CV] n_estimators=2000, learning_rate=0.3 ............................\n",
        "[CV] .. n_estimators=2000, learning_rate=0.3, score=-0.202918 -   5.1s"
       ]
      },
      {
       "output_type": "stream",
       "stream": "stdout",
       "text": [
        "\n",
        "[CV] n_estimators=2000, learning_rate=0.3 ............................\n",
        "[CV] ... n_estimators=2000, learning_rate=0.3, score=0.040877 -   5.1s"
       ]
      },
      {
       "output_type": "stream",
       "stream": "stdout",
       "text": [
        "\n",
        "[CV] n_estimators=2000, learning_rate=0.3 ............................\n",
        "[CV] .. n_estimators=2000, learning_rate=0.3, score=-0.084603 -   5.1s"
       ]
      },
      {
       "output_type": "stream",
       "stream": "stderr",
       "text": [
        "[Parallel(n_jobs=1)]: Done 265 jobs       | elapsed: 18.4min\n",
        "[Parallel(n_jobs=1)]: Done 288 jobs       | elapsed: 19.6min\n"
       ]
      },
      {
       "output_type": "stream",
       "stream": "stdout",
       "text": [
        "\n",
        "[CV] n_estimators=2000, learning_rate=0.3 ............................\n",
        "[CV] .. n_estimators=2000, learning_rate=0.3, score=-0.047885 -   5.0s"
       ]
      },
      {
       "output_type": "stream",
       "stream": "stdout",
       "text": [
        "\n",
        "[CV] n_estimators=2000, learning_rate=0.3 ............................\n",
        "[CV] ... n_estimators=2000, learning_rate=0.3, score=0.099492 -   5.0s"
       ]
      },
      {
       "output_type": "stream",
       "stream": "stdout",
       "text": [
        "\n",
        "[CV] n_estimators=5000, learning_rate=0.3 ............................\n",
        "[CV] .. n_estimators=5000, learning_rate=0.3, score=-0.254281 -  12.7s"
       ]
      },
      {
       "output_type": "stream",
       "stream": "stdout",
       "text": [
        "\n",
        "[CV] n_estimators=5000, learning_rate=0.3 ............................\n",
        "[CV] .. n_estimators=5000, learning_rate=0.3, score=-0.133756 -  12.7s"
       ]
      },
      {
       "output_type": "stream",
       "stream": "stdout",
       "text": [
        "\n",
        "[CV] n_estimators=5000, learning_rate=0.3 ............................\n",
        "[CV] ... n_estimators=5000, learning_rate=0.3, score=0.039645 -  12.7s"
       ]
      },
      {
       "output_type": "stream",
       "stream": "stdout",
       "text": [
        "\n",
        "[CV] n_estimators=5000, learning_rate=0.3 ............................\n",
        "[CV] ... n_estimators=5000, learning_rate=0.3, score=0.071903 -  12.6s"
       ]
      },
      {
       "output_type": "stream",
       "stream": "stdout",
       "text": [
        "\n",
        "[CV] n_estimators=5000, learning_rate=0.3 ............................\n",
        "[CV] .. n_estimators=5000, learning_rate=0.3, score=-0.051451 -  12.8s"
       ]
      },
      {
       "output_type": "stream",
       "stream": "stdout",
       "text": [
        "\n",
        "[CV] n_estimators=5000, learning_rate=0.3 ............................\n",
        "[CV] .. n_estimators=5000, learning_rate=0.3, score=-0.227082 -  12.8s"
       ]
      },
      {
       "output_type": "stream",
       "stream": "stdout",
       "text": [
        "\n",
        "[CV] n_estimators=5000, learning_rate=0.3 ............................\n",
        "[CV] .. n_estimators=5000, learning_rate=0.3, score=-0.145827 -  12.8s"
       ]
      },
      {
       "output_type": "stream",
       "stream": "stdout",
       "text": [
        "\n",
        "[CV] n_estimators=5000, learning_rate=0.3 ............................\n",
        "[CV] .. n_estimators=5000, learning_rate=0.3, score=-0.240536 -  12.8s"
       ]
      },
      {
       "output_type": "stream",
       "stream": "stdout",
       "text": [
        "\n",
        "[CV] n_estimators=5000, learning_rate=0.3 ............................\n",
        "[CV] .. n_estimators=5000, learning_rate=0.3, score=-0.098421 -  12.8s"
       ]
      },
      {
       "output_type": "stream",
       "stream": "stdout",
       "text": [
        "\n",
        "[CV] n_estimators=5000, learning_rate=0.3 ............................\n",
        "[CV] .. n_estimators=5000, learning_rate=0.3, score=-0.034778 -  12.9s"
       ]
      },
      {
       "output_type": "stream",
       "stream": "stdout",
       "text": [
        "\n",
        "[CV] n_estimators=100, learning_rate=0.5 .............................\n",
        "[CV] ... n_estimators=100, learning_rate=0.5, score=-0.015383 -   0.3s"
       ]
      },
      {
       "output_type": "stream",
       "stream": "stdout",
       "text": [
        "\n",
        "[CV] n_estimators=100, learning_rate=0.5 .............................\n",
        "[CV] .... n_estimators=100, learning_rate=0.5, score=0.050225 -   0.3s"
       ]
      },
      {
       "output_type": "stream",
       "stream": "stdout",
       "text": [
        "\n",
        "[CV] n_estimators=100, learning_rate=0.5 .............................\n",
        "[CV] .... n_estimators=100, learning_rate=0.5, score=0.145757 -   0.3s"
       ]
      },
      {
       "output_type": "stream",
       "stream": "stdout",
       "text": [
        "\n",
        "[CV] n_estimators=100, learning_rate=0.5 .............................\n",
        "[CV] .... n_estimators=100, learning_rate=0.5, score=0.195003 -   0.3s"
       ]
      },
      {
       "output_type": "stream",
       "stream": "stdout",
       "text": [
        "\n",
        "[CV] n_estimators=100, learning_rate=0.5 .............................\n",
        "[CV] .... n_estimators=100, learning_rate=0.5, score=0.061260 -   0.3s"
       ]
      },
      {
       "output_type": "stream",
       "stream": "stdout",
       "text": [
        "\n",
        "[CV] n_estimators=100, learning_rate=0.5 .............................\n",
        "[CV] .... n_estimators=100, learning_rate=0.5, score=0.096642 -   0.3s"
       ]
      },
      {
       "output_type": "stream",
       "stream": "stdout",
       "text": [
        "\n",
        "[CV] n_estimators=100, learning_rate=0.5 .............................\n",
        "[CV] .... n_estimators=100, learning_rate=0.5, score=0.116061 -   0.3s"
       ]
      },
      {
       "output_type": "stream",
       "stream": "stdout",
       "text": [
        "\n",
        "[CV] n_estimators=100, learning_rate=0.5 .............................\n",
        "[CV] .... n_estimators=100, learning_rate=0.5, score=0.031445 -   0.3s"
       ]
      },
      {
       "output_type": "stream",
       "stream": "stdout",
       "text": [
        "\n",
        "[CV] n_estimators=100, learning_rate=0.5 .............................\n",
        "[CV] ... n_estimators=100, learning_rate=0.5, score=-0.014470 -   0.3s"
       ]
      },
      {
       "output_type": "stream",
       "stream": "stdout",
       "text": [
        "\n",
        "[CV] n_estimators=100, learning_rate=0.5 .............................\n",
        "[CV] .... n_estimators=100, learning_rate=0.5, score=0.160282 -   0.3s"
       ]
      },
      {
       "output_type": "stream",
       "stream": "stdout",
       "text": [
        "\n",
        "[CV] n_estimators=500, learning_rate=0.5 .............................\n",
        "[CV] ... n_estimators=500, learning_rate=0.5, score=-0.168354 -   1.3s"
       ]
      },
      {
       "output_type": "stream",
       "stream": "stdout",
       "text": [
        "\n",
        "[CV] n_estimators=500, learning_rate=0.5 .............................\n",
        "[CV] ... n_estimators=500, learning_rate=0.5, score=-0.118493 -   1.3s"
       ]
      },
      {
       "output_type": "stream",
       "stream": "stdout",
       "text": [
        "\n",
        "[CV] n_estimators=500, learning_rate=0.5 .............................\n",
        "[CV] ... n_estimators=500, learning_rate=0.5, score=-0.002682 -   1.3s"
       ]
      },
      {
       "output_type": "stream",
       "stream": "stdout",
       "text": [
        "\n",
        "[CV] n_estimators=500, learning_rate=0.5 .............................\n",
        "[CV] .... n_estimators=500, learning_rate=0.5, score=0.117950 -   1.3s"
       ]
      },
      {
       "output_type": "stream",
       "stream": "stdout",
       "text": [
        "\n",
        "[CV] n_estimators=500, learning_rate=0.5 .............................\n",
        "[CV] ... n_estimators=500, learning_rate=0.5, score=-0.053063 -   1.3s"
       ]
      },
      {
       "output_type": "stream",
       "stream": "stdout",
       "text": [
        "\n",
        "[CV] n_estimators=500, learning_rate=0.5 .............................\n",
        "[CV] ... n_estimators=500, learning_rate=0.5, score=-0.133100 -   1.3s"
       ]
      },
      {
       "output_type": "stream",
       "stream": "stdout",
       "text": [
        "\n",
        "[CV] n_estimators=500, learning_rate=0.5 .............................\n",
        "[CV] ... n_estimators=500, learning_rate=0.5, score=-0.190340 -   1.3s"
       ]
      },
      {
       "output_type": "stream",
       "stream": "stdout",
       "text": [
        "\n",
        "[CV] n_estimators=500, learning_rate=0.5 .............................\n",
        "[CV] ... n_estimators=500, learning_rate=0.5, score=-0.088037 -   1.3s"
       ]
      },
      {
       "output_type": "stream",
       "stream": "stdout",
       "text": [
        "\n",
        "[CV] n_estimators=500, learning_rate=0.5 .............................\n",
        "[CV] ... n_estimators=500, learning_rate=0.5, score=-0.189842 -   1.3s"
       ]
      },
      {
       "output_type": "stream",
       "stream": "stdout",
       "text": [
        "\n",
        "[CV] n_estimators=500, learning_rate=0.5 .............................\n",
        "[CV] .... n_estimators=500, learning_rate=0.5, score=0.138397 -   1.3s"
       ]
      },
      {
       "output_type": "stream",
       "stream": "stdout",
       "text": [
        "\n",
        "[CV] n_estimators=1000, learning_rate=0.5 ............................\n",
        "[CV] .. n_estimators=1000, learning_rate=0.5, score=-0.131665 -   2.5s"
       ]
      },
      {
       "output_type": "stream",
       "stream": "stdout",
       "text": [
        "\n",
        "[CV] n_estimators=1000, learning_rate=0.5 ............................\n",
        "[CV] .. n_estimators=1000, learning_rate=0.5, score=-0.064930 -   2.5s"
       ]
      },
      {
       "output_type": "stream",
       "stream": "stdout",
       "text": [
        "\n",
        "[CV] n_estimators=1000, learning_rate=0.5 ............................\n",
        "[CV] .. n_estimators=1000, learning_rate=0.5, score=-0.012050 -   2.6s"
       ]
      },
      {
       "output_type": "stream",
       "stream": "stdout",
       "text": [
        "\n",
        "[CV] n_estimators=1000, learning_rate=0.5 ............................\n",
        "[CV] ... n_estimators=1000, learning_rate=0.5, score=0.050241 -   2.6s"
       ]
      },
      {
       "output_type": "stream",
       "stream": "stdout",
       "text": [
        "\n",
        "[CV] n_estimators=1000, learning_rate=0.5 ............................\n",
        "[CV] .. n_estimators=1000, learning_rate=0.5, score=-0.004864 -   2.5s"
       ]
      },
      {
       "output_type": "stream",
       "stream": "stdout",
       "text": [
        "\n",
        "[CV] n_estimators=1000, learning_rate=0.5 ............................\n",
        "[CV] .. n_estimators=1000, learning_rate=0.5, score=-0.203386 -   2.5s"
       ]
      },
      {
       "output_type": "stream",
       "stream": "stdout",
       "text": [
        "\n",
        "[CV] n_estimators=1000, learning_rate=0.5 ............................\n",
        "[CV] .. n_estimators=1000, learning_rate=0.5, score=-0.164264 -   2.6s"
       ]
      },
      {
       "output_type": "stream",
       "stream": "stdout",
       "text": [
        "\n",
        "[CV] n_estimators=1000, learning_rate=0.5 ............................\n",
        "[CV] .. n_estimators=1000, learning_rate=0.5, score=-0.044188 -   2.5s"
       ]
      },
      {
       "output_type": "stream",
       "stream": "stdout",
       "text": [
        "\n",
        "[CV] n_estimators=1000, learning_rate=0.5 ............................\n",
        "[CV] .. n_estimators=1000, learning_rate=0.5, score=-0.135621 -   2.6s"
       ]
      },
      {
       "output_type": "stream",
       "stream": "stdout",
       "text": [
        "\n",
        "[CV] n_estimators=1000, learning_rate=0.5 ............................\n",
        "[CV] ... n_estimators=1000, learning_rate=0.5, score=0.069112 -   2.6s"
       ]
      },
      {
       "output_type": "stream",
       "stream": "stdout",
       "text": [
        "\n",
        "[CV] n_estimators=2000, learning_rate=0.5 ............................\n",
        "[CV] .. n_estimators=2000, learning_rate=0.5, score=-0.232813 -   5.1s"
       ]
      },
      {
       "output_type": "stream",
       "stream": "stdout",
       "text": [
        "\n",
        "[CV] n_estimators=2000, learning_rate=0.5 ............................\n",
        "[CV] .. n_estimators=2000, learning_rate=0.5, score=-0.202843 -   5.1s"
       ]
      },
      {
       "output_type": "stream",
       "stream": "stdout",
       "text": [
        "\n",
        "[CV] n_estimators=2000, learning_rate=0.5 ............................\n",
        "[CV] .. n_estimators=2000, learning_rate=0.5, score=-0.111229 -   5.1s"
       ]
      },
      {
       "output_type": "stream",
       "stream": "stdout",
       "text": [
        "\n",
        "[CV] n_estimators=2000, learning_rate=0.5 ............................\n",
        "[CV] ... n_estimators=2000, learning_rate=0.5, score=0.059139 -   5.2s"
       ]
      },
      {
       "output_type": "stream",
       "stream": "stdout",
       "text": [
        "\n",
        "[CV] n_estimators=2000, learning_rate=0.5 ............................\n",
        "[CV] .. n_estimators=2000, learning_rate=0.5, score=-0.106610 -   5.1s"
       ]
      },
      {
       "output_type": "stream",
       "stream": "stdout",
       "text": [
        "\n",
        "[CV] n_estimators=2000, learning_rate=0.5 ............................\n",
        "[CV] .. n_estimators=2000, learning_rate=0.5, score=-0.199637 -   5.2s"
       ]
      },
      {
       "output_type": "stream",
       "stream": "stdout",
       "text": [
        "\n",
        "[CV] n_estimators=2000, learning_rate=0.5 ............................\n",
        "[CV] .. n_estimators=2000, learning_rate=0.5, score=-0.188456 -   5.1s"
       ]
      },
      {
       "output_type": "stream",
       "stream": "stdout",
       "text": [
        "\n",
        "[CV] n_estimators=2000, learning_rate=0.5 ............................\n",
        "[CV] .. n_estimators=2000, learning_rate=0.5, score=-0.323105 -   5.1s"
       ]
      },
      {
       "output_type": "stream",
       "stream": "stderr",
       "text": [
        "[Parallel(n_jobs=1)]: Done 313 jobs       | elapsed: 22.0min\n",
        "[Parallel(n_jobs=1)]: Done 338 jobs       | elapsed: 23.3min\n"
       ]
      },
      {
       "output_type": "stream",
       "stream": "stdout",
       "text": [
        "\n",
        "[CV] n_estimators=2000, learning_rate=0.5 ............................\n",
        "[CV] .. n_estimators=2000, learning_rate=0.5, score=-0.282375 -   5.1s"
       ]
      },
      {
       "output_type": "stream",
       "stream": "stdout",
       "text": [
        "\n",
        "[CV] n_estimators=2000, learning_rate=0.5 ............................\n",
        "[CV] ... n_estimators=2000, learning_rate=0.5, score=0.011616 -   5.1s"
       ]
      },
      {
       "output_type": "stream",
       "stream": "stdout",
       "text": [
        "\n",
        "[CV] n_estimators=5000, learning_rate=0.5 ............................\n",
        "[CV] .. n_estimators=5000, learning_rate=0.5, score=-0.296717 -  12.9s"
       ]
      },
      {
       "output_type": "stream",
       "stream": "stdout",
       "text": [
        "\n",
        "[CV] n_estimators=5000, learning_rate=0.5 ............................\n",
        "[CV] .. n_estimators=5000, learning_rate=0.5, score=-0.289231 -  12.8s"
       ]
      },
      {
       "output_type": "stream",
       "stream": "stdout",
       "text": [
        "\n",
        "[CV] n_estimators=5000, learning_rate=0.5 ............................\n",
        "[CV] .. n_estimators=5000, learning_rate=0.5, score=-0.167368 -  12.9s"
       ]
      },
      {
       "output_type": "stream",
       "stream": "stdout",
       "text": [
        "\n",
        "[CV] n_estimators=5000, learning_rate=0.5 ............................\n",
        "[CV] .. n_estimators=5000, learning_rate=0.5, score=-0.005985 -  12.9s"
       ]
      },
      {
       "output_type": "stream",
       "stream": "stdout",
       "text": [
        "\n",
        "[CV] n_estimators=5000, learning_rate=0.5 ............................\n",
        "[CV] .. n_estimators=5000, learning_rate=0.5, score=-0.118073 -  12.9s"
       ]
      },
      {
       "output_type": "stream",
       "stream": "stdout",
       "text": [
        "\n",
        "[CV] n_estimators=5000, learning_rate=0.5 ............................\n",
        "[CV] .. n_estimators=5000, learning_rate=0.5, score=-0.375725 -  12.8s"
       ]
      },
      {
       "output_type": "stream",
       "stream": "stdout",
       "text": [
        "\n",
        "[CV] n_estimators=5000, learning_rate=0.5 ............................\n",
        "[CV] .. n_estimators=5000, learning_rate=0.5, score=-0.255374 -  12.8s"
       ]
      },
      {
       "output_type": "stream",
       "stream": "stdout",
       "text": [
        "\n",
        "[CV] n_estimators=5000, learning_rate=0.5 ............................\n",
        "[CV] .. n_estimators=5000, learning_rate=0.5, score=-0.468213 -  12.9s"
       ]
      },
      {
       "output_type": "stream",
       "stream": "stdout",
       "text": [
        "\n",
        "[CV] n_estimators=5000, learning_rate=0.5 ............................\n",
        "[CV] .. n_estimators=5000, learning_rate=0.5, score=-0.240169 -  13.0s"
       ]
      },
      {
       "output_type": "stream",
       "stream": "stdout",
       "text": [
        "\n",
        "[CV] n_estimators=5000, learning_rate=0.5 ............................\n",
        "[CV] .. n_estimators=5000, learning_rate=0.5, score=-0.142792 -  12.8s"
       ]
      },
      {
       "output_type": "stream",
       "stream": "stdout",
       "text": [
        "\n"
       ]
      },
      {
       "output_type": "stream",
       "stream": "stderr",
       "text": [
        "[Parallel(n_jobs=1)]: Done 350 out of 350 | elapsed: 25.6min finished\n"
       ]
      },
      {
       "metadata": {},
       "output_type": "pyout",
       "prompt_number": 11,
       "text": [
        "GridSearchCV(cv=sklearn.cross_validation.KFold(n=3900, n_folds=10, shuffle=True, random_state=13),\n",
        "       estimator=GradientBoostingRegressor(alpha=0.9, init=None, learning_rate=0.1, loss='ls',\n",
        "             max_depth=3, max_features='sqrt', max_leaf_nodes=None,\n",
        "             min_samples_leaf=1, min_samples_split=2, n_estimators=100,\n",
        "             random_state=None, subsample=1.0, verbose=0, warm_start=False),\n",
        "       fit_params={}, iid=True, loss_func=None, n_jobs=1,\n",
        "       param_grid={'n_estimators': [100, 500, 1000, 2000, 5000], 'learning_rate': [0.001, 0.005, 0.01, 0.05, 0.1, 0.3, 0.5]},\n",
        "       pre_dispatch='2*n_jobs', refit=True, score_func=None, scoring=None,\n",
        "       verbose=10)"
       ]
      }
     ],
     "prompt_number": 11
    },
    {
     "cell_type": "code",
     "collapsed": false,
     "input": [
      "clf.best_params_"
     ],
     "language": "python",
     "metadata": {},
     "outputs": [
      {
       "metadata": {},
       "output_type": "pyout",
       "prompt_number": 12,
       "text": [
        "{'learning_rate': 0.01, 'n_estimators': 2000}"
       ]
      }
     ],
     "prompt_number": 12
    },
    {
     "cell_type": "code",
     "collapsed": false,
     "input": [
      "y_train_trans = scaler_y.inverse_transform(y_train)\n",
      "y_pred_trans = scaler_y.inverse_transform(clf.predict(X_train))"
     ],
     "language": "python",
     "metadata": {},
     "outputs": [],
     "prompt_number": 13
    },
    {
     "cell_type": "code",
     "collapsed": false,
     "input": [
      "mse = metrics.mean_squared_error(y_train_trans, y_pred_trans)\n",
      "dumb_mse = metrics.mean_squared_error(y_train_trans, np.ones(len(y_train_trans))*np.mean(y_train_trans))\n",
      "\n",
      "print 'MSE: ' + str(mse)\n",
      "print 'Dumb MSE (always predicting average): ' + str(dumb_mse)\n",
      "print 'MSE/Dumb MSE: ' + str(mse/dumb_mse)\n",
      "print 'R^2 score: ' + str(clf.score(X_train, y_train))"
     ],
     "language": "python",
     "metadata": {},
     "outputs": [
      {
       "output_type": "stream",
       "stream": "stdout",
       "text": [
        "MSE: 352.927635164\n",
        "Dumb MSE (always predicting average): 552.760003682\n",
        "MSE/Dumb MSE: 0.638482583423\n",
        "R^2 score: 0.361517416577"
       ]
      },
      {
       "output_type": "stream",
       "stream": "stdout",
       "text": [
        "\n"
       ]
      }
     ],
     "prompt_number": 14
    },
    {
     "cell_type": "code",
     "collapsed": false,
     "input": [
      "train_sizes, train_scores, test_scores = learning_curve.learning_curve(clf.best_estimator_, X_train, y_train, cv=10)\n",
      "train_scores_mean = np.mean(train_scores, axis=1)\n",
      "train_scores_std = np.std(train_scores, axis=1)\n",
      "test_scores_mean = np.mean(test_scores, axis=1)\n",
      "test_scores_std = np.std(test_scores, axis=1)\n",
      "plt.grid()\n",
      "\n",
      "plt.fill_between(train_sizes, train_scores_mean - train_scores_std,\n",
      "                 train_scores_mean + train_scores_std, alpha=0.1,\n",
      "                 color=\"r\")\n",
      "plt.fill_between(train_sizes, test_scores_mean - test_scores_std,\n",
      "                 test_scores_mean + test_scores_std, alpha=0.1, color=\"g\")\n",
      "plt.plot(train_sizes, train_scores_mean, 'o-', color=\"r\",\n",
      "         label=\"Training score\")\n",
      "plt.plot(train_sizes, test_scores_mean, 'o-', color=\"g\",\n",
      "         label=\"Cross-validation score\")\n",
      "\n",
      "plt.legend(loc=\"best\")"
     ],
     "language": "python",
     "metadata": {},
     "outputs": [
      {
       "metadata": {},
       "output_type": "pyout",
       "prompt_number": 16,
       "text": [
        "<matplotlib.legend.Legend at 0x7fb87e5ef650>"
       ]
      },
      {
       "metadata": {},
       "output_type": "display_data",
       "png": "[encoded data removed]",
       "text": [
        "<matplotlib.figure.Figure at 0x7fb8ae853b90>"
       ]
      }
     ],
     "prompt_number": 16
    },
    {
     "cell_type": "code",
     "collapsed": false,
     "input": [
      "clf.best_params_"
     ],
     "language": "python",
     "metadata": {},
     "outputs": [
      {
       "metadata": {},
       "output_type": "pyout",
       "prompt_number": 18,
       "text": [
        "{'learning_rate': 0.01, 'n_estimators': 2000}"
       ]
      }
     ],
     "prompt_number": 18
    },
    {
     "cell_type": "code",
     "collapsed": false,
     "input": [
      "gb = ensemble.GradientBoostingRegressor(learning_rate=0.01, n_estimators=2000, max_features='sqrt',\\\n",
      "                                        verbose=5)\n",
      "gb.fit(X_train, y_train)"
     ],
     "language": "python",
     "metadata": {},
     "outputs": [
      {
       "output_type": "stream",
       "stream": "stdout",
       "text": [
        "      Iter       Train Loss   Remaining Time \n",
        "         1           1.0375           12.25m"
       ]
      },
      {
       "output_type": "stream",
       "stream": "stdout",
       "text": [
        "\n",
        "         2           1.0366            6.20m\n",
        "         3           1.0355            4.18m\n",
        "         4           1.0342            3.18m\n",
        "         5           1.0333            2.57m\n",
        "         6           1.0324            2.16m\n",
        "         7           1.0314            1.86m\n",
        "         8           1.0298            1.64m\n",
        "         9           1.0289            1.47m\n",
        "        10           1.0282            1.33m\n",
        "        11           1.0272            1.22m\n",
        "        12           1.0261            1.13m\n",
        "        13           1.0250            1.05m\n",
        "        14           1.0239           58.77s\n",
        "        15           1.0227           55.20s\n",
        "        16           1.0220           52.06s"
       ]
      },
      {
       "output_type": "stream",
       "stream": "stdout",
       "text": [
        "\n",
        "        17           1.0209           49.46s\n",
        "        18           1.0202           47.13s\n",
        "        19           1.0193           45.28s\n",
        "        20           1.0184           43.42s\n",
        "        21           1.0174           41.66s\n",
        "        22           1.0165           40.00s\n",
        "        23           1.0159           40.33s\n",
        "        24           1.0150           39.51s"
       ]
      },
      {
       "output_type": "stream",
       "stream": "stdout",
       "text": [
        "\n",
        "        25           1.0139           38.52s\n",
        "        26           1.0130           37.43s\n",
        "        27           1.0122           36.42s\n",
        "        28           1.0113           35.41s\n",
        "        29           1.0102           34.39s\n",
        "        30           1.0095           33.45s\n",
        "        31           1.0087           32.54s\n",
        "        32           1.0077           31.73s\n",
        "        33           1.0072           30.94s\n",
        "        34           1.0062           30.18s\n",
        "        35           1.0054           29.47s\n",
        "        36           1.0043           28.83s\n",
        "        37           1.0037           28.19s"
       ]
      },
      {
       "output_type": "stream",
       "stream": "stdout",
       "text": [
        "\n",
        "        38           1.0026           27.66s\n",
        "        39           1.0014           27.09s\n",
        "        40           0.9999           26.54s\n",
        "        41           0.9992           26.04s\n",
        "        42           0.9983           25.60s\n",
        "        43           0.9975           25.26s\n",
        "        44           0.9966           24.92s\n",
        "        45           0.9954           24.59s\n",
        "        46           0.9945           24.20s\n",
        "        47           0.9935           23.83s\n",
        "        48           0.9926           23.44s\n",
        "        49           0.9916           23.06s\n",
        "        50           0.9911           22.70s"
       ]
      },
      {
       "output_type": "stream",
       "stream": "stdout",
       "text": [
        "\n",
        "        51           0.9904           22.39s\n",
        "        52           0.9897           22.08s\n",
        "        53           0.9890           21.82s\n",
        "        54           0.9880           21.62s\n",
        "        55           0.9872           21.42s\n",
        "        56           0.9863           21.18s\n",
        "        57           0.9854           20.92s\n",
        "        58           0.9847           20.67s\n",
        "        59           0.9837           20.58s\n",
        "        60           0.9829           20.34s\n",
        "        61           0.9825           20.08s\n",
        "        62           0.9815           19.84s"
       ]
      },
      {
       "output_type": "stream",
       "stream": "stdout",
       "text": [
        "\n",
        "        63           0.9810           19.63s\n",
        "        64           0.9805           19.44s\n",
        "        65           0.9798           19.27s\n",
        "        66           0.9789           19.13s\n",
        "        67           0.9782           18.93s\n",
        "        68           0.9777           18.74s\n",
        "        69           0.9771           18.53s\n",
        "        70           0.9766           18.34s\n",
        "        71           0.9758           18.17s\n",
        "        72           0.9749           18.00s\n",
        "        73           0.9743           17.82s\n",
        "        74           0.9733           17.65s\n",
        "        75           0.9725           17.48s\n",
        "        76           0.9717           17.32s\n",
        "        77           0.9711           17.18s"
       ]
      },
      {
       "output_type": "stream",
       "stream": "stdout",
       "text": [
        "\n",
        "        78           0.9704           17.06s\n",
        "        79           0.9694           16.92s\n",
        "        80           0.9689           16.82s\n",
        "        81           0.9680           16.72s\n",
        "        82           0.9672           16.61s\n",
        "        83           0.9663           16.49s\n",
        "        84           0.9655           16.37s\n",
        "        85           0.9646           16.25s\n",
        "        86           0.9641           16.12s\n",
        "        87           0.9635           15.99s\n",
        "        88           0.9627           15.87s\n",
        "        89           0.9620           15.74s\n",
        "        90           0.9615           15.63s\n",
        "        91           0.9610           15.51s"
       ]
      },
      {
       "output_type": "stream",
       "stream": "stdout",
       "text": [
        "\n",
        "        92           0.9606           15.41s\n",
        "        93           0.9598           15.33s\n",
        "        94           0.9587           15.22s\n",
        "        95           0.9581           15.12s\n",
        "        96           0.9573           15.02s\n",
        "        97           0.9569           14.95s\n",
        "        98           0.9564           14.90s\n",
        "        99           0.9557           14.84s\n",
        "       100           0.9545           14.75s\n",
        "       101           0.9541           14.66s\n",
        "       102           0.9533           14.57s\n",
        "       103           0.9527           14.48s\n",
        "       104           0.9521           14.39s\n",
        "       105           0.9514           14.30s"
       ]
      },
      {
       "output_type": "stream",
       "stream": "stdout",
       "text": [
        "\n",
        "       106           0.9508           14.24s\n",
        "       107           0.9502           14.16s\n",
        "       108           0.9495           14.09s\n",
        "       109           0.9485           14.07s\n",
        "       110           0.9478           13.99s\n",
        "       111           0.9473           13.92s\n",
        "       112           0.9467           13.84s\n",
        "       113           0.9460           13.76s\n",
        "       114           0.9455           13.70s\n",
        "       115           0.9448           13.63s\n",
        "       116           0.9443           13.55s\n",
        "       117           0.9435           13.48s\n",
        "       118           0.9426           13.41s\n",
        "       119           0.9420           13.34s"
       ]
      },
      {
       "output_type": "stream",
       "stream": "stdout",
       "text": [
        "\n",
        "       120           0.9414           13.29s\n",
        "       121           0.9407           13.23s\n",
        "       122           0.9403           13.16s\n",
        "       123           0.9393           13.14s\n",
        "       124           0.9387           13.10s\n",
        "       125           0.9382           13.03s\n",
        "       126           0.9377           12.97s\n",
        "       127           0.9371           12.91s\n",
        "       128           0.9365           12.84s\n",
        "       129           0.9360           12.78s\n",
        "       130           0.9354           12.72s\n",
        "       131           0.9349           12.67s\n",
        "       132           0.9344           12.62s\n",
        "       133           0.9340           12.56s"
       ]
      },
      {
       "output_type": "stream",
       "stream": "stdout",
       "text": [
        "\n",
        "       134           0.9334           12.52s\n",
        "       135           0.9329           12.47s\n",
        "       136           0.9325           12.43s\n",
        "       137           0.9320           12.38s\n",
        "       138           0.9313           12.33s\n",
        "       139           0.9307           12.29s\n",
        "       140           0.9304           12.25s\n",
        "       141           0.9297           12.23s\n",
        "       142           0.9290           12.20s\n",
        "       143           0.9285           12.16s\n",
        "       144           0.9278           12.12s\n",
        "       145           0.9273           12.07s\n",
        "       146           0.9269           12.02s"
       ]
      },
      {
       "output_type": "stream",
       "stream": "stdout",
       "text": [
        "\n",
        "       147           0.9263           11.99s\n",
        "       148           0.9258           11.95s\n",
        "       149           0.9254           11.91s\n",
        "       150           0.9248           11.89s\n",
        "       151           0.9244           11.88s\n",
        "       152           0.9239           11.85s\n",
        "       153           0.9229           11.87s\n",
        "       154           0.9226           11.88s\n",
        "       155           0.9220           11.84s\n",
        "       156           0.9212           11.80s"
       ]
      },
      {
       "output_type": "stream",
       "stream": "stdout",
       "text": [
        "\n",
        "       157           0.9208           11.77s\n",
        "       158           0.9203           11.74s\n",
        "       159           0.9198           11.70s\n",
        "       160           0.9191           11.67s\n",
        "       161           0.9185           11.64s\n",
        "       162           0.9182           11.61s\n",
        "       163           0.9178           11.59s\n",
        "       164           0.9172           11.55s\n",
        "       165           0.9167           11.50s\n",
        "       166           0.9162           11.46s\n",
        "       167           0.9154           11.42s\n",
        "       168           0.9145           11.38s\n",
        "       169           0.9140           11.34s\n",
        "       170           0.9137           11.31s"
       ]
      },
      {
       "output_type": "stream",
       "stream": "stdout",
       "text": [
        "\n",
        "       171           0.9131           11.28s\n",
        "       172           0.9127           11.30s\n",
        "       173           0.9123           11.29s\n",
        "       174           0.9117           11.29s\n",
        "       175           0.9114           11.26s\n",
        "       176           0.9110           11.23s\n",
        "       177           0.9107           11.21s\n",
        "       178           0.9103           11.21s\n",
        "       179           0.9095           11.19s\n",
        "       180           0.9089           11.15s"
       ]
      },
      {
       "output_type": "stream",
       "stream": "stdout",
       "text": [
        "\n",
        "       181           0.9086           11.13s\n",
        "       182           0.9081           11.10s\n",
        "       183           0.9076           11.07s\n",
        "       184           0.9072           11.04s\n",
        "       185           0.9067           11.01s\n",
        "       186           0.9065           10.98s\n",
        "       187           0.9061           10.98s\n",
        "       188           0.9056           10.95s\n",
        "       189           0.9052           10.91s\n",
        "       190           0.9049           10.88s\n",
        "       191           0.9043           10.85s\n",
        "       192           0.9039           10.82s\n",
        "       193           0.9034           10.79s\n",
        "       194           0.9031           10.76s"
       ]
      },
      {
       "output_type": "stream",
       "stream": "stdout",
       "text": [
        "\n",
        "       195           0.9027           10.74s\n",
        "       196           0.9023           10.72s\n",
        "       197           0.9018           10.69s\n",
        "       198           0.9014           10.67s\n",
        "       199           0.9007           10.65s\n",
        "       200           0.9004           10.63s\n",
        "       201           0.9000           10.62s\n",
        "       202           0.8997           10.59s\n",
        "       203           0.8993           10.55s\n",
        "       204           0.8988           10.53s\n",
        "       205           0.8983           10.50s\n",
        "       206           0.8981           10.47s\n",
        "       207           0.8977           10.44s\n",
        "       208           0.8974           10.41s"
       ]
      },
      {
       "output_type": "stream",
       "stream": "stdout",
       "text": [
        "\n",
        "       209           0.8971           10.38s\n",
        "       210           0.8965           10.36s\n",
        "       211           0.8961           10.34s\n",
        "       212           0.8959           10.31s\n",
        "       213           0.8955           10.29s\n",
        "       214           0.8950           10.28s\n",
        "       215           0.8945           10.29s\n",
        "       216           0.8940           10.28s\n",
        "       217           0.8936           10.25s\n",
        "       218           0.8933           10.22s\n",
        "       219           0.8926           10.21s\n",
        "       220           0.8922           10.18s"
       ]
      },
      {
       "output_type": "stream",
       "stream": "stdout",
       "text": [
        "\n",
        "       221           0.8918           10.17s\n",
        "       222           0.8915           10.15s\n",
        "       223           0.8911           10.12s\n",
        "       224           0.8909           10.10s\n",
        "       225           0.8904           10.07s\n",
        "       226           0.8900           10.06s\n",
        "       227           0.8897           10.06s\n",
        "       228           0.8894           10.06s\n",
        "       229           0.8891           10.04s\n",
        "       230           0.8886           10.02s\n",
        "       231           0.8882           10.11s"
       ]
      },
      {
       "output_type": "stream",
       "stream": "stdout",
       "text": [
        "\n",
        "       232           0.8879           10.12s\n",
        "       233           0.8876           10.09s\n",
        "       234           0.8872           10.07s\n",
        "       235           0.8869           10.06s\n",
        "       236           0.8865           10.04s\n",
        "       237           0.8863           10.02s\n",
        "       238           0.8858           10.02s\n",
        "       239           0.8855           10.01s\n",
        "       240           0.8850            9.99s\n",
        "       241           0.8847            9.97s\n",
        "       242           0.8844            9.95s\n",
        "       243           0.8838            9.93s"
       ]
      },
      {
       "output_type": "stream",
       "stream": "stdout",
       "text": [
        "\n",
        "       244           0.8835            9.91s\n",
        "       245           0.8831            9.89s\n",
        "       246           0.8827            9.88s\n",
        "       247           0.8823            9.87s\n",
        "       248           0.8820            9.86s\n",
        "       249           0.8815            9.86s\n",
        "       250           0.8812            9.85s\n",
        "       251           0.8806            9.83s\n",
        "       252           0.8800            9.83s\n",
        "       253           0.8796            9.83s\n",
        "       254           0.8792            9.81s"
       ]
      },
      {
       "output_type": "stream",
       "stream": "stdout",
       "text": [
        "\n",
        "       255           0.8790            9.80s\n",
        "       256           0.8785            9.78s\n",
        "       257           0.8782            9.76s\n",
        "       258           0.8778            9.75s\n",
        "       259           0.8774            9.73s\n",
        "       260           0.8770            9.72s\n",
        "       261           0.8763            9.71s\n",
        "       262           0.8758            9.70s\n",
        "       263           0.8754            9.68s\n",
        "       264           0.8751            9.66s\n",
        "       265           0.8748            9.64s\n",
        "       266           0.8744            9.62s\n",
        "       267           0.8740            9.60s"
       ]
      },
      {
       "output_type": "stream",
       "stream": "stdout",
       "text": [
        "\n",
        "       268           0.8737            9.59s\n",
        "       269           0.8733            9.57s\n",
        "       270           0.8731            9.56s\n",
        "       271           0.8725            9.55s\n",
        "       272           0.8723            9.59s\n",
        "       273           0.8720            9.57s\n",
        "       274           0.8716            9.56s\n",
        "       275           0.8712            9.55s\n",
        "       276           0.8709            9.54s\n",
        "       277           0.8706            9.51s"
       ]
      },
      {
       "output_type": "stream",
       "stream": "stdout",
       "text": [
        "\n",
        "       278           0.8703            9.50s\n",
        "       279           0.8700            9.49s\n",
        "       280           0.8693            9.47s\n",
        "       281           0.8690            9.45s\n",
        "       282           0.8686            9.44s\n",
        "       283           0.8683            9.42s\n",
        "       284           0.8679            9.41s\n",
        "       285           0.8671            9.40s\n",
        "       286           0.8668            9.38s\n",
        "       287           0.8666            9.36s\n",
        "       288           0.8662            9.35s\n",
        "       289           0.8659            9.33s\n",
        "       290           0.8653            9.32s\n",
        "       291           0.8651            9.30s"
       ]
      },
      {
       "output_type": "stream",
       "stream": "stdout",
       "text": [
        "\n",
        "       292           0.8647            9.29s\n",
        "       293           0.8644            9.28s\n",
        "       294           0.8641            9.28s\n",
        "       295           0.8637            9.27s\n",
        "       296           0.8633            9.26s\n",
        "       297           0.8630            9.25s\n",
        "       298           0.8627            9.23s\n",
        "       299           0.8623            9.22s\n",
        "       300           0.8620            9.21s\n",
        "       301           0.8617            9.20s\n",
        "       302           0.8615            9.18s\n",
        "       303           0.8612            9.16s"
       ]
      },
      {
       "output_type": "stream",
       "stream": "stdout",
       "text": [
        "\n",
        "       304           0.8609            9.14s\n",
        "       305           0.8606            9.13s\n",
        "       306           0.8604            9.11s\n",
        "       307           0.8602            9.10s\n",
        "       308           0.8599            9.08s\n",
        "       309           0.8596            9.07s\n",
        "       310           0.8593            9.06s\n",
        "       311           0.8590            9.09s\n",
        "       312           0.8587            9.08s\n",
        "       313           0.8582            9.06s\n",
        "       314           0.8578            9.04s\n",
        "       315           0.8576            9.02s"
       ]
      },
      {
       "output_type": "stream",
       "stream": "stdout",
       "text": [
        "\n",
        "       316           0.8573            9.01s\n",
        "       317           0.8569            8.99s\n",
        "       318           0.8565            8.98s\n",
        "       319           0.8561            8.97s\n",
        "       320           0.8557            8.95s\n",
        "       321           0.8554            8.94s\n",
        "       322           0.8552            8.93s\n",
        "       323           0.8549            8.92s\n",
        "       324           0.8541            8.91s\n",
        "       325           0.8538            8.89s\n",
        "       326           0.8535            8.88s\n",
        "       327           0.8532            8.88s\n",
        "       328           0.8529            8.87s"
       ]
      },
      {
       "output_type": "stream",
       "stream": "stdout",
       "text": [
        "\n",
        "       329           0.8526            8.85s\n",
        "       330           0.8524            8.84s\n",
        "       331           0.8522            8.83s\n",
        "       332           0.8519            8.82s\n",
        "       333           0.8515            8.81s\n",
        "       334           0.8513            8.80s\n",
        "       335           0.8511            8.79s\n",
        "       336           0.8507            8.78s\n",
        "       337           0.8501            8.77s\n",
        "       338           0.8496            8.75s\n",
        "       339           0.8493            8.74s\n",
        "       340           0.8490            8.72s\n",
        "       341           0.8487            8.71s\n",
        "       342           0.8484            8.69s"
       ]
      },
      {
       "output_type": "stream",
       "stream": "stdout",
       "text": [
        "\n",
        "       343           0.8480            8.68s\n",
        "       344           0.8477            8.67s\n",
        "       345           0.8475            8.65s\n",
        "       346           0.8472            8.64s\n",
        "       347           0.8467            8.62s\n",
        "       348           0.8465            8.61s\n",
        "       349           0.8462            8.60s\n",
        "       350           0.8459            8.60s\n",
        "       351           0.8456            8.59s\n",
        "       352           0.8454            8.57s\n",
        "       353           0.8451            8.56s\n",
        "       354           0.8449            8.55s\n",
        "       355           0.8446            8.53s\n",
        "       356           0.8444            8.52s"
       ]
      },
      {
       "output_type": "stream",
       "stream": "stdout",
       "text": [
        "\n",
        "       357           0.8441            8.51s\n",
        "       358           0.8439            8.50s\n",
        "       359           0.8436            8.49s\n",
        "       360           0.8433            8.48s\n",
        "       361           0.8430            8.47s\n",
        "       362           0.8428            8.45s\n",
        "       363           0.8424            8.44s\n",
        "       364           0.8422            8.43s\n",
        "       365           0.8419            8.43s\n",
        "       366           0.8418            8.42s\n",
        "       367           0.8415            8.40s\n",
        "       368           0.8412            8.39s\n",
        "       369           0.8409            8.38s"
       ]
      },
      {
       "output_type": "stream",
       "stream": "stdout",
       "text": [
        "\n",
        "       370           0.8406            8.37s\n",
        "       371           0.8403            8.36s\n",
        "       372           0.8401            8.35s\n",
        "       373           0.8398            8.34s\n",
        "       374           0.8396            8.33s\n",
        "       375           0.8394            8.32s\n",
        "       376           0.8393            8.31s\n",
        "       377           0.8389            8.31s\n",
        "       378           0.8387            8.30s\n",
        "       379           0.8384            8.28s\n",
        "       380           0.8381            8.27s\n",
        "       381           0.8378            8.26s\n",
        "       382           0.8376            8.24s\n",
        "       383           0.8374            8.23s"
       ]
      },
      {
       "output_type": "stream",
       "stream": "stdout",
       "text": [
        "\n",
        "       384           0.8372            8.22s\n",
        "       385           0.8367            8.21s\n",
        "       386           0.8365            8.20s\n",
        "       387           0.8363            8.18s\n",
        "       388           0.8360            8.17s\n",
        "       389           0.8358            8.17s\n",
        "       390           0.8354            8.16s\n",
        "       391           0.8352            8.16s\n",
        "       392           0.8350            8.16s\n",
        "       393           0.8347            8.15s\n",
        "       394           0.8345            8.14s\n",
        "       395           0.8343            8.13s"
       ]
      },
      {
       "output_type": "stream",
       "stream": "stdout",
       "text": [
        "\n",
        "       396           0.8341            8.13s\n",
        "       397           0.8339            8.12s\n",
        "       398           0.8337            8.11s\n",
        "       399           0.8335            8.10s\n",
        "       400           0.8333            8.09s\n",
        "       401           0.8330            8.12s\n",
        "       402           0.8328            8.13s\n",
        "       403           0.8324            8.12s\n",
        "       404           0.8322            8.12s"
       ]
      },
      {
       "output_type": "stream",
       "stream": "stdout",
       "text": [
        "\n",
        "       405           0.8321            8.12s\n",
        "       406           0.8318            8.11s\n",
        "       407           0.8315            8.10s\n",
        "       408           0.8311            8.10s\n",
        "       409           0.8309            8.10s\n",
        "       410           0.8307            8.09s\n",
        "       411           0.8305            8.08s\n",
        "       412           0.8302            8.08s\n",
        "       413           0.8300            8.07s\n",
        "       414           0.8298            8.06s\n",
        "       415           0.8297            8.04s"
       ]
      },
      {
       "output_type": "stream",
       "stream": "stdout",
       "text": [
        "\n",
        "       416           0.8294            8.04s\n",
        "       417           0.8292            8.03s\n",
        "       418           0.8290            8.02s\n",
        "       419           0.8288            8.01s\n",
        "       420           0.8285            8.00s\n",
        "       421           0.8283            8.00s\n",
        "       422           0.8279            7.99s\n",
        "       423           0.8277            8.00s\n",
        "       424           0.8275            7.99s\n",
        "       425           0.8273            7.98s\n",
        "       426           0.8270            7.96s\n",
        "       427           0.8268            7.95s"
       ]
      },
      {
       "output_type": "stream",
       "stream": "stdout",
       "text": [
        "\n",
        "       428           0.8266            7.95s\n",
        "       429           0.8264            7.94s\n",
        "       430           0.8263            7.92s\n",
        "       431           0.8260            7.91s\n",
        "       432           0.8258            7.90s\n",
        "       433           0.8257            7.90s\n",
        "       434           0.8254            7.89s\n",
        "       435           0.8252            7.88s\n",
        "       436           0.8250            7.88s\n",
        "       437           0.8247            7.87s\n",
        "       438           0.8245            7.86s\n",
        "       439           0.8243            7.85s\n",
        "       440           0.8242            7.84s"
       ]
      },
      {
       "output_type": "stream",
       "stream": "stdout",
       "text": [
        "\n",
        "       441           0.8239            7.83s\n",
        "       442           0.8236            7.82s\n",
        "       443           0.8234            7.81s\n",
        "       444           0.8231            7.80s\n",
        "       445           0.8229            7.79s\n",
        "       446           0.8227            7.78s\n",
        "       447           0.8223            7.77s\n",
        "       448           0.8221            7.77s\n",
        "       449           0.8219            7.76s\n",
        "       450           0.8217            7.75s\n",
        "       451           0.8213            7.74s\n",
        "       452           0.8211            7.73s\n",
        "       453           0.8208            7.72s\n",
        "       454           0.8206            7.71s"
       ]
      },
      {
       "output_type": "stream",
       "stream": "stdout",
       "text": [
        "\n",
        "       455           0.8204            7.70s\n",
        "       456           0.8203            7.69s\n",
        "       457           0.8201            7.68s\n",
        "       458           0.8197            7.67s\n",
        "       459           0.8194            7.67s\n",
        "       460           0.8192            7.66s\n",
        "       461           0.8190            7.65s\n",
        "       462           0.8189            7.64s\n",
        "       463           0.8187            7.64s\n",
        "       464           0.8185            7.64s\n",
        "       465           0.8181            7.64s\n",
        "       466           0.8178            7.63s"
       ]
      },
      {
       "output_type": "stream",
       "stream": "stdout",
       "text": [
        "\n",
        "       467           0.8176            7.63s\n",
        "       468           0.8174            7.62s\n",
        "       469           0.8171            7.61s\n",
        "       470           0.8168            7.60s\n",
        "       471           0.8166            7.59s\n",
        "       472           0.8164            7.58s\n",
        "       473           0.8162            7.57s\n",
        "       474           0.8160            7.57s\n",
        "       475           0.8157            7.56s\n",
        "       476           0.8156            7.55s\n",
        "       477           0.8153            7.54s\n",
        "       478           0.8151            7.53s\n",
        "       479           0.8149            7.52s\n",
        "       480           0.8144            7.51s"
       ]
      },
      {
       "output_type": "stream",
       "stream": "stdout",
       "text": [
        "\n",
        "       481           0.8142            7.51s\n",
        "       482           0.8140            7.50s\n",
        "       483           0.8136            7.49s\n",
        "       484           0.8133            7.48s\n",
        "       485           0.8131            7.47s\n",
        "       486           0.8129            7.46s\n",
        "       487           0.8125            7.45s\n",
        "       488           0.8122            7.45s\n",
        "       489           0.8120            7.44s\n",
        "       490           0.8118            7.43s\n",
        "       491           0.8116            7.42s\n",
        "       492           0.8114            7.41s\n",
        "       493           0.8113            7.40s\n",
        "       494           0.8110            7.39s"
       ]
      },
      {
       "output_type": "stream",
       "stream": "stdout",
       "text": [
        "\n",
        "       495           0.8108            7.39s\n",
        "       496           0.8106            7.38s\n",
        "       497           0.8103            7.37s\n",
        "       498           0.8101            7.35s\n",
        "       499           0.8100            7.35s\n",
        "       500           0.8097            7.34s\n",
        "       501           0.8094            7.33s\n",
        "       502           0.8093            7.32s\n",
        "       503           0.8091            7.32s\n",
        "       504           0.8089            7.31s\n",
        "       505           0.8087            7.30s\n",
        "       506           0.8083            7.29s\n",
        "       507           0.8079            7.28s\n",
        "       508           0.8077            7.27s"
       ]
      },
      {
       "output_type": "stream",
       "stream": "stdout",
       "text": [
        "\n",
        "       509           0.8073            7.27s\n",
        "       510           0.8072            7.26s\n",
        "       511           0.8070            7.25s\n",
        "       512           0.8068            7.24s\n",
        "       513           0.8066            7.23s\n",
        "       514           0.8065            7.22s\n",
        "       515           0.8064            7.22s\n",
        "       516           0.8062            7.21s\n",
        "       517           0.8060            7.21s\n",
        "       518           0.8057            7.20s\n",
        "       519           0.8056            7.19s\n",
        "       520           0.8053            7.18s\n",
        "       521           0.8051            7.17s\n",
        "       522           0.8049            7.16s"
       ]
      },
      {
       "output_type": "stream",
       "stream": "stdout",
       "text": [
        "\n",
        "       523           0.8047            7.16s\n",
        "       524           0.8045            7.15s\n",
        "       525           0.8043            7.14s\n",
        "       526           0.8042            7.13s\n",
        "       527           0.8041            7.12s\n",
        "       528           0.8038            7.11s\n",
        "       529           0.8034            7.11s\n",
        "       530           0.8033            7.10s\n",
        "       531           0.8031            7.09s\n",
        "       532           0.8029            7.09s\n",
        "       533           0.8027            7.08s\n",
        "       534           0.8024            7.07s\n",
        "       535           0.8021            7.06s\n",
        "       536           0.8019            7.05s"
       ]
      },
      {
       "output_type": "stream",
       "stream": "stdout",
       "text": [
        "\n",
        "       537           0.8014            7.05s\n",
        "       538           0.8012            7.04s\n",
        "       539           0.8009            7.03s\n",
        "       540           0.8005            7.02s\n",
        "       541           0.8003            7.01s\n",
        "       542           0.8001            7.01s\n",
        "       543           0.8000            7.00s\n",
        "       544           0.7998            6.99s\n",
        "       545           0.7996            6.99s\n",
        "       546           0.7994            6.99s\n",
        "       547           0.7992            6.98s\n",
        "       548           0.7990            6.98s\n"
       ]
      },
      {
       "output_type": "stream",
       "stream": "stdout",
       "text": [
        "       549           0.7988            6.97s\n",
        "       550           0.7981            6.97s\n",
        "       551           0.7980            6.96s\n",
        "       552           0.7977            6.95s\n",
        "       553           0.7972            6.94s\n",
        "       554           0.7970            6.93s\n",
        "       555           0.7969            6.93s\n",
        "       556           0.7967            6.92s\n",
        "       557           0.7965            6.92s\n",
        "       558           0.7963            6.92s\n",
        "       559           0.7961            6.91s\n",
        "       560           0.7960            6.91s\n",
        "       561           0.7959            6.91s"
       ]
      },
      {
       "output_type": "stream",
       "stream": "stdout",
       "text": [
        "\n",
        "       562           0.7957            6.90s\n",
        "       563           0.7955            6.89s\n",
        "       564           0.7953            6.88s\n",
        "       565           0.7952            6.88s\n",
        "       566           0.7950            6.87s\n",
        "       567           0.7948            6.86s\n",
        "       568           0.7946            6.86s\n",
        "       569           0.7945            6.85s\n",
        "       570           0.7943            6.85s\n",
        "       571           0.7941            6.85s\n",
        "       572           0.7939            6.84s\n",
        "       573           0.7937            6.83s"
       ]
      },
      {
       "output_type": "stream",
       "stream": "stdout",
       "text": [
        "\n",
        "       574           0.7936            6.83s\n",
        "       575           0.7934            6.82s\n",
        "       576           0.7933            6.81s\n",
        "       577           0.7932            6.81s\n",
        "       578           0.7931            6.80s\n",
        "       579           0.7929            6.79s\n",
        "       580           0.7927            6.79s\n",
        "       581           0.7925            6.78s\n",
        "       582           0.7923            6.78s\n",
        "       583           0.7922            6.77s\n",
        "       584           0.7920            6.76s\n",
        "       585           0.7918            6.75s\n",
        "       586           0.7917            6.74s\n",
        "       587           0.7915            6.73s"
       ]
      },
      {
       "output_type": "stream",
       "stream": "stdout",
       "text": [
        "\n",
        "       588           0.7912            6.73s\n",
        "       589           0.7910            6.72s\n",
        "       590           0.7908            6.71s\n",
        "       591           0.7907            6.70s\n",
        "       592           0.7906            6.70s\n",
        "       593           0.7904            6.69s\n",
        "       594           0.7903            6.68s\n",
        "       595           0.7901            6.67s\n",
        "       596           0.7900            6.67s\n",
        "       597           0.7898            6.66s\n",
        "       598           0.7897            6.66s\n",
        "       599           0.7895            6.65s\n",
        "       600           0.7894            6.64s\n",
        "       601           0.7892            6.63s"
       ]
      },
      {
       "output_type": "stream",
       "stream": "stdout",
       "text": [
        "\n",
        "       602           0.7891            6.63s\n",
        "       603           0.7889            6.62s\n",
        "       604           0.7888            6.61s\n",
        "       605           0.7886            6.60s\n",
        "       606           0.7885            6.59s\n",
        "       607           0.7884            6.59s\n",
        "       608           0.7882            6.58s\n",
        "       609           0.7881            6.57s\n",
        "       610           0.7879            6.57s\n",
        "       611           0.7878            6.56s\n",
        "       612           0.7876            6.56s\n",
        "       613           0.7875            6.55s\n",
        "       614           0.7873            6.54s\n",
        "       615           0.7871            6.53s"
       ]
      },
      {
       "output_type": "stream",
       "stream": "stdout",
       "text": [
        "\n",
        "       616           0.7870            6.53s\n",
        "       617           0.7867            6.52s\n",
        "       618           0.7866            6.52s\n",
        "       619           0.7864            6.51s\n",
        "       620           0.7863            6.50s\n",
        "       621           0.7861            6.50s\n",
        "       622           0.7860            6.49s\n",
        "       623           0.7859            6.48s\n",
        "       624           0.7858            6.48s\n",
        "       625           0.7856            6.47s\n",
        "       626           0.7854            6.46s\n",
        "       627           0.7852            6.46s\n",
        "       628           0.7851            6.45s\n",
        "       629           0.7849            6.44s"
       ]
      },
      {
       "output_type": "stream",
       "stream": "stdout",
       "text": [
        "\n",
        "       630           0.7848            6.43s\n",
        "       631           0.7846            6.43s\n",
        "       632           0.7845            6.42s\n",
        "       633           0.7843            6.42s\n",
        "       634           0.7841            6.41s\n",
        "       635           0.7840            6.40s\n",
        "       636           0.7837            6.40s\n",
        "       637           0.7836            6.39s\n",
        "       638           0.7834            6.38s\n",
        "       639           0.7833            6.38s\n",
        "       640           0.7832            6.37s\n",
        "       641           0.7830            6.36s\n",
        "       642           0.7829            6.36s\n",
        "       643           0.7827            6.35s"
       ]
      },
      {
       "output_type": "stream",
       "stream": "stdout",
       "text": [
        "\n",
        "       644           0.7825            6.34s\n",
        "       645           0.7823            6.34s\n",
        "       646           0.7822            6.33s\n",
        "       647           0.7820            6.32s\n",
        "       648           0.7818            6.31s\n",
        "       649           0.7816            6.31s\n",
        "       650           0.7815            6.30s\n",
        "       651           0.7813            6.29s\n",
        "       652           0.7811            6.29s\n",
        "       653           0.7810            6.28s\n",
        "       654           0.7808            6.28s\n",
        "       655           0.7806            6.27s\n",
        "       656           0.7803            6.26s\n",
        "       657           0.7801            6.26s"
       ]
      },
      {
       "output_type": "stream",
       "stream": "stdout",
       "text": [
        "\n",
        "       658           0.7797            6.25s\n",
        "       659           0.7796            6.24s\n",
        "       660           0.7795            6.24s\n",
        "       661           0.7794            6.23s\n",
        "       662           0.7792            6.22s\n",
        "       663           0.7789            6.21s\n",
        "       664           0.7788            6.21s\n",
        "       665           0.7786            6.20s\n",
        "       666           0.7785            6.19s\n",
        "       667           0.7783            6.19s\n",
        "       668           0.7782            6.19s\n",
        "       669           0.7778            6.18s\n",
        "       670           0.7776            6.17s\n",
        "       671           0.7774            6.17s"
       ]
      },
      {
       "output_type": "stream",
       "stream": "stdout",
       "text": [
        "\n",
        "       672           0.7770            6.16s\n",
        "       673           0.7768            6.15s\n",
        "       674           0.7767            6.15s\n",
        "       675           0.7766            6.14s\n",
        "       676           0.7764            6.13s\n",
        "       677           0.7763            6.12s\n",
        "       678           0.7760            6.12s\n",
        "       679           0.7759            6.11s\n",
        "       680           0.7757            6.10s\n",
        "       681           0.7756            6.10s\n",
        "       682           0.7754            6.10s\n",
        "       683           0.7753            6.09s\n",
        "       684           0.7752            6.08s\n",
        "       685           0.7750            6.07s"
       ]
      },
      {
       "output_type": "stream",
       "stream": "stdout",
       "text": [
        "\n",
        "       686           0.7750            6.07s\n",
        "       687           0.7747            6.06s\n",
        "       688           0.7746            6.05s\n",
        "       689           0.7744            6.05s\n",
        "       690           0.7742            6.04s\n",
        "       691           0.7741            6.03s\n",
        "       692           0.7738            6.03s\n",
        "       693           0.7736            6.02s\n",
        "       694           0.7735            6.01s\n",
        "       695           0.7734            6.01s\n",
        "       696           0.7733            6.00s\n",
        "       697           0.7732            6.00s\n",
        "       698           0.7730            5.99s\n",
        "       699           0.7729            5.98s\n",
        "       700           0.7727            5.98s"
       ]
      },
      {
       "output_type": "stream",
       "stream": "stdout",
       "text": [
        "\n",
        "       701           0.7726            5.97s\n",
        "       702           0.7725            5.96s\n",
        "       703           0.7723            5.96s\n",
        "       704           0.7722            5.95s\n",
        "       705           0.7721            5.94s\n",
        "       706           0.7719            5.94s\n",
        "       707           0.7718            5.93s\n",
        "       708           0.7717            5.92s\n",
        "       709           0.7715            5.92s\n",
        "       710           0.7714            5.92s\n",
        "       711           0.7712            5.91s\n",
        "       712           0.7711            5.91s\n",
        "       713           0.7710            5.90s"
       ]
      },
      {
       "output_type": "stream",
       "stream": "stdout",
       "text": [
        "\n",
        "       714           0.7709            5.89s\n",
        "       715           0.7708            5.89s\n",
        "       716           0.7707            5.88s\n",
        "       717           0.7706            5.88s\n",
        "       718           0.7703            5.87s\n",
        "       719           0.7702            5.86s\n",
        "       720           0.7701            5.86s\n",
        "       721           0.7699            5.85s\n",
        "       722           0.7697            5.85s\n",
        "       723           0.7695            5.84s\n",
        "       724           0.7694            5.84s\n",
        "       725           0.7693            5.84s"
       ]
      },
      {
       "output_type": "stream",
       "stream": "stdout",
       "text": [
        "\n",
        "       726           0.7692            5.83s\n",
        "       727           0.7691            5.83s\n",
        "       728           0.7689            5.83s\n",
        "       729           0.7688            5.82s\n",
        "       730           0.7687            5.82s\n",
        "       731           0.7686            5.81s\n",
        "       732           0.7685            5.80s\n",
        "       733           0.7683            5.80s\n",
        "       734           0.7682            5.79s\n",
        "       735           0.7680            5.79s\n",
        "       736           0.7678            5.79s\n",
        "       737           0.7677            5.78s"
       ]
      },
      {
       "output_type": "stream",
       "stream": "stdout",
       "text": [
        "\n",
        "       738           0.7676            5.78s\n",
        "       739           0.7674            5.77s\n",
        "       740           0.7672            5.77s\n",
        "       741           0.7670            5.77s\n",
        "       742           0.7669            5.76s\n",
        "       743           0.7667            5.76s\n",
        "       744           0.7666            5.75s\n",
        "       745           0.7664            5.74s\n",
        "       746           0.7663            5.74s\n",
        "       747           0.7661            5.74s\n",
        "       748           0.7660            5.73s\n",
        "       749           0.7659            5.72s"
       ]
      },
      {
       "output_type": "stream",
       "stream": "stdout",
       "text": [
        "\n",
        "       750           0.7658            5.72s\n",
        "       751           0.7656            5.71s\n",
        "       752           0.7655            5.70s\n",
        "       753           0.7654            5.70s\n",
        "       754           0.7653            5.69s\n",
        "       755           0.7651            5.68s\n",
        "       756           0.7650            5.68s\n",
        "       757           0.7648            5.67s\n",
        "       758           0.7647            5.67s\n",
        "       759           0.7646            5.66s\n",
        "       760           0.7644            5.66s\n",
        "       761           0.7643            5.65s\n",
        "       762           0.7642            5.64s\n",
        "       763           0.7641            5.64s\n",
        "       764           0.7640            5.63s"
       ]
      },
      {
       "output_type": "stream",
       "stream": "stdout",
       "text": [
        "\n",
        "       765           0.7638            5.63s\n",
        "       766           0.7637            5.62s\n",
        "       767           0.7636            5.62s\n",
        "       768           0.7635            5.62s\n",
        "       769           0.7634            5.61s\n",
        "       770           0.7632            5.61s\n",
        "       771           0.7631            5.60s\n",
        "       772           0.7630            5.60s\n",
        "       773           0.7629            5.59s\n",
        "       774           0.7628            5.59s\n",
        "       775           0.7627            5.58s"
       ]
      },
      {
       "output_type": "stream",
       "stream": "stdout",
       "text": [
        "\n",
        "       776           0.7626            5.58s\n",
        "       777           0.7625            5.58s\n",
        "       778           0.7624            5.57s\n",
        "       779           0.7623            5.57s\n",
        "       780           0.7621            5.57s\n",
        "       781           0.7621            5.56s\n",
        "       782           0.7620            5.56s\n",
        "       783           0.7617            5.56s\n",
        "       784           0.7616            5.55s\n",
        "       785           0.7615            5.54s\n",
        "       786           0.7613            5.54s"
       ]
      },
      {
       "output_type": "stream",
       "stream": "stdout",
       "text": [
        "\n",
        "       787           0.7612            5.54s\n",
        "       788           0.7611            5.53s\n",
        "       789           0.7610            5.53s\n",
        "       790           0.7608            5.53s\n",
        "       791           0.7607            5.52s\n",
        "       792           0.7603            5.52s\n",
        "       793           0.7602            5.51s\n",
        "       794           0.7601            5.51s\n",
        "       795           0.7598            5.50s\n",
        "       796           0.7597            5.50s\n",
        "       797           0.7595            5.50s"
       ]
      },
      {
       "output_type": "stream",
       "stream": "stdout",
       "text": [
        "\n",
        "       798           0.7595            5.49s\n",
        "       799           0.7594            5.49s\n",
        "       800           0.7593            5.49s\n",
        "       801           0.7593            5.48s\n",
        "       802           0.7592            5.48s\n",
        "       803           0.7591            5.47s\n",
        "       804           0.7589            5.47s\n",
        "       805           0.7588            5.47s\n",
        "       806           0.7587            5.46s\n",
        "       807           0.7586            5.45s\n",
        "       808           0.7585            5.45s"
       ]
      },
      {
       "output_type": "stream",
       "stream": "stdout",
       "text": [
        "\n",
        "       809           0.7582            5.45s\n",
        "       810           0.7581            5.44s\n",
        "       811           0.7580            5.44s\n",
        "       812           0.7579            5.44s\n",
        "       813           0.7578            5.43s\n",
        "       814           0.7577            5.43s\n",
        "       815           0.7575            5.42s\n",
        "       816           0.7574            5.42s\n",
        "       817           0.7573            5.42s\n",
        "       818           0.7572            5.41s\n",
        "       819           0.7570            5.41s"
       ]
      },
      {
       "output_type": "stream",
       "stream": "stdout",
       "text": [
        "\n",
        "       820           0.7569            5.40s\n",
        "       821           0.7569            5.40s\n",
        "       822           0.7567            5.40s\n",
        "       823           0.7566            5.39s\n",
        "       824           0.7565            5.39s\n",
        "       825           0.7564            5.39s\n",
        "       826           0.7563            5.38s\n",
        "       827           0.7562            5.38s\n",
        "       828           0.7561            5.37s\n",
        "       829           0.7559            5.37s"
       ]
      },
      {
       "output_type": "stream",
       "stream": "stdout",
       "text": [
        "\n",
        "       830           0.7558            5.37s\n",
        "       831           0.7558            5.36s\n",
        "       832           0.7556            5.36s\n",
        "       833           0.7555            5.36s\n",
        "       834           0.7554            5.35s\n",
        "       835           0.7553            5.35s\n",
        "       836           0.7553            5.34s\n",
        "       837           0.7551            5.34s\n",
        "       838           0.7550            5.34s\n",
        "       839           0.7549            5.33s"
       ]
      },
      {
       "output_type": "stream",
       "stream": "stdout",
       "text": [
        "\n",
        "       840           0.7548            5.33s\n",
        "       841           0.7547            5.32s\n",
        "       842           0.7546            5.32s\n",
        "       843           0.7544            5.31s\n",
        "       844           0.7543            5.30s\n",
        "       845           0.7541            5.30s\n",
        "       846           0.7541            5.29s\n",
        "       847           0.7540            5.29s\n",
        "       848           0.7539            5.28s\n",
        "       849           0.7538            5.28s\n",
        "       850           0.7537            5.27s\n",
        "       851           0.7536            5.27s\n",
        "       852           0.7533            5.26s"
       ]
      },
      {
       "output_type": "stream",
       "stream": "stdout",
       "text": [
        "\n",
        "       853           0.7532            5.26s\n",
        "       854           0.7530            5.25s\n",
        "       855           0.7529            5.24s\n",
        "       856           0.7527            5.24s\n",
        "       857           0.7526            5.23s\n",
        "       858           0.7525            5.22s\n",
        "       859           0.7524            5.22s\n",
        "       860           0.7523            5.21s\n",
        "       861           0.7519            5.21s\n",
        "       862           0.7516            5.20s\n",
        "       863           0.7515            5.20s\n",
        "       864           0.7514            5.19s\n",
        "       865           0.7513            5.19s\n",
        "       866           0.7512            5.18s"
       ]
      },
      {
       "output_type": "stream",
       "stream": "stdout",
       "text": [
        "\n",
        "       867           0.7511            5.17s\n",
        "       868           0.7510            5.17s\n",
        "       869           0.7509            5.16s\n",
        "       870           0.7507            5.16s\n",
        "       871           0.7505            5.15s\n",
        "       872           0.7504            5.14s\n",
        "       873           0.7502            5.14s\n",
        "       874           0.7500            5.13s\n",
        "       875           0.7500            5.12s\n",
        "       876           0.7499            5.12s\n",
        "       877           0.7497            5.12s\n",
        "       878           0.7497            5.11s\n",
        "       879           0.7496            5.10s\n",
        "       880           0.7495            5.10s"
       ]
      },
      {
       "output_type": "stream",
       "stream": "stdout",
       "text": [
        "\n",
        "       881           0.7494            5.09s\n",
        "       882           0.7492            5.09s\n",
        "       883           0.7492            5.08s\n",
        "       884           0.7491            5.07s\n",
        "       885           0.7490            5.07s\n",
        "       886           0.7488            5.06s\n",
        "       887           0.7487            5.06s\n",
        "       888           0.7486            5.05s\n",
        "       889           0.7485            5.04s\n",
        "       890           0.7484            5.04s\n",
        "       891           0.7483            5.03s\n",
        "       892           0.7482            5.03s\n",
        "       893           0.7481            5.02s\n",
        "       894           0.7480            5.02s\n",
        "       895           0.7478            5.01s"
       ]
      },
      {
       "output_type": "stream",
       "stream": "stdout",
       "text": [
        "\n",
        "       896           0.7477            5.01s\n",
        "       897           0.7475            5.00s\n",
        "       898           0.7473            5.00s\n",
        "       899           0.7473            4.99s\n",
        "       900           0.7472            4.98s\n",
        "       901           0.7470            4.98s\n",
        "       902           0.7469            4.97s\n",
        "       903           0.7469            4.97s\n",
        "       904           0.7468            4.96s\n",
        "       905           0.7466            4.95s\n",
        "       906           0.7465            4.95s\n",
        "       907           0.7464            4.95s\n",
        "       908           0.7462            4.94s\n",
        "       909           0.7462            4.93s"
       ]
      },
      {
       "output_type": "stream",
       "stream": "stdout",
       "text": [
        "\n",
        "       910           0.7461            4.93s\n",
        "       911           0.7460            4.92s\n",
        "       912           0.7460            4.92s\n",
        "       913           0.7458            4.91s\n",
        "       914           0.7457            4.91s\n",
        "       915           0.7456            4.90s\n",
        "       916           0.7455            4.89s\n",
        "       917           0.7454            4.89s\n",
        "       918           0.7452            4.89s\n",
        "       919           0.7452            4.88s\n",
        "       920           0.7450            4.88s\n",
        "       921           0.7449            4.87s\n",
        "       922           0.7448            4.87s"
       ]
      },
      {
       "output_type": "stream",
       "stream": "stdout",
       "text": [
        "\n",
        "       923           0.7447            4.86s\n",
        "       924           0.7446            4.86s\n",
        "       925           0.7446            4.85s\n",
        "       926           0.7445            4.85s\n",
        "       927           0.7444            4.84s\n",
        "       928           0.7443            4.84s\n",
        "       929           0.7442            4.83s\n",
        "       930           0.7440            4.82s\n",
        "       931           0.7439            4.82s\n",
        "       932           0.7438            4.82s\n",
        "       933           0.7437            4.81s\n",
        "       934           0.7435            4.81s\n",
        "       935           0.7434            4.80s"
       ]
      },
      {
       "output_type": "stream",
       "stream": "stdout",
       "text": [
        "\n",
        "       936           0.7432            4.79s\n",
        "       937           0.7431            4.79s\n",
        "       938           0.7430            4.78s\n",
        "       939           0.7429            4.78s\n",
        "       940           0.7429            4.77s\n",
        "       941           0.7427            4.77s\n",
        "       942           0.7426            4.76s\n",
        "       943           0.7426            4.76s\n",
        "       944           0.7424            4.75s\n",
        "       945           0.7422            4.75s\n",
        "       946           0.7421            4.74s\n",
        "       947           0.7420            4.74s\n",
        "       948           0.7419            4.73s\n",
        "       949           0.7418            4.73s"
       ]
      },
      {
       "output_type": "stream",
       "stream": "stdout",
       "text": [
        "\n",
        "       950           0.7417            4.72s\n",
        "       951           0.7416            4.71s\n",
        "       952           0.7416            4.71s\n",
        "       953           0.7414            4.71s\n",
        "       954           0.7413            4.70s\n",
        "       955           0.7411            4.70s\n",
        "       956           0.7409            4.69s\n",
        "       957           0.7407            4.69s\n",
        "       958           0.7407            4.68s\n",
        "       959           0.7406            4.68s\n",
        "       960           0.7406            4.67s\n",
        "       961           0.7405            4.67s\n",
        "       962           0.7403            4.66s"
       ]
      },
      {
       "output_type": "stream",
       "stream": "stdout",
       "text": [
        "\n",
        "       963           0.7403            4.66s\n",
        "       964           0.7402            4.65s\n",
        "       965           0.7401            4.65s\n",
        "       966           0.7400            4.64s\n",
        "       967           0.7399            4.63s\n",
        "       968           0.7396            4.63s\n",
        "       969           0.7395            4.62s\n",
        "       970           0.7395            4.62s\n",
        "       971           0.7394            4.63s\n",
        "       972           0.7394            4.63s"
       ]
      },
      {
       "output_type": "stream",
       "stream": "stdout",
       "text": [
        "\n",
        "       973           0.7392            4.62s\n",
        "       974           0.7391            4.62s\n",
        "       975           0.7390            4.61s\n",
        "       976           0.7389            4.60s\n",
        "       977           0.7388            4.60s\n",
        "       978           0.7388            4.59s\n",
        "       979           0.7387            4.59s\n",
        "       980           0.7385            4.58s\n",
        "       981           0.7384            4.58s\n",
        "       982           0.7383            4.57s\n",
        "       983           0.7382            4.57s\n",
        "       984           0.7381            4.57s\n",
        "       985           0.7380            4.56s"
       ]
      },
      {
       "output_type": "stream",
       "stream": "stdout",
       "text": [
        "\n",
        "       986           0.7379            4.56s\n",
        "       987           0.7378            4.55s\n",
        "       988           0.7377            4.54s\n",
        "       989           0.7375            4.54s\n",
        "       990           0.7374            4.53s\n",
        "       991           0.7373            4.53s\n",
        "       992           0.7373            4.52s\n",
        "       993           0.7372            4.52s\n",
        "       994           0.7371            4.51s\n",
        "       995           0.7369            4.51s\n",
        "       996           0.7369            4.50s\n",
        "       997           0.7368            4.50s\n",
        "       998           0.7367            4.50s"
       ]
      },
      {
       "output_type": "stream",
       "stream": "stdout",
       "text": [
        "\n",
        "       999           0.7366            4.49s\n",
        "      1000           0.7365            4.49s\n",
        "      1001           0.7364            4.49s\n",
        "      1002           0.7363            4.48s\n",
        "      1003           0.7360            4.48s\n",
        "      1004           0.7359            4.47s\n",
        "      1005           0.7356            4.47s\n",
        "      1006           0.7355            4.46s\n",
        "      1007           0.7354            4.46s\n",
        "      1008           0.7353            4.46s"
       ]
      },
      {
       "output_type": "stream",
       "stream": "stdout",
       "text": [
        "\n",
        "      1009           0.7352            4.45s\n",
        "      1010           0.7351            4.45s\n",
        "      1011           0.7349            4.45s\n",
        "      1012           0.7347            4.44s\n",
        "      1013           0.7347            4.44s\n",
        "      1014           0.7345            4.44s\n",
        "      1015           0.7343            4.43s\n",
        "      1016           0.7343            4.43s\n",
        "      1017           0.7342            4.42s\n",
        "      1018           0.7340            4.42s\n",
        "      1019           0.7338            4.41s"
       ]
      },
      {
       "output_type": "stream",
       "stream": "stdout",
       "text": [
        "\n",
        "      1020           0.7337            4.41s\n",
        "      1021           0.7335            4.41s\n",
        "      1022           0.7334            4.41s\n",
        "      1023           0.7334            4.40s\n",
        "      1024           0.7333            4.40s\n",
        "      1025           0.7332            4.39s\n",
        "      1026           0.7331            4.38s\n",
        "      1027           0.7330            4.38s\n",
        "      1028           0.7329            4.37s\n",
        "      1029           0.7329            4.37s\n",
        "      1030           0.7328            4.37s"
       ]
      },
      {
       "output_type": "stream",
       "stream": "stdout",
       "text": [
        "\n",
        "      1031           0.7326            4.36s\n",
        "      1032           0.7325            4.36s\n",
        "      1033           0.7325            4.35s\n",
        "      1034           0.7324            4.35s\n",
        "      1035           0.7323            4.34s\n",
        "      1036           0.7322            4.34s\n",
        "      1037           0.7320            4.33s\n",
        "      1038           0.7319            4.33s\n",
        "      1039           0.7319            4.32s\n",
        "      1040           0.7318            4.32s\n",
        "      1041           0.7317            4.31s\n",
        "      1042           0.7316            4.31s"
       ]
      },
      {
       "output_type": "stream",
       "stream": "stdout",
       "text": [
        "\n",
        "      1043           0.7315            4.31s\n",
        "      1044           0.7314            4.30s\n",
        "      1045           0.7313            4.30s\n",
        "      1046           0.7311            4.29s\n",
        "      1047           0.7311            4.29s\n",
        "      1048           0.7309            4.28s\n",
        "      1049           0.7308            4.28s\n",
        "      1050           0.7308            4.27s\n",
        "      1051           0.7308            4.26s\n",
        "      1052           0.7307            4.26s\n",
        "      1053           0.7306            4.26s\n",
        "      1054           0.7304            4.25s\n",
        "      1055           0.7303            4.25s"
       ]
      },
      {
       "output_type": "stream",
       "stream": "stdout",
       "text": [
        "\n",
        "      1056           0.7301            4.25s\n",
        "      1057           0.7300            4.24s\n",
        "      1058           0.7299            4.23s\n",
        "      1059           0.7298            4.23s\n",
        "      1060           0.7298            4.22s\n",
        "      1061           0.7296            4.22s\n",
        "      1062           0.7295            4.21s\n",
        "      1063           0.7294            4.21s\n",
        "      1064           0.7293            4.20s\n",
        "      1065           0.7291            4.20s\n",
        "      1066           0.7290            4.19s\n",
        "      1067           0.7289            4.19s\n",
        "      1068           0.7288            4.19s"
       ]
      },
      {
       "output_type": "stream",
       "stream": "stdout",
       "text": [
        "\n",
        "      1069           0.7287            4.18s\n",
        "      1070           0.7286            4.18s\n",
        "      1071           0.7285            4.17s\n",
        "      1072           0.7285            4.17s\n",
        "      1073           0.7284            4.16s\n",
        "      1074           0.7283            4.16s\n",
        "      1075           0.7282            4.15s\n",
        "      1076           0.7282            4.14s\n",
        "      1077           0.7281            4.14s\n",
        "      1078           0.7280            4.13s\n",
        "      1079           0.7279            4.13s\n",
        "      1080           0.7278            4.13s\n",
        "      1081           0.7277            4.12s"
       ]
      },
      {
       "output_type": "stream",
       "stream": "stdout",
       "text": [
        "\n",
        "      1082           0.7276            4.12s\n",
        "      1083           0.7276            4.11s\n",
        "      1084           0.7275            4.11s\n",
        "      1085           0.7274            4.10s\n",
        "      1086           0.7272            4.10s\n",
        "      1087           0.7271            4.09s\n",
        "      1088           0.7270            4.09s\n",
        "      1089           0.7268            4.08s\n",
        "      1090           0.7267            4.08s\n",
        "      1091           0.7266            4.07s\n",
        "      1092           0.7266            4.07s\n",
        "      1093           0.7265            4.06s\n",
        "      1094           0.7265            4.06s\n",
        "      1095           0.7263            4.05s"
       ]
      },
      {
       "output_type": "stream",
       "stream": "stdout",
       "text": [
        "\n",
        "      1096           0.7262            4.05s\n",
        "      1097           0.7261            4.04s\n",
        "      1098           0.7261            4.04s\n",
        "      1099           0.7260            4.03s\n",
        "      1100           0.7259            4.03s\n",
        "      1101           0.7258            4.02s\n",
        "      1102           0.7256            4.02s\n",
        "      1103           0.7255            4.01s\n",
        "      1104           0.7254            4.01s\n",
        "      1105           0.7253            4.00s\n",
        "      1106           0.7252            3.99s\n",
        "      1107           0.7252            3.99s\n",
        "      1108           0.7251            3.98s\n",
        "      1109           0.7251            3.98s"
       ]
      },
      {
       "output_type": "stream",
       "stream": "stdout",
       "text": [
        "\n",
        "      1110           0.7250            3.98s\n",
        "      1111           0.7249            3.97s\n",
        "      1112           0.7249            3.97s\n",
        "      1113           0.7248            3.96s\n",
        "      1114           0.7247            3.95s\n",
        "      1115           0.7246            3.95s\n",
        "      1116           0.7245            3.94s\n",
        "      1117           0.7244            3.94s\n",
        "      1118           0.7244            3.93s\n",
        "      1119           0.7243            3.93s\n",
        "      1120           0.7241            3.92s\n",
        "      1121           0.7240            3.92s\n",
        "      1122           0.7239            3.91s\n",
        "      1123           0.7237            3.91s\n",
        "      1124           0.7237            3.90s"
       ]
      },
      {
       "output_type": "stream",
       "stream": "stdout",
       "text": [
        "\n",
        "      1125           0.7236            3.90s\n",
        "      1126           0.7235            3.89s\n",
        "      1127           0.7234            3.89s\n",
        "      1128           0.7233            3.88s\n",
        "      1129           0.7233            3.88s\n",
        "      1130           0.7232            3.87s\n",
        "      1131           0.7231            3.87s\n",
        "      1132           0.7229            3.86s\n",
        "      1133           0.7225            3.86s\n",
        "      1134           0.7223            3.85s\n",
        "      1135           0.7222            3.85s\n",
        "      1136           0.7222            3.84s\n",
        "      1137           0.7221            3.84s\n",
        "      1138           0.7220            3.84s"
       ]
      },
      {
       "output_type": "stream",
       "stream": "stdout",
       "text": [
        "\n",
        "      1139           0.7218            3.83s\n",
        "      1140           0.7218            3.83s\n",
        "      1141           0.7217            3.82s\n",
        "      1142           0.7217            3.82s\n",
        "      1143           0.7216            3.81s\n",
        "      1144           0.7215            3.81s\n",
        "      1145           0.7214            3.81s\n",
        "      1146           0.7213            3.80s\n",
        "      1147           0.7212            3.80s\n",
        "      1148           0.7211            3.79s\n",
        "      1149           0.7210            3.79s"
       ]
      },
      {
       "output_type": "stream",
       "stream": "stdout",
       "text": [
        "\n",
        "      1150           0.7209            3.79s\n",
        "      1151           0.7209            3.79s\n",
        "      1152           0.7208            3.78s\n",
        "      1153           0.7207            3.78s\n",
        "      1154           0.7206            3.77s\n",
        "      1155           0.7205            3.77s\n",
        "      1156           0.7204            3.77s\n",
        "      1157           0.7204            3.76s\n",
        "      1158           0.7203            3.76s"
       ]
      },
      {
       "output_type": "stream",
       "stream": "stdout",
       "text": [
        "\n",
        "      1159           0.7203            3.75s\n",
        "      1160           0.7202            3.75s\n",
        "      1161           0.7201            3.75s\n",
        "      1162           0.7200            3.74s\n",
        "      1163           0.7199            3.74s\n",
        "      1164           0.7198            3.73s\n",
        "      1165           0.7197            3.73s\n",
        "      1166           0.7196            3.72s\n",
        "      1167           0.7195            3.71s\n",
        "      1168           0.7194            3.71s\n",
        "      1169           0.7193            3.70s\n",
        "      1170           0.7192            3.70s\n",
        "      1171           0.7191            3.69s\n",
        "      1172           0.7190            3.69s"
       ]
      },
      {
       "output_type": "stream",
       "stream": "stdout",
       "text": [
        "\n",
        "      1173           0.7189            3.69s\n",
        "      1174           0.7189            3.68s\n",
        "      1175           0.7188            3.68s\n",
        "      1176           0.7187            3.67s\n",
        "      1177           0.7186            3.67s\n",
        "      1178           0.7185            3.66s\n",
        "      1179           0.7184            3.65s\n",
        "      1180           0.7184            3.65s\n",
        "      1181           0.7182            3.64s\n",
        "      1182           0.7181            3.64s\n",
        "      1183           0.7181            3.63s\n",
        "      1184           0.7180            3.63s\n",
        "      1185           0.7179            3.62s\n",
        "      1186           0.7178            3.62s\n",
        "      1187           0.7178            3.61s"
       ]
      },
      {
       "output_type": "stream",
       "stream": "stdout",
       "text": [
        "\n",
        "      1188           0.7177            3.61s\n",
        "      1189           0.7176            3.61s\n",
        "      1190           0.7175            3.61s\n",
        "      1191           0.7175            3.60s\n",
        "      1192           0.7174            3.60s\n",
        "      1193           0.7173            3.59s\n",
        "      1194           0.7173            3.59s\n",
        "      1195           0.7170            3.58s\n",
        "      1196           0.7169            3.57s\n",
        "      1197           0.7169            3.57s\n",
        "      1198           0.7168            3.56s\n",
        "      1199           0.7167            3.56s"
       ]
      },
      {
       "output_type": "stream",
       "stream": "stdout",
       "text": [
        "\n",
        "      1200           0.7167            3.56s\n",
        "      1201           0.7166            3.55s\n",
        "      1202           0.7165            3.55s\n",
        "      1203           0.7163            3.54s\n",
        "      1204           0.7162            3.54s\n",
        "      1205           0.7161            3.53s\n",
        "      1206           0.7160            3.53s\n",
        "      1207           0.7159            3.52s\n",
        "      1208           0.7158            3.51s\n",
        "      1209           0.7157            3.51s\n",
        "      1210           0.7156            3.50s\n",
        "      1211           0.7155            3.50s\n",
        "      1212           0.7153            3.50s\n",
        "      1213           0.7152            3.49s"
       ]
      },
      {
       "output_type": "stream",
       "stream": "stdout",
       "text": [
        "\n",
        "      1214           0.7151            3.49s\n",
        "      1215           0.7150            3.48s\n",
        "      1216           0.7149            3.48s\n",
        "      1217           0.7148            3.47s\n",
        "      1218           0.7148            3.47s\n",
        "      1219           0.7147            3.47s\n",
        "      1220           0.7146            3.46s\n",
        "      1221           0.7145            3.46s\n",
        "      1222           0.7144            3.45s\n",
        "      1223           0.7143            3.45s\n",
        "      1224           0.7143            3.45s"
       ]
      },
      {
       "output_type": "stream",
       "stream": "stdout",
       "text": [
        "\n",
        "      1225           0.7142            3.44s\n",
        "      1226           0.7141            3.44s\n",
        "      1227           0.7140            3.43s\n",
        "      1228           0.7139            3.43s\n",
        "      1229           0.7138            3.43s\n",
        "      1230           0.7138            3.43s\n",
        "      1231           0.7137            3.42s\n",
        "      1232           0.7136            3.42s\n",
        "      1233           0.7135            3.41s"
       ]
      },
      {
       "output_type": "stream",
       "stream": "stdout",
       "text": [
        "\n",
        "      1234           0.7134            3.41s\n",
        "      1235           0.7134            3.41s\n",
        "      1236           0.7133            3.40s\n",
        "      1237           0.7132            3.40s\n",
        "      1238           0.7131            3.40s\n",
        "      1239           0.7130            3.39s\n",
        "      1240           0.7130            3.39s\n",
        "      1241           0.7129            3.39s\n",
        "      1242           0.7128            3.38s"
       ]
      },
      {
       "output_type": "stream",
       "stream": "stdout",
       "text": [
        "\n",
        "      1243           0.7126            3.38s\n",
        "      1244           0.7126            3.38s\n",
        "      1245           0.7125            3.37s\n",
        "      1246           0.7125            3.37s\n",
        "      1247           0.7124            3.36s\n",
        "      1248           0.7123            3.36s\n",
        "      1249           0.7122            3.36s\n",
        "      1250           0.7121            3.35s\n",
        "      1251           0.7121            3.35s"
       ]
      },
      {
       "output_type": "stream",
       "stream": "stdout",
       "text": [
        "\n",
        "      1252           0.7120            3.35s\n",
        "      1253           0.7119            3.34s\n",
        "      1254           0.7118            3.34s\n",
        "      1255           0.7118            3.34s\n",
        "      1256           0.7117            3.33s\n",
        "      1257           0.7116            3.33s\n",
        "      1258           0.7115            3.32s\n",
        "      1259           0.7115            3.32s\n",
        "      1260           0.7114            3.32s"
       ]
      },
      {
       "output_type": "stream",
       "stream": "stdout",
       "text": [
        "\n",
        "      1261           0.7113            3.31s\n",
        "      1262           0.7112            3.31s\n",
        "      1263           0.7111            3.30s\n",
        "      1264           0.7110            3.30s\n",
        "      1265           0.7109            3.29s\n",
        "      1266           0.7109            3.29s\n",
        "      1267           0.7108            3.29s\n",
        "      1268           0.7107            3.28s\n",
        "      1269           0.7106            3.28s\n",
        "      1270           0.7105            3.27s\n",
        "      1271           0.7105            3.27s"
       ]
      },
      {
       "output_type": "stream",
       "stream": "stdout",
       "text": [
        "\n",
        "      1272           0.7101            3.26s\n",
        "      1273           0.7100            3.26s\n",
        "      1274           0.7100            3.25s\n",
        "      1275           0.7099            3.25s\n",
        "      1276           0.7098            3.25s\n",
        "      1277           0.7097            3.24s\n",
        "      1278           0.7096            3.24s\n",
        "      1279           0.7095            3.23s\n",
        "      1280           0.7095            3.23s\n",
        "      1281           0.7094            3.23s\n",
        "      1282           0.7093            3.22s"
       ]
      },
      {
       "output_type": "stream",
       "stream": "stdout",
       "text": [
        "\n",
        "      1283           0.7093            3.22s\n",
        "      1284           0.7092            3.21s\n",
        "      1285           0.7091            3.21s\n",
        "      1286           0.7091            3.21s\n",
        "      1287           0.7090            3.20s\n",
        "      1288           0.7089            3.20s\n",
        "      1289           0.7088            3.20s\n",
        "      1290           0.7086            3.19s\n",
        "      1291           0.7086            3.19s\n",
        "      1292           0.7085            3.18s"
       ]
      },
      {
       "output_type": "stream",
       "stream": "stdout",
       "text": [
        "\n",
        "      1293           0.7085            3.18s\n",
        "      1294           0.7084            3.17s\n",
        "      1295           0.7084            3.17s\n",
        "      1296           0.7082            3.17s\n",
        "      1297           0.7080            3.16s\n",
        "      1298           0.7079            3.16s\n",
        "      1299           0.7079            3.15s\n",
        "      1300           0.7078            3.15s\n",
        "      1301           0.7077            3.15s\n",
        "      1302           0.7076            3.14s"
       ]
      },
      {
       "output_type": "stream",
       "stream": "stdout",
       "text": [
        "\n",
        "      1303           0.7074            3.14s\n",
        "      1304           0.7074            3.14s\n",
        "      1305           0.7073            3.13s\n",
        "      1306           0.7072            3.13s\n",
        "      1307           0.7071            3.12s\n",
        "      1308           0.7071            3.12s\n",
        "      1309           0.7070            3.12s\n",
        "      1310           0.7069            3.11s\n",
        "      1311           0.7069            3.11s"
       ]
      },
      {
       "output_type": "stream",
       "stream": "stdout",
       "text": [
        "\n",
        "      1312           0.7068            3.11s\n",
        "      1313           0.7068            3.10s\n",
        "      1314           0.7067            3.10s\n",
        "      1315           0.7067            3.09s\n",
        "      1316           0.7066            3.09s\n",
        "      1317           0.7065            3.08s\n",
        "      1318           0.7065            3.08s\n",
        "      1319           0.7064            3.08s\n",
        "      1320           0.7063            3.07s\n",
        "      1321           0.7063            3.07s"
       ]
      },
      {
       "output_type": "stream",
       "stream": "stdout",
       "text": [
        "\n",
        "      1322           0.7061            3.07s\n",
        "      1323           0.7061            3.06s\n",
        "      1324           0.7059            3.06s\n",
        "      1325           0.7058            3.06s\n",
        "      1326           0.7058            3.05s\n",
        "      1327           0.7057            3.05s\n",
        "      1328           0.7057            3.04s\n",
        "      1329           0.7056            3.04s\n",
        "      1330           0.7056            3.03s\n",
        "      1331           0.7055            3.03s"
       ]
      },
      {
       "output_type": "stream",
       "stream": "stdout",
       "text": [
        "\n",
        "      1332           0.7054            3.03s\n",
        "      1333           0.7053            3.02s\n",
        "      1334           0.7053            3.02s\n",
        "      1335           0.7052            3.02s\n",
        "      1336           0.7052            3.01s\n",
        "      1337           0.7051            3.01s\n",
        "      1338           0.7050            3.00s\n",
        "      1339           0.7049            3.00s\n",
        "      1340           0.7049            2.99s"
       ]
      },
      {
       "output_type": "stream",
       "stream": "stdout",
       "text": [
        "\n",
        "      1341           0.7048            2.99s\n",
        "      1342           0.7048            2.99s\n",
        "      1343           0.7047            2.98s\n",
        "      1344           0.7046            2.98s\n",
        "      1345           0.7046            2.97s\n",
        "      1346           0.7045            2.96s\n",
        "      1347           0.7045            2.96s\n",
        "      1348           0.7044            2.95s\n",
        "      1349           0.7043            2.95s\n",
        "      1350           0.7042            2.95s\n",
        "      1351           0.7042            2.95s"
       ]
      },
      {
       "output_type": "stream",
       "stream": "stdout",
       "text": [
        "\n",
        "      1352           0.7041            2.94s\n",
        "      1353           0.7039            2.94s\n",
        "      1354           0.7038            2.94s\n",
        "      1355           0.7037            2.93s\n",
        "      1356           0.7037            2.93s\n",
        "      1357           0.7036            2.92s\n",
        "      1358           0.7036            2.92s\n",
        "      1359           0.7035            2.91s\n",
        "      1360           0.7034            2.91s\n",
        "      1361           0.7033            2.91s"
       ]
      },
      {
       "output_type": "stream",
       "stream": "stdout",
       "text": [
        "\n",
        "      1362           0.7033            2.90s\n",
        "      1363           0.7032            2.90s\n",
        "      1364           0.7028            2.89s\n",
        "      1365           0.7027            2.89s\n",
        "      1366           0.7026            2.89s\n",
        "      1367           0.7026            2.88s\n",
        "      1368           0.7025            2.88s\n",
        "      1369           0.7024            2.87s\n",
        "      1370           0.7024            2.87s\n",
        "      1371           0.7023            2.86s"
       ]
      },
      {
       "output_type": "stream",
       "stream": "stdout",
       "text": [
        "\n",
        "      1372           0.7023            2.86s\n",
        "      1373           0.7022            2.86s\n",
        "      1374           0.7022            2.85s\n",
        "      1375           0.7021            2.85s\n",
        "      1376           0.7021            2.84s\n",
        "      1377           0.7020            2.84s\n",
        "      1378           0.7019            2.84s\n",
        "      1379           0.7018            2.83s\n",
        "      1380           0.7018            2.83s"
       ]
      },
      {
       "output_type": "stream",
       "stream": "stdout",
       "text": [
        "\n",
        "      1381           0.7017            2.83s\n",
        "      1382           0.7016            2.82s\n",
        "      1383           0.7015            2.82s\n",
        "      1384           0.7015            2.81s\n",
        "      1385           0.7014            2.81s\n",
        "      1386           0.7014            2.80s\n",
        "      1387           0.7013            2.80s\n",
        "      1388           0.7013            2.80s\n",
        "      1389           0.7012            2.79s\n",
        "      1390           0.7011            2.79s"
       ]
      },
      {
       "output_type": "stream",
       "stream": "stdout",
       "text": [
        "\n",
        "      1391           0.7011            2.78s\n",
        "      1392           0.7010            2.78s\n",
        "      1393           0.7010            2.77s\n",
        "      1394           0.7009            2.77s\n",
        "      1395           0.7009            2.77s\n",
        "      1396           0.7008            2.76s\n",
        "      1397           0.7007            2.76s\n",
        "      1398           0.7007            2.75s\n",
        "      1399           0.7006            2.75s\n",
        "      1400           0.7005            2.75s"
       ]
      },
      {
       "output_type": "stream",
       "stream": "stdout",
       "text": [
        "\n",
        "      1401           0.7005            2.74s\n",
        "      1402           0.7004            2.74s\n",
        "      1403           0.7003            2.73s\n",
        "      1404           0.7002            2.73s\n",
        "      1405           0.7000            2.72s\n",
        "      1406           0.7000            2.72s\n",
        "      1407           0.6999            2.71s\n",
        "      1408           0.6998            2.71s\n",
        "      1409           0.6998            2.70s\n",
        "      1410           0.6997            2.70s\n",
        "      1411           0.6996            2.70s"
       ]
      },
      {
       "output_type": "stream",
       "stream": "stdout",
       "text": [
        "\n",
        "      1412           0.6995            2.69s\n",
        "      1413           0.6995            2.69s\n",
        "      1414           0.6994            2.68s\n",
        "      1415           0.6993            2.68s\n",
        "      1416           0.6991            2.67s\n",
        "      1417           0.6991            2.67s\n",
        "      1418           0.6990            2.67s\n",
        "      1419           0.6989            2.66s\n",
        "      1420           0.6988            2.66s"
       ]
      },
      {
       "output_type": "stream",
       "stream": "stdout",
       "text": [
        "\n",
        "      1421           0.6986            2.66s\n",
        "      1422           0.6985            2.65s\n",
        "      1423           0.6984            2.65s\n",
        "      1424           0.6983            2.64s\n",
        "      1425           0.6982            2.64s\n",
        "      1426           0.6981            2.63s\n",
        "      1427           0.6981            2.63s\n",
        "      1428           0.6980            2.63s\n",
        "      1429           0.6977            2.62s\n",
        "      1430           0.6977            2.62s"
       ]
      },
      {
       "output_type": "stream",
       "stream": "stdout",
       "text": [
        "\n",
        "      1431           0.6976            2.61s\n",
        "      1432           0.6975            2.61s\n",
        "      1433           0.6975            2.61s\n",
        "      1434           0.6974            2.60s\n",
        "      1435           0.6973            2.60s\n",
        "      1436           0.6973            2.59s\n",
        "      1437           0.6971            2.59s\n",
        "      1438           0.6971            2.58s\n",
        "      1439           0.6970            2.58s\n",
        "      1440           0.6970            2.57s"
       ]
      },
      {
       "output_type": "stream",
       "stream": "stdout",
       "text": [
        "\n",
        "      1441           0.6969            2.57s\n",
        "      1442           0.6969            2.57s\n",
        "      1443           0.6968            2.56s\n",
        "      1444           0.6967            2.56s\n",
        "      1445           0.6966            2.56s\n",
        "      1446           0.6966            2.55s\n",
        "      1447           0.6965            2.55s\n",
        "      1448           0.6964            2.54s\n",
        "      1449           0.6962            2.54s"
       ]
      },
      {
       "output_type": "stream",
       "stream": "stdout",
       "text": [
        "\n",
        "      1450           0.6962            2.53s\n",
        "      1451           0.6961            2.53s\n",
        "      1452           0.6960            2.53s\n",
        "      1453           0.6959            2.52s\n",
        "      1454           0.6958            2.52s\n",
        "      1455           0.6958            2.51s\n",
        "      1456           0.6957            2.51s\n",
        "      1457           0.6954            2.50s\n",
        "      1458           0.6954            2.50s\n",
        "      1459           0.6953            2.49s"
       ]
      },
      {
       "output_type": "stream",
       "stream": "stdout",
       "text": [
        "\n",
        "      1460           0.6952            2.49s\n",
        "      1461           0.6952            2.49s\n",
        "      1462           0.6951            2.48s\n",
        "      1463           0.6950            2.48s\n",
        "      1464           0.6949            2.47s\n",
        "      1465           0.6948            2.47s\n",
        "      1466           0.6948            2.46s\n",
        "      1467           0.6946            2.46s\n",
        "      1468           0.6945            2.46s\n",
        "      1469           0.6944            2.45s"
       ]
      },
      {
       "output_type": "stream",
       "stream": "stdout",
       "text": [
        "\n",
        "      1470           0.6944            2.45s\n",
        "      1471           0.6943            2.44s\n",
        "      1472           0.6942            2.44s\n",
        "      1473           0.6941            2.43s\n",
        "      1474           0.6941            2.43s\n",
        "      1475           0.6941            2.43s\n",
        "      1476           0.6940            2.42s\n",
        "      1477           0.6940            2.42s\n",
        "      1478           0.6939            2.41s"
       ]
      },
      {
       "output_type": "stream",
       "stream": "stdout",
       "text": [
        "\n",
        "      1479           0.6937            2.41s\n",
        "      1480           0.6937            2.41s\n",
        "      1481           0.6936            2.40s\n",
        "      1482           0.6935            2.40s\n",
        "      1483           0.6934            2.39s\n",
        "      1484           0.6933            2.39s\n",
        "      1485           0.6933            2.38s\n",
        "      1486           0.6932            2.38s\n",
        "      1487           0.6932            2.37s\n",
        "      1488           0.6931            2.37s\n",
        "      1489           0.6930            2.36s\n",
        "      1490           0.6929            2.36s"
       ]
      },
      {
       "output_type": "stream",
       "stream": "stdout",
       "text": [
        "\n",
        "      1491           0.6925            2.35s\n",
        "      1492           0.6925            2.35s\n",
        "      1493           0.6923            2.34s\n",
        "      1494           0.6923            2.34s\n",
        "      1495           0.6922            2.33s\n",
        "      1496           0.6921            2.33s\n",
        "      1497           0.6920            2.32s\n",
        "      1498           0.6920            2.32s\n",
        "      1499           0.6919            2.31s\n",
        "      1500           0.6918            2.31s\n",
        "      1501           0.6917            2.30s\n",
        "      1502           0.6916            2.30s\n",
        "      1503           0.6916            2.29s\n",
        "      1504           0.6915            2.29s\n",
        "      1505           0.6915            2.28s"
       ]
      },
      {
       "output_type": "stream",
       "stream": "stdout",
       "text": [
        "\n",
        "      1506           0.6915            2.28s\n",
        "      1507           0.6914            2.27s\n",
        "      1508           0.6914            2.27s\n",
        "      1509           0.6913            2.26s\n",
        "      1510           0.6913            2.26s\n",
        "      1511           0.6912            2.25s\n",
        "      1512           0.6912            2.25s\n",
        "      1513           0.6911            2.25s\n",
        "      1514           0.6910            2.24s\n",
        "      1515           0.6910            2.24s\n",
        "      1516           0.6909            2.23s\n",
        "      1517           0.6908            2.23s"
       ]
      },
      {
       "output_type": "stream",
       "stream": "stdout",
       "text": [
        "\n",
        "      1518           0.6907            2.22s\n",
        "      1519           0.6906            2.22s\n",
        "      1520           0.6905            2.21s\n",
        "      1521           0.6903            2.21s\n",
        "      1522           0.6903            2.20s\n",
        "      1523           0.6902            2.20s\n",
        "      1524           0.6902            2.19s\n",
        "      1525           0.6901            2.19s\n",
        "      1526           0.6900            2.18s\n",
        "      1527           0.6899            2.18s\n",
        "      1528           0.6899            2.17s\n",
        "      1529           0.6899            2.17s\n",
        "      1530           0.6898            2.16s\n",
        "      1531           0.6898            2.16s\n",
        "      1532           0.6897            2.15s"
       ]
      },
      {
       "output_type": "stream",
       "stream": "stdout",
       "text": [
        "\n",
        "      1533           0.6896            2.15s\n",
        "      1534           0.6896            2.14s\n",
        "      1535           0.6895            2.14s\n",
        "      1536           0.6894            2.13s\n",
        "      1537           0.6894            2.13s\n",
        "      1538           0.6893            2.12s\n",
        "      1539           0.6892            2.12s\n",
        "      1540           0.6891            2.11s\n",
        "      1541           0.6890            2.11s\n",
        "      1542           0.6889            2.10s\n",
        "      1543           0.6888            2.10s\n",
        "      1544           0.6888            2.09s\n",
        "      1545           0.6888            2.09s\n",
        "      1546           0.6887            2.09s"
       ]
      },
      {
       "output_type": "stream",
       "stream": "stdout",
       "text": [
        "\n",
        "      1547           0.6887            2.08s\n",
        "      1548           0.6886            2.08s\n",
        "      1549           0.6877            2.07s\n",
        "      1550           0.6877            2.07s\n",
        "      1551           0.6876            2.06s\n",
        "      1552           0.6875            2.06s\n",
        "      1553           0.6875            2.05s\n",
        "      1554           0.6874            2.05s\n",
        "      1555           0.6873            2.04s\n",
        "      1556           0.6872            2.04s\n",
        "      1557           0.6872            2.03s\n",
        "      1558           0.6871            2.03s\n",
        "      1559           0.6870            2.02s"
       ]
      },
      {
       "output_type": "stream",
       "stream": "stdout",
       "text": [
        "\n",
        "      1560           0.6870            2.02s\n",
        "      1561           0.6869            2.01s\n",
        "      1562           0.6868            2.01s\n",
        "      1563           0.6867            2.00s\n",
        "      1564           0.6867            2.00s\n",
        "      1565           0.6867            1.99s\n",
        "      1566           0.6866            1.99s\n",
        "      1567           0.6865            1.98s\n",
        "      1568           0.6865            1.98s\n",
        "      1569           0.6864            1.97s\n",
        "      1570           0.6864            1.97s\n",
        "      1571           0.6863            1.96s\n",
        "      1572           0.6863            1.96s\n",
        "      1573           0.6862            1.95s\n",
        "      1574           0.6861            1.95s"
       ]
      },
      {
       "output_type": "stream",
       "stream": "stdout",
       "text": [
        "\n",
        "      1575           0.6859            1.94s\n",
        "      1576           0.6858            1.94s\n",
        "      1577           0.6856            1.93s\n",
        "      1578           0.6856            1.93s\n",
        "      1579           0.6855            1.93s\n",
        "      1580           0.6854            1.92s\n",
        "      1581           0.6854            1.92s\n",
        "      1582           0.6852            1.91s\n",
        "      1583           0.6851            1.91s\n",
        "      1584           0.6850            1.90s\n",
        "      1585           0.6850            1.90s\n",
        "      1586           0.6849            1.89s"
       ]
      },
      {
       "output_type": "stream",
       "stream": "stdout",
       "text": [
        "\n",
        "      1587           0.6848            1.89s\n",
        "      1588           0.6848            1.88s\n",
        "      1589           0.6847            1.88s\n",
        "      1590           0.6846            1.87s\n",
        "      1591           0.6846            1.87s\n",
        "      1592           0.6845            1.86s\n",
        "      1593           0.6844            1.86s\n",
        "      1594           0.6843            1.86s\n",
        "      1595           0.6841            1.85s\n",
        "      1596           0.6840            1.85s\n",
        "      1597           0.6840            1.84s\n",
        "      1598           0.6839            1.84s\n",
        "      1599           0.6839            1.83s"
       ]
      },
      {
       "output_type": "stream",
       "stream": "stdout",
       "text": [
        "\n",
        "      1600           0.6838            1.83s\n",
        "      1601           0.6838            1.82s\n",
        "      1602           0.6837            1.82s\n",
        "      1603           0.6836            1.81s\n",
        "      1604           0.6836            1.81s\n",
        "      1605           0.6835            1.80s\n",
        "      1606           0.6834            1.80s\n",
        "      1607           0.6833            1.80s\n",
        "      1608           0.6832            1.79s\n",
        "      1609           0.6832            1.79s\n",
        "      1610           0.6832            1.78s\n",
        "      1611           0.6831            1.78s"
       ]
      },
      {
       "output_type": "stream",
       "stream": "stdout",
       "text": [
        "\n",
        "      1612           0.6831            1.77s\n",
        "      1613           0.6830            1.77s\n",
        "      1614           0.6830            1.76s\n",
        "      1615           0.6829            1.76s\n",
        "      1616           0.6829            1.75s\n",
        "      1617           0.6828            1.75s\n",
        "      1618           0.6827            1.74s\n",
        "      1619           0.6826            1.74s\n",
        "      1620           0.6826            1.73s\n",
        "      1621           0.6824            1.73s\n",
        "      1622           0.6823            1.72s\n",
        "      1623           0.6822            1.72s\n",
        "      1624           0.6821            1.71s\n",
        "      1625           0.6820            1.71s\n",
        "      1626           0.6820            1.70s"
       ]
      },
      {
       "output_type": "stream",
       "stream": "stdout",
       "text": [
        "\n",
        "      1627           0.6819            1.70s\n",
        "      1628           0.6819            1.70s\n",
        "      1629           0.6818            1.69s\n",
        "      1630           0.6815            1.69s\n",
        "      1631           0.6814            1.68s\n",
        "      1632           0.6813            1.68s\n",
        "      1633           0.6812            1.67s\n",
        "      1634           0.6812            1.67s\n",
        "      1635           0.6811            1.66s\n",
        "      1636           0.6810            1.66s\n",
        "      1637           0.6810            1.65s"
       ]
      },
      {
       "output_type": "stream",
       "stream": "stdout",
       "text": [
        "\n",
        "      1638           0.6808            1.65s\n",
        "      1639           0.6807            1.64s\n",
        "      1640           0.6807            1.64s\n",
        "      1641           0.6806            1.64s\n",
        "      1642           0.6806            1.63s\n",
        "      1643           0.6805            1.63s\n",
        "      1644           0.6805            1.62s\n",
        "      1645           0.6803            1.62s\n",
        "      1646           0.6802            1.61s\n",
        "      1647           0.6802            1.61s\n",
        "      1648           0.6800            1.60s\n",
        "      1649           0.6800            1.60s\n",
        "      1650           0.6799            1.59s\n",
        "      1651           0.6799            1.59s\n",
        "      1652           0.6798            1.58s"
       ]
      },
      {
       "output_type": "stream",
       "stream": "stdout",
       "text": [
        "\n",
        "      1653           0.6797            1.58s\n",
        "      1654           0.6797            1.57s\n",
        "      1655           0.6796            1.57s\n",
        "      1656           0.6795            1.57s\n",
        "      1657           0.6795            1.56s\n",
        "      1658           0.6794            1.56s\n",
        "      1659           0.6794            1.55s\n",
        "      1660           0.6793            1.55s\n",
        "      1661           0.6793            1.54s\n",
        "      1662           0.6792            1.54s\n",
        "      1663           0.6791            1.53s\n",
        "      1664           0.6791            1.53s"
       ]
      },
      {
       "output_type": "stream",
       "stream": "stdout",
       "text": [
        "\n",
        "      1665           0.6790            1.52s\n",
        "      1666           0.6789            1.52s\n",
        "      1667           0.6789            1.51s\n",
        "      1668           0.6788            1.51s\n",
        "      1669           0.6787            1.50s\n",
        "      1670           0.6787            1.50s\n",
        "      1671           0.6786            1.49s\n",
        "      1672           0.6786            1.49s\n",
        "      1673           0.6785            1.49s\n",
        "      1674           0.6784            1.48s\n",
        "      1675           0.6783            1.48s\n",
        "      1676           0.6783            1.47s\n",
        "      1677           0.6783            1.47s\n",
        "      1678           0.6783            1.46s\n",
        "      1679           0.6782            1.46s"
       ]
      },
      {
       "output_type": "stream",
       "stream": "stdout",
       "text": [
        "\n",
        "      1680           0.6782            1.45s\n",
        "      1681           0.6781            1.45s\n",
        "      1682           0.6780            1.44s\n",
        "      1683           0.6780            1.44s\n",
        "      1684           0.6779            1.43s\n",
        "      1685           0.6779            1.43s\n",
        "      1686           0.6778            1.42s\n",
        "      1687           0.6778            1.42s\n",
        "      1688           0.6777            1.42s\n",
        "      1689           0.6776            1.41s\n",
        "      1690           0.6776            1.41s\n",
        "      1691           0.6775            1.40s\n",
        "      1692           0.6775            1.40s\n",
        "      1693           0.6774            1.39s"
       ]
      },
      {
       "output_type": "stream",
       "stream": "stdout",
       "text": [
        "\n",
        "      1694           0.6773            1.39s\n",
        "      1695           0.6773            1.38s\n",
        "      1696           0.6772            1.38s\n",
        "      1697           0.6771            1.37s\n",
        "      1698           0.6771            1.37s\n",
        "      1699           0.6770            1.36s\n",
        "      1700           0.6769            1.36s\n",
        "      1701           0.6768            1.35s\n",
        "      1702           0.6767            1.35s\n",
        "      1703           0.6767            1.34s\n",
        "      1704           0.6766            1.34s\n",
        "      1705           0.6765            1.33s\n",
        "      1706           0.6765            1.33s\n",
        "      1707           0.6764            1.33s\n",
        "      1708           0.6764            1.32s"
       ]
      },
      {
       "output_type": "stream",
       "stream": "stdout",
       "text": [
        "\n",
        "      1709           0.6763            1.32s\n",
        "      1710           0.6762            1.31s\n",
        "      1711           0.6762            1.31s\n",
        "      1712           0.6761            1.30s\n",
        "      1713           0.6760            1.30s\n",
        "      1714           0.6760            1.29s\n",
        "      1715           0.6760            1.29s\n",
        "      1716           0.6758            1.28s\n",
        "      1717           0.6756            1.28s\n",
        "      1718           0.6756            1.28s\n",
        "      1719           0.6755            1.27s\n",
        "      1720           0.6755            1.27s\n",
        "      1721           0.6754            1.26s"
       ]
      },
      {
       "output_type": "stream",
       "stream": "stdout",
       "text": [
        "\n",
        "      1722           0.6754            1.26s\n",
        "      1723           0.6751            1.25s\n",
        "      1724           0.6750            1.25s\n",
        "      1725           0.6750            1.24s\n",
        "      1726           0.6749            1.24s\n",
        "      1727           0.6748            1.23s\n",
        "      1728           0.6747            1.23s\n",
        "      1729           0.6747            1.22s\n",
        "      1730           0.6746            1.22s\n",
        "      1731           0.6746            1.21s\n",
        "      1732           0.6745            1.21s\n",
        "      1733           0.6745            1.21s\n",
        "      1734           0.6744            1.20s\n",
        "      1735           0.6743            1.20s"
       ]
      },
      {
       "output_type": "stream",
       "stream": "stdout",
       "text": [
        "\n",
        "      1736           0.6743            1.19s\n",
        "      1737           0.6742            1.19s\n",
        "      1738           0.6741            1.18s\n",
        "      1739           0.6741            1.18s\n",
        "      1740           0.6740            1.17s\n",
        "      1741           0.6739            1.17s\n",
        "      1742           0.6738            1.16s\n",
        "      1743           0.6737            1.16s\n",
        "      1744           0.6737            1.15s\n",
        "      1745           0.6736            1.15s\n",
        "      1746           0.6736            1.15s\n",
        "      1747           0.6735            1.14s\n",
        "      1748           0.6732            1.14s"
       ]
      },
      {
       "output_type": "stream",
       "stream": "stdout",
       "text": [
        "\n",
        "      1749           0.6732            1.13s\n",
        "      1750           0.6731            1.13s\n",
        "      1751           0.6731            1.12s\n",
        "      1752           0.6730            1.12s\n",
        "      1753           0.6729            1.11s\n",
        "      1754           0.6729            1.11s\n",
        "      1755           0.6728            1.10s\n",
        "      1756           0.6727            1.10s\n",
        "      1757           0.6727            1.09s\n",
        "      1758           0.6727            1.09s\n",
        "      1759           0.6726            1.08s\n",
        "      1760           0.6725            1.08s\n",
        "      1761           0.6724            1.08s\n",
        "      1762           0.6723            1.07s\n",
        "      1763           0.6723            1.07s\n",
        "      1764           0.6722            1.06s"
       ]
      },
      {
       "output_type": "stream",
       "stream": "stdout",
       "text": [
        "\n",
        "      1765           0.6722            1.06s\n",
        "      1766           0.6722            1.05s\n",
        "      1767           0.6721            1.05s\n",
        "      1768           0.6721            1.04s\n",
        "      1769           0.6720            1.04s\n",
        "      1770           0.6720            1.03s\n",
        "      1771           0.6719            1.03s\n",
        "      1772           0.6719            1.03s\n",
        "      1773           0.6718            1.02s\n",
        "      1774           0.6718            1.02s\n",
        "      1775           0.6717            1.01s\n",
        "      1776           0.6717            1.01s"
       ]
      },
      {
       "output_type": "stream",
       "stream": "stdout",
       "text": [
        "\n",
        "      1777           0.6716            1.00s\n",
        "      1778           0.6716            1.00s\n",
        "      1779           0.6715            0.99s\n",
        "      1780           0.6714            0.99s\n",
        "      1781           0.6713            0.98s\n",
        "      1782           0.6713            0.98s\n",
        "      1783           0.6712            0.97s\n",
        "      1784           0.6712            0.97s\n",
        "      1785           0.6711            0.97s\n",
        "      1786           0.6710            0.96s\n",
        "      1787           0.6710            0.96s\n",
        "      1788           0.6708            0.95s\n",
        "      1789           0.6707            0.95s\n",
        "      1790           0.6707            0.94s\n",
        "      1791           0.6706            0.94s"
       ]
      },
      {
       "output_type": "stream",
       "stream": "stdout",
       "text": [
        "\n",
        "      1792           0.6706            0.93s\n",
        "      1793           0.6705            0.93s\n",
        "      1794           0.6704            0.92s\n",
        "      1795           0.6704            0.92s\n",
        "      1796           0.6703            0.92s\n",
        "      1797           0.6703            0.91s\n",
        "      1798           0.6702            0.91s\n",
        "      1799           0.6701            0.90s\n",
        "      1800           0.6701            0.90s\n",
        "      1801           0.6700            0.89s\n",
        "      1802           0.6700            0.89s\n",
        "      1803           0.6699            0.88s"
       ]
      },
      {
       "output_type": "stream",
       "stream": "stdout",
       "text": [
        "\n",
        "      1804           0.6698            0.88s\n",
        "      1805           0.6698            0.87s\n",
        "      1806           0.6697            0.87s\n",
        "      1807           0.6695            0.87s\n",
        "      1808           0.6695            0.86s\n",
        "      1809           0.6694            0.86s\n",
        "      1810           0.6694            0.85s\n",
        "      1811           0.6693            0.85s\n",
        "      1812           0.6692            0.84s\n",
        "      1813           0.6691            0.84s\n",
        "      1814           0.6691            0.83s\n",
        "      1815           0.6690            0.83s\n",
        "      1816           0.6690            0.82s\n",
        "      1817           0.6689            0.82s\n",
        "      1818           0.6688            0.82s"
       ]
      },
      {
       "output_type": "stream",
       "stream": "stdout",
       "text": [
        "\n",
        "      1819           0.6688            0.81s\n",
        "      1820           0.6687            0.81s\n",
        "      1821           0.6687            0.80s\n",
        "      1822           0.6686            0.80s\n",
        "      1823           0.6686            0.79s\n",
        "      1824           0.6685            0.79s\n",
        "      1825           0.6685            0.78s\n",
        "      1826           0.6684            0.78s\n",
        "      1827           0.6684            0.77s\n",
        "      1828           0.6684            0.77s\n",
        "      1829           0.6683            0.76s\n",
        "      1830           0.6683            0.76s\n",
        "      1831           0.6683            0.76s\n",
        "      1832           0.6681            0.75s\n",
        "      1833           0.6681            0.75s"
       ]
      },
      {
       "output_type": "stream",
       "stream": "stdout",
       "text": [
        "\n",
        "      1834           0.6679            0.74s\n",
        "      1835           0.6678            0.74s\n",
        "      1836           0.6678            0.73s\n",
        "      1837           0.6677            0.73s\n",
        "      1838           0.6676            0.72s\n",
        "      1839           0.6676            0.72s\n",
        "      1840           0.6675            0.72s\n",
        "      1841           0.6674            0.71s\n",
        "      1842           0.6673            0.71s\n",
        "      1843           0.6673            0.70s\n",
        "      1844           0.6672            0.70s\n",
        "      1845           0.6672            0.69s\n",
        "      1846           0.6672            0.69s\n",
        "      1847           0.6671            0.68s"
       ]
      },
      {
       "output_type": "stream",
       "stream": "stdout",
       "text": [
        "\n",
        "      1848           0.6671            0.68s\n",
        "      1849           0.6671            0.67s\n",
        "      1850           0.6670            0.67s\n",
        "      1851           0.6670            0.66s\n",
        "      1852           0.6669            0.66s\n",
        "      1853           0.6669            0.66s\n",
        "      1854           0.6668            0.65s\n",
        "      1855           0.6667            0.65s\n",
        "      1856           0.6664            0.64s\n",
        "      1857           0.6663            0.64s\n",
        "      1858           0.6662            0.63s\n",
        "      1859           0.6661            0.63s\n",
        "      1860           0.6661            0.62s"
       ]
      },
      {
       "output_type": "stream",
       "stream": "stdout",
       "text": [
        "\n",
        "      1861           0.6660            0.62s\n",
        "      1862           0.6660            0.62s\n",
        "      1863           0.6659            0.61s\n",
        "      1864           0.6659            0.61s\n",
        "      1865           0.6657            0.60s\n",
        "      1866           0.6657            0.60s\n",
        "      1867           0.6656            0.59s"
       ]
      },
      {
       "output_type": "stream",
       "stream": "stdout",
       "text": [
        "\n",
        "      1868           0.6656            0.59s\n",
        "      1869           0.6655            0.59s\n",
        "      1870           0.6655            0.58s\n",
        "      1871           0.6653            0.58s\n",
        "      1872           0.6653            0.57s\n",
        "      1873           0.6653            0.57s\n",
        "      1874           0.6652            0.56s\n",
        "      1875           0.6652            0.56s\n",
        "      1876           0.6651            0.55s\n",
        "      1877           0.6651            0.55s\n",
        "      1878           0.6650            0.54s\n",
        "      1879           0.6650            0.54s\n",
        "      1880           0.6649            0.54s\n",
        "      1881           0.6648            0.53s\n",
        "      1882           0.6648            0.53s"
       ]
      },
      {
       "output_type": "stream",
       "stream": "stdout",
       "text": [
        "\n",
        "      1883           0.6647            0.52s\n",
        "      1884           0.6646            0.52s\n",
        "      1885           0.6644            0.51s\n",
        "      1886           0.6642            0.51s\n",
        "      1887           0.6642            0.50s\n",
        "      1888           0.6641            0.50s\n",
        "      1889           0.6639            0.50s\n",
        "      1890           0.6639            0.49s\n",
        "      1891           0.6638            0.49s\n",
        "      1892           0.6638            0.48s\n",
        "      1893           0.6637            0.48s\n",
        "      1894           0.6637            0.47s\n",
        "      1895           0.6636            0.47s\n",
        "      1896           0.6635            0.46s\n",
        "      1897           0.6634            0.46s\n",
        "      1898           0.6634            0.45s"
       ]
      },
      {
       "output_type": "stream",
       "stream": "stdout",
       "text": [
        "\n",
        "      1899           0.6633            0.45s\n",
        "      1900           0.6632            0.45s\n",
        "      1901           0.6631            0.44s\n",
        "      1902           0.6630            0.44s\n",
        "      1903           0.6630            0.43s\n",
        "      1904           0.6629            0.43s\n",
        "      1905           0.6628            0.42s\n",
        "      1906           0.6628            0.42s\n",
        "      1907           0.6627            0.41s\n",
        "      1908           0.6627            0.41s\n",
        "      1909           0.6626            0.41s\n",
        "      1910           0.6626            0.40s\n",
        "      1911           0.6625            0.40s"
       ]
      },
      {
       "output_type": "stream",
       "stream": "stdout",
       "text": [
        "\n",
        "      1912           0.6625            0.39s\n",
        "      1913           0.6624            0.39s\n",
        "      1914           0.6623            0.38s\n",
        "      1915           0.6622            0.38s\n",
        "      1916           0.6621            0.37s\n",
        "      1917           0.6621            0.37s\n",
        "      1918           0.6620            0.36s\n",
        "      1919           0.6620            0.36s\n",
        "      1920           0.6619            0.36s\n",
        "      1921           0.6618            0.35s\n",
        "      1922           0.6618            0.35s\n",
        "      1923           0.6617            0.34s\n",
        "      1924           0.6617            0.34s\n",
        "      1925           0.6616            0.33s"
       ]
      },
      {
       "output_type": "stream",
       "stream": "stdout",
       "text": [
        "\n",
        "      1926           0.6616            0.33s\n",
        "      1927           0.6615            0.32s\n",
        "      1928           0.6615            0.32s\n",
        "      1929           0.6614            0.32s\n",
        "      1930           0.6614            0.31s\n",
        "      1931           0.6613            0.31s\n",
        "      1932           0.6613            0.30s\n",
        "      1933           0.6612            0.30s\n",
        "      1934           0.6610            0.29s\n",
        "      1935           0.6610            0.29s\n",
        "      1936           0.6609            0.28s\n",
        "      1937           0.6609            0.28s\n",
        "      1938           0.6608            0.28s"
       ]
      },
      {
       "output_type": "stream",
       "stream": "stdout",
       "text": [
        "\n",
        "      1939           0.6608            0.27s\n",
        "      1940           0.6607            0.27s\n",
        "      1941           0.6606            0.26s\n",
        "      1942           0.6606            0.26s\n",
        "      1943           0.6605            0.25s\n",
        "      1944           0.6605            0.25s\n",
        "      1945           0.6604            0.24s\n",
        "      1946           0.6603            0.24s\n",
        "      1947           0.6603            0.24s"
       ]
      },
      {
       "output_type": "stream",
       "stream": "stdout",
       "text": [
        "\n",
        "      1948           0.6601            0.23s\n",
        "      1949           0.6600            0.23s\n",
        "      1950           0.6600            0.22s\n",
        "      1951           0.6599            0.22s\n",
        "      1952           0.6598            0.21s\n",
        "      1953           0.6598            0.21s\n",
        "      1954           0.6597            0.21s\n",
        "      1955           0.6596            0.20s\n",
        "      1956           0.6596            0.20s"
       ]
      },
      {
       "output_type": "stream",
       "stream": "stdout",
       "text": [
        "\n",
        "      1957           0.6596            0.19s\n",
        "      1958           0.6595            0.19s\n",
        "      1959           0.6595            0.18s\n",
        "      1960           0.6594            0.18s\n",
        "      1961           0.6593            0.17s\n",
        "      1962           0.6593            0.17s\n",
        "      1963           0.6592            0.17s\n",
        "      1964           0.6592            0.16s\n",
        "      1965           0.6591            0.16s\n",
        "      1966           0.6590            0.15s"
       ]
      },
      {
       "output_type": "stream",
       "stream": "stdout",
       "text": [
        "\n",
        "      1967           0.6589            0.15s\n",
        "      1968           0.6588            0.14s\n",
        "      1969           0.6587            0.14s\n",
        "      1970           0.6587            0.13s\n",
        "      1971           0.6586            0.13s\n",
        "      1972           0.6586            0.13s\n",
        "      1973           0.6585            0.12s\n",
        "      1974           0.6585            0.12s\n",
        "      1975           0.6584            0.11s\n",
        "      1976           0.6582            0.11s"
       ]
      },
      {
       "output_type": "stream",
       "stream": "stdout",
       "text": [
        "\n",
        "      1977           0.6582            0.10s\n",
        "      1978           0.6582            0.10s\n",
        "      1979           0.6581            0.09s\n",
        "      1980           0.6580            0.09s\n",
        "      1981           0.6580            0.09s\n",
        "      1982           0.6580            0.08s\n",
        "      1983           0.6579            0.08s\n",
        "      1984           0.6578            0.07s\n",
        "      1985           0.6578            0.07s\n",
        "      1986           0.6577            0.06s"
       ]
      },
      {
       "output_type": "stream",
       "stream": "stdout",
       "text": [
        "\n",
        "      1987           0.6576            0.06s\n",
        "      1988           0.6576            0.05s\n",
        "      1989           0.6575            0.05s\n",
        "      1990           0.6574            0.04s\n",
        "      1991           0.6573            0.04s\n",
        "      1992           0.6573            0.04s\n",
        "      1993           0.6572            0.03s\n",
        "      1994           0.6571            0.03s\n",
        "      1995           0.6571            0.02s\n",
        "      1996           0.6570            0.02s"
       ]
      },
      {
       "output_type": "stream",
       "stream": "stdout",
       "text": [
        "\n",
        "      1997           0.6570            0.01s\n",
        "      1998           0.6569            0.01s\n",
        "      1999           0.6569            0.00s\n",
        "      2000           0.6568            0.00s\n"
       ]
      },
      {
       "metadata": {},
       "output_type": "pyout",
       "prompt_number": 23,
       "text": [
        "GradientBoostingRegressor(alpha=0.9, init=None, learning_rate=0.01, loss='ls',\n",
        "             max_depth=3, max_features='sqrt', max_leaf_nodes=None,\n",
        "             min_samples_leaf=1, min_samples_split=2, n_estimators=2000,\n",
        "             random_state=None, subsample=1.0, verbose=5, warm_start=False)"
       ]
      }
     ],
     "prompt_number": 23
    },
    {
     "cell_type": "code",
     "collapsed": false,
     "input": [
      "gb.oob_score_"
     ],
     "language": "python",
     "metadata": {},
     "outputs": [
      {
       "output_type": "stream",
       "stream": "stderr",
       "text": [
        "/home/ethan/.local/lib/python2.7/site-packages/sklearn/ensemble/gradient_boosting.py:944: DeprecationWarning: The oob_score_ argument is replaced by oob_improvement_ as of version 0.14 and will be removed in 0.16.\n",
        "  DeprecationWarning)\n"
       ]
      },
      {
       "ename": "ValueError",
       "evalue": "Estimator not fitted, call `fit` before `oob_score_`.",
       "output_type": "pyerr",
       "traceback": [
        "\u001b[1;31m---------------------------------------------------------------------------\u001b[0m\n\u001b[1;31mValueError\u001b[0m                                Traceback (most recent call last)",
        "\u001b[1;32m<ipython-input-26-9352b27f0119>\u001b[0m in \u001b[0;36m<module>\u001b[1;34m()\u001b[0m\n\u001b[1;32m----> 1\u001b[1;33m \u001b[0mgb\u001b[0m\u001b[1;33m.\u001b[0m\u001b[0moob_score_\u001b[0m\u001b[1;33m\u001b[0m\u001b[0m\n\u001b[0m",
        "\u001b[1;32m/home/ethan/.local/lib/python2.7/site-packages/sklearn/ensemble/gradient_boosting.pyc\u001b[0m in \u001b[0;36moob_score_\u001b[1;34m(self)\u001b[0m\n\u001b[0;32m    946\u001b[0m             \u001b[1;32mreturn\u001b[0m \u001b[0mself\u001b[0m\u001b[1;33m.\u001b[0m\u001b[0m_oob_score_\u001b[0m\u001b[1;33m\u001b[0m\u001b[0m\n\u001b[0;32m    947\u001b[0m         \u001b[1;32mexcept\u001b[0m \u001b[0mAttributeError\u001b[0m\u001b[1;33m:\u001b[0m\u001b[1;33m\u001b[0m\u001b[0m\n\u001b[1;32m--> 948\u001b[1;33m             raise ValueError(\"Estimator not fitted, \"\n\u001b[0m\u001b[0;32m    949\u001b[0m                              \"call `fit` before `oob_score_`.\")\n\u001b[0;32m    950\u001b[0m \u001b[1;33m\u001b[0m\u001b[0m\n",
        "\u001b[1;31mValueError\u001b[0m: Estimator not fitted, call `fit` before `oob_score_`."
       ]
      }
     ],
     "prompt_number": 26
    },
    {
     "cell_type": "code",
     "collapsed": false,
     "input": [],
     "language": "python",
     "metadata": {},
     "outputs": []
    }
   ],
   "metadata": {}
  }
 ]
}