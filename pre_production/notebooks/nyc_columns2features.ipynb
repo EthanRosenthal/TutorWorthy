{
 "metadata": {
  "name": "",
  "signature": "sha256:2f99003ab77194487f731a4d6511083d4c6131ca114a2d7e6f89cf90fbd40fdc"
 },
 "nbformat": 3,
 "nbformat_minor": 0,
 "worksheets": [
  {
   "cells": [
    {
     "cell_type": "heading",
     "level": 1,
     "metadata": {},
     "source": [
      "Import modules and data"
     ]
    },
    {
     "cell_type": "code",
     "collapsed": false,
     "input": [
      "%matplotlib inline\n",
      "import matplotlib\n",
      "import matplotlib.pyplot as plt\n",
      "import numpy as np\n",
      "import pandas as pd\n",
      "from pandas import DataFrame, Series\n",
      "import seaborn as sns\n",
      "import itertools\n",
      "import json\n",
      "import re\n",
      "import sklearn\n",
      "\n",
      "from sklearn import cross_validation\n",
      "from sklearn import tree\n",
      "from sklearn import svm\n",
      "from sklearn import ensemble\n",
      "from sklearn import neighbors\n",
      "from sklearn import linear_model\n",
      "from sklearn import metrics\n",
      "from sklearn import preprocessing\n",
      "\n",
      "sns.set()\n",
      "matplotlib.rcParams['savefig.dpi'] = 1.5 * matplotlib.rcParams['savefig.dpi']"
     ],
     "language": "python",
     "metadata": {},
     "outputs": [],
     "prompt_number": 1
    },
    {
     "cell_type": "code",
     "collapsed": false,
     "input": [
      "cd ../scripts/"
     ],
     "language": "python",
     "metadata": {},
     "outputs": [
      {
       "output_type": "stream",
       "stream": "stdout",
       "text": [
        "/home/ethan/Documents/insight/scripts\n"
       ]
      }
     ],
     "prompt_number": 2
    },
    {
     "cell_type": "code",
     "collapsed": false,
     "input": [
      "from features import features"
     ],
     "language": "python",
     "metadata": {},
     "outputs": [],
     "prompt_number": 3
    },
    {
     "cell_type": "code",
     "collapsed": false,
     "input": [
      "cd ../data"
     ],
     "language": "python",
     "metadata": {},
     "outputs": [
      {
       "output_type": "stream",
       "stream": "stdout",
       "text": [
        "/home/ethan/Documents/insight/data\n"
       ]
      }
     ],
     "prompt_number": 4
    },
    {
     "cell_type": "code",
     "collapsed": false,
     "input": [
      "path = 'nyc_20150119.txt'\n",
      "d = features(path)\n",
      "d.all_features()\n",
      "d.df.head()"
     ],
     "language": "python",
     "metadata": {},
     "outputs": [
      {
       "ename": "TypeError",
       "evalue": "cannot concatenate 'str' and 'list' objects",
       "output_type": "pyerr",
       "traceback": [
        "\u001b[1;31m---------------------------------------------------------------------------\u001b[0m\n\u001b[1;31mTypeError\u001b[0m                                 Traceback (most recent call last)",
        "\u001b[1;32m<ipython-input-5-7e5802a3fd34>\u001b[0m in \u001b[0;36m<module>\u001b[1;34m()\u001b[0m\n\u001b[0;32m      1\u001b[0m \u001b[0mpath\u001b[0m \u001b[1;33m=\u001b[0m \u001b[1;34m'nyc_20150119.txt'\u001b[0m\u001b[1;33m\u001b[0m\u001b[0m\n\u001b[0;32m      2\u001b[0m \u001b[0md\u001b[0m \u001b[1;33m=\u001b[0m \u001b[0mfeatures\u001b[0m\u001b[1;33m(\u001b[0m\u001b[0mpath\u001b[0m\u001b[1;33m)\u001b[0m\u001b[1;33m\u001b[0m\u001b[0m\n\u001b[1;32m----> 3\u001b[1;33m \u001b[0md\u001b[0m\u001b[1;33m.\u001b[0m\u001b[0mall_features\u001b[0m\u001b[1;33m(\u001b[0m\u001b[1;33m)\u001b[0m\u001b[1;33m\u001b[0m\u001b[0m\n\u001b[0m\u001b[0;32m      4\u001b[0m \u001b[0md\u001b[0m\u001b[1;33m.\u001b[0m\u001b[0mdf\u001b[0m\u001b[1;33m.\u001b[0m\u001b[0mhead\u001b[0m\u001b[1;33m(\u001b[0m\u001b[1;33m)\u001b[0m\u001b[1;33m\u001b[0m\u001b[0m\n",
        "\u001b[1;32m/home/ethan/Documents/insight/data/features.pyc\u001b[0m in \u001b[0;36mall_features\u001b[1;34m(self)\u001b[0m\n",
        "\u001b[1;32m/home/ethan/Documents/insight/data/features.pyc\u001b[0m in \u001b[0;36mstudent_reviews_to_features\u001b[1;34m(self)\u001b[0m\n",
        "\u001b[1;32m/usr/local/lib/python2.7/dist-packages/pandas/core/series.pyc\u001b[0m in \u001b[0;36mapply\u001b[1;34m(self, func, convert_dtype, args, **kwds)\u001b[0m\n\u001b[0;32m   2049\u001b[0m             \u001b[0mvalues\u001b[0m \u001b[1;33m=\u001b[0m \u001b[0mlib\u001b[0m\u001b[1;33m.\u001b[0m\u001b[0mmap_infer\u001b[0m\u001b[1;33m(\u001b[0m\u001b[0mvalues\u001b[0m\u001b[1;33m,\u001b[0m \u001b[0mlib\u001b[0m\u001b[1;33m.\u001b[0m\u001b[0mTimestamp\u001b[0m\u001b[1;33m)\u001b[0m\u001b[1;33m\u001b[0m\u001b[0m\n\u001b[0;32m   2050\u001b[0m \u001b[1;33m\u001b[0m\u001b[0m\n\u001b[1;32m-> 2051\u001b[1;33m         \u001b[0mmapped\u001b[0m \u001b[1;33m=\u001b[0m \u001b[0mlib\u001b[0m\u001b[1;33m.\u001b[0m\u001b[0mmap_infer\u001b[0m\u001b[1;33m(\u001b[0m\u001b[0mvalues\u001b[0m\u001b[1;33m,\u001b[0m \u001b[0mf\u001b[0m\u001b[1;33m,\u001b[0m \u001b[0mconvert\u001b[0m\u001b[1;33m=\u001b[0m\u001b[0mconvert_dtype\u001b[0m\u001b[1;33m)\u001b[0m\u001b[1;33m\u001b[0m\u001b[0m\n\u001b[0m\u001b[0;32m   2052\u001b[0m         \u001b[1;32mif\u001b[0m \u001b[0mlen\u001b[0m\u001b[1;33m(\u001b[0m\u001b[0mmapped\u001b[0m\u001b[1;33m)\u001b[0m \u001b[1;32mand\u001b[0m \u001b[0misinstance\u001b[0m\u001b[1;33m(\u001b[0m\u001b[0mmapped\u001b[0m\u001b[1;33m[\u001b[0m\u001b[1;36m0\u001b[0m\u001b[1;33m]\u001b[0m\u001b[1;33m,\u001b[0m \u001b[0mSeries\u001b[0m\u001b[1;33m)\u001b[0m\u001b[1;33m:\u001b[0m\u001b[1;33m\u001b[0m\u001b[0m\n\u001b[0;32m   2053\u001b[0m             \u001b[1;32mfrom\u001b[0m \u001b[0mpandas\u001b[0m\u001b[1;33m.\u001b[0m\u001b[0mcore\u001b[0m\u001b[1;33m.\u001b[0m\u001b[0mframe\u001b[0m \u001b[1;32mimport\u001b[0m \u001b[0mDataFrame\u001b[0m\u001b[1;33m\u001b[0m\u001b[0m\n",
        "\u001b[1;32m/usr/local/lib/python2.7/dist-packages/pandas/lib.so\u001b[0m in \u001b[0;36mpandas.lib.map_infer (pandas/lib.c:56671)\u001b[1;34m()\u001b[0m\n",
        "\u001b[1;32m/home/ethan/Documents/insight/data/features.pyc\u001b[0m in \u001b[0;36m<lambda>\u001b[1;34m(x)\u001b[0m\n",
        "\u001b[1;32m/home/ethan/Documents/insight/data/features.pyc\u001b[0m in \u001b[0;36mparse_date\u001b[1;34m(review_list, numbers_regex)\u001b[0m\n",
        "\u001b[1;31mTypeError\u001b[0m: cannot concatenate 'str' and 'list' objects"
       ]
      }
     ],
     "prompt_number": 5
    },
    {
     "cell_type": "code",
     "collapsed": false,
     "input": [],
     "language": "python",
     "metadata": {},
     "outputs": []
    },
    {
     "cell_type": "heading",
     "level": 1,
     "metadata": {},
     "source": [
      "Cleanup missing features"
     ]
    },
    {
     "cell_type": "heading",
     "level": 2,
     "metadata": {},
     "source": [
      "Remove missing zip codes"
     ]
    },
    {
     "cell_type": "markdown",
     "metadata": {},
     "source": [
      "Zip codes are scraped through a try/except statement. If there is no zip code available, then both the zip code and radius are returned as ```None```."
     ]
    },
    {
     "cell_type": "code",
     "collapsed": false,
     "input": [
      "d.df[d.df['zip_code'].apply(lambda x: type(x))!=unicode]['zip_code']"
     ],
     "language": "python",
     "metadata": {},
     "outputs": []
    },
    {
     "cell_type": "markdown",
     "metadata": {},
     "source": [
      "Only one row missing a zip code - remove it."
     ]
    },
    {
     "cell_type": "code",
     "collapsed": false,
     "input": [
      "d.df.drop(3790, inplace=True)"
     ],
     "language": "python",
     "metadata": {},
     "outputs": [],
     "prompt_number": 7
    },
    {
     "cell_type": "code",
     "collapsed": false,
     "input": [
      "import pyzipcode\n",
      "\n",
      "zcdb = pyzipcode.ZipCodeDatabase()\n",
      "\n",
      "def get_lat(row, zcdb):\n",
      "    try:\n",
      "        return zcdb[int(row)].latitude\n",
      "    except:\n",
      "        return False\n",
      "\n",
      "test = d.df['zip_code'].apply(lambda x: get_lat(x, zcdb))\n",
      "test.name = 'latitude'\n",
      "test = pd.concat([test, d.df['zip_code']], axis=1)"
     ],
     "language": "python",
     "metadata": {},
     "outputs": [],
     "prompt_number": 8
    },
    {
     "cell_type": "code",
     "collapsed": false,
     "input": [
      "test[test['latitude']==False]['zip_code'].value_counts()"
     ],
     "language": "python",
     "metadata": {},
     "outputs": [
      {
       "metadata": {},
       "output_type": "pyout",
       "prompt_number": 9,
       "text": [
        "07302    35\n",
        "07470    32\n",
        "10065    29\n",
        "06902    29\n",
        "07042    27\n",
        "07003    26\n",
        "08816    24\n",
        "07030    23\n",
        "08904    21\n",
        "07960    20\n",
        "08854    20\n",
        "07306    20\n",
        "08817    20\n",
        "08873    20\n",
        "07410    19\n",
        "...\n",
        "07423    1\n",
        "07422    1\n",
        "07702    1\n",
        "07501    1\n",
        "07737    1\n",
        "07439    1\n",
        "07660    1\n",
        "06831    1\n",
        "07606    1\n",
        "07727    1\n",
        "06820    1\n",
        "07927    1\n",
        "07205    1\n",
        "08880    1\n",
        "08553    1\n",
        "Length: 283, dtype: int64"
       ]
      }
     ],
     "prompt_number": 9
    },
    {
     "cell_type": "markdown",
     "metadata": {},
     "source": [
      "Looks like there are a lot of missing zip codes. I went [here](http://mappinghacks.com/data/) and downloaded zipcode.zip. I'll import the zipcode.csv file and see if it has some more zip codes than pyzipcode."
     ]
    },
    {
     "cell_type": "code",
     "collapsed": false,
     "input": [
      "zips = pd.read_csv('zipcode/zipcode.csv', dtype={'zip':'str'})\n",
      "zips.head()"
     ],
     "language": "python",
     "metadata": {},
     "outputs": [
      {
       "html": [
        "<div style=\"max-height:1000px;max-width:1500px;overflow:auto;\">\n",
        "<table border=\"1\" class=\"dataframe\">\n",
        "  <thead>\n",
        "    <tr style=\"text-align: right;\">\n",
        "      <th></th>\n",
        "      <th>zip</th>\n",
        "      <th>city</th>\n",
        "      <th>state</th>\n",
        "      <th>latitude</th>\n",
        "      <th>longitude</th>\n",
        "      <th>timezone</th>\n",
        "      <th>dst</th>\n",
        "    </tr>\n",
        "  </thead>\n",
        "  <tbody>\n",
        "    <tr>\n",
        "      <th>0</th>\n",
        "      <td> 00210</td>\n",
        "      <td> Portsmouth</td>\n",
        "      <td> NH</td>\n",
        "      <td> 43.005895</td>\n",
        "      <td>-71.013202</td>\n",
        "      <td>-5</td>\n",
        "      <td> 1</td>\n",
        "    </tr>\n",
        "    <tr>\n",
        "      <th>1</th>\n",
        "      <td> 00211</td>\n",
        "      <td> Portsmouth</td>\n",
        "      <td> NH</td>\n",
        "      <td> 43.005895</td>\n",
        "      <td>-71.013202</td>\n",
        "      <td>-5</td>\n",
        "      <td> 1</td>\n",
        "    </tr>\n",
        "    <tr>\n",
        "      <th>2</th>\n",
        "      <td> 00212</td>\n",
        "      <td> Portsmouth</td>\n",
        "      <td> NH</td>\n",
        "      <td> 43.005895</td>\n",
        "      <td>-71.013202</td>\n",
        "      <td>-5</td>\n",
        "      <td> 1</td>\n",
        "    </tr>\n",
        "    <tr>\n",
        "      <th>3</th>\n",
        "      <td> 00213</td>\n",
        "      <td> Portsmouth</td>\n",
        "      <td> NH</td>\n",
        "      <td> 43.005895</td>\n",
        "      <td>-71.013202</td>\n",
        "      <td>-5</td>\n",
        "      <td> 1</td>\n",
        "    </tr>\n",
        "    <tr>\n",
        "      <th>4</th>\n",
        "      <td> 00214</td>\n",
        "      <td> Portsmouth</td>\n",
        "      <td> NH</td>\n",
        "      <td> 43.005895</td>\n",
        "      <td>-71.013202</td>\n",
        "      <td>-5</td>\n",
        "      <td> 1</td>\n",
        "    </tr>\n",
        "  </tbody>\n",
        "</table>\n",
        "</div>"
       ],
       "metadata": {},
       "output_type": "pyout",
       "prompt_number": 10,
       "text": [
        "     zip        city state   latitude  longitude  timezone  dst\n",
        "0  00210  Portsmouth    NH  43.005895 -71.013202        -5    1\n",
        "1  00211  Portsmouth    NH  43.005895 -71.013202        -5    1\n",
        "2  00212  Portsmouth    NH  43.005895 -71.013202        -5    1\n",
        "3  00213  Portsmouth    NH  43.005895 -71.013202        -5    1\n",
        "4  00214  Portsmouth    NH  43.005895 -71.013202        -5    1"
       ]
      }
     ],
     "prompt_number": 10
    },
    {
     "cell_type": "code",
     "collapsed": false,
     "input": [
      "# Redefine above and try again\n",
      "\n",
      "def get_lat(row, zips):\n",
      "    try:\n",
      "        lat = zips[zips['zip']==row]['latitude'].values[0]\n",
      "        return lat\n",
      "    except:\n",
      "        return False\n",
      "\n",
      "test = d.df['zip_code']\n",
      "test = test.apply(lambda x: get_lat(x, zips))\n",
      "test.name = 'latitude'\n",
      "test = pd.concat([test, d.df['zip_code']], axis=1)\n",
      "test[test['latitude']==False]['zip_code'].value_counts()"
     ],
     "language": "python",
     "metadata": {},
     "outputs": [
      {
       "metadata": {},
       "output_type": "pyout",
       "prompt_number": 11,
       "text": [
        "10065    29\n",
        "10075    16\n",
        "dtype: int64"
       ]
      }
     ],
     "prompt_number": 11
    },
    {
     "cell_type": "markdown",
     "metadata": {},
     "source": [
      "Wow, much better! We see that there's only two missing zip codes. Interestingly, if you google '10065', it turns out that it's (arguably) the priciest zip code in the US as defined by some Forbes metric. Since there's only two zip codes not found in the database, I can look these up by hand. [http://www.maptechnica.com/](http://www.maptechnica.com) allows you to look up zip codes to get latitude/longitude. For the missing zip codes, I find:\n",
      "* 10065: [40.76490050000000, -73.96243050000000]\n",
      "* 10075: [40.77355900000000, -73.95606900000000]"
     ]
    },
    {
     "cell_type": "code",
     "collapsed": false,
     "input": [
      "def get_lat_lon(row, zips):\n",
      "    try:\n",
      "        loc = zips[zips['zip']==row]\n",
      "        lat = loc['latitude'].values[0]\n",
      "        lon = loc['longitude'].values[0]\n",
      "        return Series({'lat':lat, 'lon':lon})\n",
      "    except:\n",
      "        return Series({'lat':False, 'lon':False})\n",
      "\n",
      "latlon = d.df['zip_code']\n",
      "latlon = latlon.apply(lambda x: get_lat_lon(x, zips))\n",
      "d.df = pd.concat([d.df, latlon], axis=1)\n",
      "d.df.drop('zip_code', inplace=True, axis=1)\n",
      "d.df.head()"
     ],
     "language": "python",
     "metadata": {},
     "outputs": [
      {
       "html": [
        "<div style=\"max-height:1000px;max-width:1500px;overflow:auto;\">\n",
        "<table border=\"1\" class=\"dataframe\">\n",
        "  <thead>\n",
        "    <tr style=\"text-align: right;\">\n",
        "      <th></th>\n",
        "      <th>education</th>\n",
        "      <th>hourly_rate</th>\n",
        "      <th>linked_subjects</th>\n",
        "      <th>name</th>\n",
        "      <th>number_of_ratings</th>\n",
        "      <th>profile_picture</th>\n",
        "      <th>qual_subjects</th>\n",
        "      <th>rating</th>\n",
        "      <th>raw_subjects</th>\n",
        "      <th>zip_radius</th>\n",
        "      <th>...</th>\n",
        "      <th>has_rating</th>\n",
        "      <th>Bachelors</th>\n",
        "      <th>J.D.</th>\n",
        "      <th>MBA</th>\n",
        "      <th>MD</th>\n",
        "      <th>MEd</th>\n",
        "      <th>Masters</th>\n",
        "      <th>PhD</th>\n",
        "      <th>lat</th>\n",
        "      <th>lon</th>\n",
        "    </tr>\n",
        "  </thead>\n",
        "  <tbody>\n",
        "    <tr>\n",
        "      <th>0</th>\n",
        "      <td> {u'Massachusets Institute of Technology': [u'E...</td>\n",
        "      <td> 120</td>\n",
        "      <td> {u'Sports/Recreation': [], u'Business': [], u'...</td>\n",
        "      <td>  Malik K.</td>\n",
        "      <td>   7</td>\n",
        "      <td> True</td>\n",
        "      <td> {u'Sports/Recreation': [], u'Business': [u'Mic...</td>\n",
        "      <td> 5</td>\n",
        "      <td> {u'Sports/Recreation': [u'Martial Arts'], u'Bu...</td>\n",
        "      <td> 10</td>\n",
        "      <td>...</td>\n",
        "      <td> True</td>\n",
        "      <td> False</td>\n",
        "      <td> False</td>\n",
        "      <td>  True</td>\n",
        "      <td> False</td>\n",
        "      <td> False</td>\n",
        "      <td> False</td>\n",
        "      <td> False</td>\n",
        "      <td> 40.818151</td>\n",
        "      <td>-73.94351</td>\n",
        "    </tr>\n",
        "    <tr>\n",
        "      <th>1</th>\n",
        "      <td> {u'Universidad de Barcelona': [u'MEd'], u'Inst...</td>\n",
        "      <td> 120</td>\n",
        "      <td> {u'Homeschool': [], u'Language': [], u'Corpora...</td>\n",
        "      <td>  Pablo E.</td>\n",
        "      <td>  30</td>\n",
        "      <td> True</td>\n",
        "      <td> {u'Homeschool': [], u'Language': [], u'Corpora...</td>\n",
        "      <td> 5</td>\n",
        "      <td> {u'Homeschool': [u'Spanish'], u'Language': [u'...</td>\n",
        "      <td>  3</td>\n",
        "      <td>...</td>\n",
        "      <td> True</td>\n",
        "      <td> False</td>\n",
        "      <td> False</td>\n",
        "      <td>  True</td>\n",
        "      <td> False</td>\n",
        "      <td>  True</td>\n",
        "      <td> False</td>\n",
        "      <td> False</td>\n",
        "      <td> 40.776777</td>\n",
        "      <td>-73.95410</td>\n",
        "    </tr>\n",
        "    <tr>\n",
        "      <th>2</th>\n",
        "      <td> {u'Yale College': [u'History'], u'Columbia Uni...</td>\n",
        "      <td> 140</td>\n",
        "      <td> {u'Test Preparation': [], u'Business': [], u'C...</td>\n",
        "      <td> Horace G.</td>\n",
        "      <td>  66</td>\n",
        "      <td> True</td>\n",
        "      <td> {u'Test Preparation': [u'ACT English, ', u'ACT...</td>\n",
        "      <td> 5</td>\n",
        "      <td> {u'Test Preparation': [u'ACT English', u'ACT M...</td>\n",
        "      <td> 40</td>\n",
        "      <td>...</td>\n",
        "      <td> True</td>\n",
        "      <td>  True</td>\n",
        "      <td> False</td>\n",
        "      <td> False</td>\n",
        "      <td> False</td>\n",
        "      <td> False</td>\n",
        "      <td> False</td>\n",
        "      <td> False</td>\n",
        "      <td> 40.765714</td>\n",
        "      <td>-73.98560</td>\n",
        "    </tr>\n",
        "    <tr>\n",
        "      <th>3</th>\n",
        "      <td>                           {u'no_university': u''}</td>\n",
        "      <td> 150</td>\n",
        "      <td>                         {u'Test Preparation': []}</td>\n",
        "      <td>     JD M.</td>\n",
        "      <td> 106</td>\n",
        "      <td> True</td>\n",
        "      <td>                         {u'Test Preparation': []}</td>\n",
        "      <td> 5</td>\n",
        "      <td>                  {u'Test Preparation': [u'LSAT']}</td>\n",
        "      <td> 40</td>\n",
        "      <td>...</td>\n",
        "      <td> True</td>\n",
        "      <td>  True</td>\n",
        "      <td> False</td>\n",
        "      <td> False</td>\n",
        "      <td> False</td>\n",
        "      <td> False</td>\n",
        "      <td> False</td>\n",
        "      <td> False</td>\n",
        "      <td> 40.759511</td>\n",
        "      <td>-73.99019</td>\n",
        "    </tr>\n",
        "    <tr>\n",
        "      <th>4</th>\n",
        "      <td> {u'University of California at Santa Barbara':...</td>\n",
        "      <td>  60</td>\n",
        "      <td> {u'English': [], u'Homeschool': [], u'Elementa...</td>\n",
        "      <td> Cheryl F.</td>\n",
        "      <td>  20</td>\n",
        "      <td> True</td>\n",
        "      <td> {u'English': [u'English, ', u'Literature, ', u...</td>\n",
        "      <td> 5</td>\n",
        "      <td> {u'English': [u'English', u'ESL/ESOL', u'Gramm...</td>\n",
        "      <td> 40</td>\n",
        "      <td>...</td>\n",
        "      <td> True</td>\n",
        "      <td>  True</td>\n",
        "      <td> False</td>\n",
        "      <td> False</td>\n",
        "      <td> False</td>\n",
        "      <td> False</td>\n",
        "      <td> False</td>\n",
        "      <td> False</td>\n",
        "      <td> 40.725960</td>\n",
        "      <td>-73.99834</td>\n",
        "    </tr>\n",
        "  </tbody>\n",
        "</table>\n",
        "<p>5 rows \u00d7 283 columns</p>\n",
        "</div>"
       ],
       "metadata": {},
       "output_type": "pyout",
       "prompt_number": 12,
       "text": [
        "                                           education  hourly_rate  \\\n",
        "0  {u'Massachusets Institute of Technology': [u'E...          120   \n",
        "1  {u'Universidad de Barcelona': [u'MEd'], u'Inst...          120   \n",
        "2  {u'Yale College': [u'History'], u'Columbia Uni...          140   \n",
        "3                            {u'no_university': u''}          150   \n",
        "4  {u'University of California at Santa Barbara':...           60   \n",
        "\n",
        "                                     linked_subjects       name  \\\n",
        "0  {u'Sports/Recreation': [], u'Business': [], u'...   Malik K.   \n",
        "1  {u'Homeschool': [], u'Language': [], u'Corpora...   Pablo E.   \n",
        "2  {u'Test Preparation': [], u'Business': [], u'C...  Horace G.   \n",
        "3                          {u'Test Preparation': []}      JD M.   \n",
        "4  {u'English': [], u'Homeschool': [], u'Elementa...  Cheryl F.   \n",
        "\n",
        "   number_of_ratings profile_picture  \\\n",
        "0                  7            True   \n",
        "1                 30            True   \n",
        "2                 66            True   \n",
        "3                106            True   \n",
        "4                 20            True   \n",
        "\n",
        "                                       qual_subjects  rating  \\\n",
        "0  {u'Sports/Recreation': [], u'Business': [u'Mic...       5   \n",
        "1  {u'Homeschool': [], u'Language': [], u'Corpora...       5   \n",
        "2  {u'Test Preparation': [u'ACT English, ', u'ACT...       5   \n",
        "3                          {u'Test Preparation': []}       5   \n",
        "4  {u'English': [u'English, ', u'Literature, ', u...       5   \n",
        "\n",
        "                                        raw_subjects zip_radius    ...     \\\n",
        "0  {u'Sports/Recreation': [u'Martial Arts'], u'Bu...         10    ...      \n",
        "1  {u'Homeschool': [u'Spanish'], u'Language': [u'...          3    ...      \n",
        "2  {u'Test Preparation': [u'ACT English', u'ACT M...         40    ...      \n",
        "3                   {u'Test Preparation': [u'LSAT']}         40    ...      \n",
        "4  {u'English': [u'English', u'ESL/ESOL', u'Gramm...         40    ...      \n",
        "\n",
        "  has_rating Bachelors   J.D.    MBA     MD    MEd Masters    PhD        lat  \\\n",
        "0       True     False  False   True  False  False   False  False  40.818151   \n",
        "1       True     False  False   True  False   True   False  False  40.776777   \n",
        "2       True      True  False  False  False  False   False  False  40.765714   \n",
        "3       True      True  False  False  False  False   False  False  40.759511   \n",
        "4       True      True  False  False  False  False   False  False  40.725960   \n",
        "\n",
        "        lon  \n",
        "0 -73.94351  \n",
        "1 -73.95410  \n",
        "2 -73.98560  \n",
        "3 -73.99019  \n",
        "4 -73.99834  \n",
        "\n",
        "[5 rows x 283 columns]"
       ]
      }
     ],
     "prompt_number": 12
    },
    {
     "cell_type": "heading",
     "level": 2,
     "metadata": {},
     "source": [
      "Deal with missing ratings"
     ]
    },
    {
     "cell_type": "code",
     "collapsed": false,
     "input": [
      "d.df['has_rating'].value_counts()"
     ],
     "language": "python",
     "metadata": {},
     "outputs": [
      {
       "metadata": {},
       "output_type": "pyout",
       "prompt_number": 8,
       "text": [
        "False    3846\n",
        "True     1979\n",
        "dtype: int64"
       ]
      }
     ],
     "prompt_number": 8
    },
    {
     "cell_type": "markdown",
     "metadata": {},
     "source": [
      "We'll try replacing missing ratings and number of ratings with their average values"
     ]
    },
    {
     "cell_type": "code",
     "collapsed": false,
     "input": [
      "d.df['rating'].fillna(value=d.df['rating'].mean(), inplace='true')"
     ],
     "language": "python",
     "metadata": {},
     "outputs": [],
     "prompt_number": 9
    },
    {
     "cell_type": "heading",
     "level": 2,
     "metadata": {},
     "source": [
      "Interaction features"
     ]
    },
    {
     "cell_type": "code",
     "collapsed": false,
     "input": [
      "d.df['rating_x_number_of_ratings'] = d.df['rating']*d.df['number_of_ratings']"
     ],
     "language": "python",
     "metadata": {},
     "outputs": [],
     "prompt_number": 10
    },
    {
     "cell_type": "heading",
     "level": 2,
     "metadata": {},
     "source": [
      "Get rid of rare subject columns"
     ]
    },
    {
     "cell_type": "code",
     "collapsed": false,
     "input": [
      "subject_sort = d.df[d.df[d.possible_subjects]==True][d.possible_subjects].sum()\n",
      "subject_sort.sort()\n",
      "print subject_sort.describe()\n",
      "subject_sort.plot()"
     ],
     "language": "python",
     "metadata": {},
     "outputs": [
      {
       "output_type": "stream",
       "stream": "stdout",
       "text": [
        "count     260.000000\n",
        "mean      285.811538\n",
        "std       467.569910\n",
        "min         1.000000\n",
        "25%        32.750000\n",
        "50%        97.500000\n",
        "75%       289.250000\n",
        "max      2762.000000\n",
        "dtype: float64\n"
       ]
      },
      {
       "metadata": {},
       "output_type": "pyout",
       "prompt_number": 11,
       "text": [
        "<matplotlib.axes._subplots.AxesSubplot at 0x7fd3eba73750>"
       ]
      },
      {
       "metadata": {},
       "output_type": "display_data",
       "png": "[encoded data removed]",
       "text": [
        "<matplotlib.figure.Figure at 0x7fd3eba99890>"
       ]
      }
     ],
     "prompt_number": 11
    },
    {
     "cell_type": "markdown",
     "metadata": {},
     "source": [
      "We'll get rid of subjects for which less than 10% of tutors actually tutor"
     ]
    },
    {
     "cell_type": "code",
     "collapsed": false,
     "input": [
      "print subject_sort[subject_sort<60]"
     ],
     "language": "python",
     "metadata": {},
     "outputs": [
      {
       "output_type": "stream",
       "stream": "stdout",
       "text": [
        "Vietnamese    1\n",
        "MTLE          1\n",
        "Bulgarian     1\n",
        "Braille       1\n",
        "Czech         1\n",
        "Indonesian    2\n",
        "Thai          3\n",
        "STAAR         3\n",
        "Hungarian     3\n",
        "CLAST         4\n",
        "Tango         4\n",
        "AFOQT         4\n",
        "Water Polo    5\n",
        "SOL           5\n",
        "Dutch         5\n",
        "...\n",
        "Japanese              45\n",
        "Portuguese            48\n",
        "Martial Arts          48\n",
        "Arabic                49\n",
        "Music Production      50\n",
        "Latin                 51\n",
        "C                     52\n",
        "Biostatistics         52\n",
        "Desktop Publishing    52\n",
        "MATLAB                53\n",
        "Zoology               54\n",
        "Nursing               54\n",
        "Botany                55\n",
        "Track & Field         58\n",
        "Bodybuilding          59\n",
        "Length: 101, dtype: float64\n"
       ]
      }
     ],
     "prompt_number": 12
    },
    {
     "cell_type": "code",
     "collapsed": false,
     "input": [
      "d.df.drop(labels=subject_sort[subject_sort<60].index.tolist(), axis=1, inplace=True)"
     ],
     "language": "python",
     "metadata": {},
     "outputs": [],
     "prompt_number": 13
    },
    {
     "cell_type": "heading",
     "level": 2,
     "metadata": {},
     "source": [
      "Prepare for input to sklearn"
     ]
    },
    {
     "cell_type": "code",
     "collapsed": false,
     "input": [
      "print [x for x in d.df.columns if x not in d.possible_subjects]"
     ],
     "language": "python",
     "metadata": {},
     "outputs": [
      {
       "output_type": "stream",
       "stream": "stdout",
       "text": [
        "[u'education', u'hourly_rate', u'linked_subjects', u'name', u'number_of_ratings', u'profile_picture', u'qual_subjects', u'rating', u'raw_subjects', u'zip_code', u'zip_radius', 'just_subjects', 'badge_hours', 'has_badge', 'has_rating', 'Bachelors', 'J.D.', 'MBA', 'MD', 'MEd', 'Masters', 'PhD', 'rating_x_number_of_ratings']\n"
       ]
      }
     ],
     "prompt_number": 14
    },
    {
     "cell_type": "code",
     "collapsed": false,
     "input": [
      "usable_features = ['number_of_ratings', 'profile_picture', \\\n",
      "                   'rating', 'zip_code', 'zip_radius', \\\n",
      "                   'badge_hours', 'Bachelors', 'J.D.', \\\n",
      "                   'MBA', 'MD', 'MEd', 'Masters', 'PhD', \\\n",
      "                   'rating_x_number_of_ratings']\n",
      "\n",
      "d.possible_subjects = [x for x in d.df.columns if x in d.possible_subjects]\n",
      "\n",
      "usable_features.extend(d.possible_subjects)"
     ],
     "language": "python",
     "metadata": {},
     "outputs": [],
     "prompt_number": 15
    },
    {
     "cell_type": "markdown",
     "metadata": {},
     "source": [
      "Convert zip radius from string to float. Do the same with zip code... not sure if this makes sense, but I think that zip codes change smoothly with location. This would be a problem at a sharp boundary (say morningside heights to harlem), but this is probably better than treating zip codes as categorical. I'm sure other people have dealt with this."
     ]
    },
    {
     "cell_type": "code",
     "collapsed": false,
     "input": [
      "d.df['zip_radius'] = d.df['zip_radius'].apply(lambda x: np.float(x))\n",
      "d.df['zip_code'] = d.df['zip_code'].apply(lambda x: np.float(x))"
     ],
     "language": "python",
     "metadata": {},
     "outputs": [],
     "prompt_number": 16
    },
    {
     "cell_type": "markdown",
     "metadata": {},
     "source": [
      "Convert everything into floats"
     ]
    },
    {
     "cell_type": "code",
     "collapsed": false,
     "input": [
      "y = d.df['hourly_rate'].as_matrix().astype(np.float)\n",
      "X = d.df[usable_features].as_matrix().astype(np.float)\n",
      "\n",
      "scaler = preprocessing.StandardScaler()\n",
      "X = scaler.fit_transform(X)"
     ],
     "language": "python",
     "metadata": {},
     "outputs": [],
     "prompt_number": 17
    },
    {
     "cell_type": "code",
     "collapsed": false,
     "input": [
      "def stratified_cv(X, y, clf_class):\n",
      "    skf = cross_validation.StratifiedKFold(y, n_folds=10, shuffle=True)\n",
      "    y_pred = y.copy()\n",
      "    for train_index, test_index in skf:\n",
      "        X_train, X_test = X[train_index], X[test_index]\n",
      "        y_train = y[train_index]\n",
      "        clf_class.fit(X_train, y_train)\n",
      "        y_pred[test_index] = clf_class.predict(X_test)\n",
      "    return y_pred\n",
      "\n",
      "clf = ensemble.GradientBoostingRegressor()\n",
      "metrics.mean_squared_error(y, stratified_cv(X, y, clf))"
     ],
     "language": "python",
     "metadata": {},
     "outputs": [
      {
       "output_type": "stream",
       "stream": "stderr",
       "text": [
        "/home/ethan/.local/lib/python2.7/site-packages/sklearn/cross_validation.py:413: Warning: The least populated class in y has only 1 members, which is too few. The minimum number of labels for any class cannot be less than n_folds=10.\n",
        "  % (min_labels, self.n_folds)), Warning)\n"
       ]
      },
      {
       "metadata": {},
       "output_type": "pyout",
       "prompt_number": 18,
       "text": [
        "484.29412143387077"
       ]
      }
     ],
     "prompt_number": 18
    },
    {
     "cell_type": "code",
     "collapsed": false,
     "input": [],
     "language": "python",
     "metadata": {},
     "outputs": [],
     "prompt_number": 18
    },
    {
     "cell_type": "code",
     "collapsed": false,
     "input": [],
     "language": "python",
     "metadata": {},
     "outputs": [],
     "prompt_number": 18
    }
   ],
   "metadata": {}
  }
 ]
}